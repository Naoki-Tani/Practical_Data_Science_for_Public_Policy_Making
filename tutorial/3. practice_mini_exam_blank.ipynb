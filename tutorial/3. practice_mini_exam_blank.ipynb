{
 "cells": [
  {
   "cell_type": "markdown",
   "id": "17296dcb-d430-409e-9304-e3ae5a1c36fb",
   "metadata": {},
   "source": [
    "# 3. Practice mini exam ($15$ pts total)"
   ]
  },
  {
   "cell_type": "markdown",
   "id": "464ecca0-73e7-422f-8567-59c41573de0a",
   "metadata": {},
   "source": [
    "#### Naoki TANI\n",
    "#### Center for Advanced Policy Studies (CAPS), Institute of Economic Research, Kyoto University\n",
    "#### April 18, 2024\n",
    "#### 8:45 ~ 9:15"
   ]
  },
  {
   "cell_type": "code",
   "execution_count": null,
   "id": "4acc8505-8e1f-4b04-94bf-f9bc347d6b1a",
   "metadata": {},
   "outputs": [],
   "source": [
    "import numpy as np"
   ]
  },
  {
   "cell_type": "markdown",
   "id": "a371da6e-b1a2-4c50-8614-ab518225429c",
   "metadata": {},
   "source": [
    "### $\\mathit{Q}$-1. Consider the polynominal $p(x)=\\sum_{i=0}^n \\alpha_i x^i$. Using `enumerate()` in your loop, write a function $p(x)$ such that $p(x, \\alpha)$ computes the value given $x$ and an array of coefficients $\\alpha=(\\alpha_{0},\\alpha_{1},...,\\alpha_{n})$. ($5$ pts)"
   ]
  },
  {
   "cell_type": "code",
   "execution_count": null,
   "id": "1e2d65f9-5cc9-4f3c-88e2-a10cfbec393f",
   "metadata": {},
   "outputs": [],
   "source": []
  },
  {
   "cell_type": "code",
   "execution_count": null,
   "id": "7c8e5781-c4d6-4247-bb05-b0d99462bd22",
   "metadata": {},
   "outputs": [],
   "source": []
  },
  {
   "cell_type": "markdown",
   "id": "a61d78ec-3f88-4d6e-a9dd-7174c7ca358f",
   "metadata": {},
   "source": [
    "### $\\mathit{Q}$-2. Theil inequality decompostion method (practice session)"
   ]
  },
  {
   "cell_type": "markdown",
   "id": "fa1e0eb8-24c7-486b-96f7-f16c0feee890",
   "metadata": {},
   "source": [
    "Reference: Theil, Henri. 1967. *\"Economics and Information Theory.\"* Amsterdam, the Netherlands: North-Holland."
   ]
  },
  {
   "cell_type": "markdown",
   "id": "8fd1db22-4e2f-479a-a46e-82e0bad69bff",
   "metadata": {},
   "source": [
    "#### Suppose that a hypothetical economy consists of two groups with 15 people each. \n",
    "#### Personal income data for both groups ($G1$ and $G2$) are defined as follows:\n",
    "\n",
    "#### $$G1: [1, 2, 2, 2, 3, 3, 3, 3, 3, 4, 4, 5, 6, 8, 10]$$\n",
    "#### $$G2: [1, 2, 2, 3, 3, 3, 3, 4, 4, 4, 4, 5, 6, 7, 8]$$"
   ]
  },
  {
   "cell_type": "markdown",
   "id": "417f3332-d4a0-4e3b-b93b-b63030631e3d",
   "metadata": {},
   "source": [
    "#### $\\mathit{Q}$-2-1. Create Numpy arrays of personal income of $G1$ and $G2$. ($3$ pts)"
   ]
  },
  {
   "cell_type": "code",
   "execution_count": null,
   "id": "fea1724e-1381-489b-bff2-34f1d0b18151",
   "metadata": {},
   "outputs": [],
   "source": [
    "g1 = \n",
    "g2 = "
   ]
  },
  {
   "cell_type": "markdown",
   "id": "8a71c161-7370-4223-8c40-7a85c0cac258",
   "metadata": {},
   "source": [
    "#### $\\mathit{Q}$-2-2. Compute the overall mean income of the economy. ($3$ pts)"
   ]
  },
  {
   "cell_type": "code",
   "execution_count": null,
   "id": "36cbd8f3-67e0-4b94-b1d3-1d08eade3623",
   "metadata": {},
   "outputs": [],
   "source": []
  },
  {
   "cell_type": "code",
   "execution_count": null,
   "id": "6d84ab22-d465-4b72-84de-74d8a953574d",
   "metadata": {},
   "outputs": [],
   "source": [
    "print(f'The overall mean income is {round(g_m,3)}.')"
   ]
  },
  {
   "cell_type": "markdown",
   "id": "e4f1941a-c8d9-429b-ab68-389235d19e1d",
   "metadata": {},
   "source": [
    "#### $\\mathit{Q}$-2-3. Compute the total amount of inequality measured by Theil's *T*, which is defined as follows:  ($4$ pts)\n",
    "#### $$T_T = \\frac{1}{N}\\sum^{N}_{i=1}\\frac{x_i}{\\bar{x}}\\ln \\frac{x_i}{\\bar{x}}$$"
   ]
  },
  {
   "cell_type": "code",
   "execution_count": null,
   "id": "54ff9f1b-fd61-4460-9790-c774869a375d",
   "metadata": {},
   "outputs": [],
   "source": []
  },
  {
   "cell_type": "code",
   "execution_count": null,
   "id": "ce4cbf2c-1f2c-4441-a8f6-2ad931e773bd",
   "metadata": {},
   "outputs": [],
   "source": []
  }
 ],
 "metadata": {
  "kernelspec": {
   "display_name": "Python 3 (ipykernel)",
   "language": "python",
   "name": "python3"
  },
  "language_info": {
   "codemirror_mode": {
    "name": "ipython",
    "version": 3
   },
   "file_extension": ".py",
   "mimetype": "text/x-python",
   "name": "python",
   "nbconvert_exporter": "python",
   "pygments_lexer": "ipython3",
   "version": "3.10.7"
  }
 },
 "nbformat": 4,
 "nbformat_minor": 5
}
