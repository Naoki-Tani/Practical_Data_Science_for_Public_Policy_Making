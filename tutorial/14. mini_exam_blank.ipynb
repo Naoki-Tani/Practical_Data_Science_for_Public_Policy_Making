{
 "cells": [
  {
   "cell_type": "markdown",
   "id": "17296dcb-d430-409e-9304-e3ae5a1c36fb",
   "metadata": {},
   "source": [
    "# 14. Mini exam (**$15$** pts total)"
   ]
  },
  {
   "cell_type": "markdown",
   "id": "464ecca0-73e7-422f-8567-59c41573de0a",
   "metadata": {},
   "source": [
    "#### Naoki TANI\n",
    "#### Center for Advanced Policy Studies (CAPS), Institute of Economic Research, Kyoto University\n",
    "#### May 30, 2024\n",
    "#### 8:45 ~ 9:00"
   ]
  },
  {
   "cell_type": "code",
   "execution_count": 1,
   "id": "a13d06c0-80f2-4eed-9121-8dd37104b81f",
   "metadata": {},
   "outputs": [],
   "source": [
    "import numpy as np\n",
    "import pandas as pd\n",
    "import matplotlib.pyplot as plt\n",
    "from IPython.display import Image\n",
    "from statsmodels.formula.api import ols, logit, probit\n",
    "from statsmodels.iolib.summary2 import summary_col"
   ]
  },
  {
   "cell_type": "markdown",
   "id": "3a23d227-8eeb-4c88-85cd-ce8e8f9071fc",
   "metadata": {},
   "source": [
    "## $\\mathit{Q}$-1. サーベイデータの分析\n",
    "### $\\mathit{Q}$-1-1. `kochi_survey_mikon.csv` のデータを用いて、回答者が結婚相手に求める年収（問$9$）が、その回答者自身の年収（$F6$）以上の場合に$1$をとり、それ未満の場合に$0$をとる二値変数(`wish_higher_equal`)を作成せよ。ただし、データに制約があるため、回答者自身の年収が$200$万円未満の場合には、結婚相手に求める年収が$200$万円以上の時に$1$をとることとし、回答者自身の年収が$800$万円の以上の場合には、結婚相手に求める年収が$700$万円以上の時に$1$をとることとする。最後に、男女それぞれについて、`wish_higher_equal`が$1$をとる者の割合を計算し報告せよ。(**$7$** pts)"
   ]
  },
  {
   "cell_type": "code",
   "execution_count": null,
   "id": "9786397d-9c82-41ee-aeb0-3bc970085c90",
   "metadata": {},
   "outputs": [],
   "source": []
  },
  {
   "cell_type": "code",
   "execution_count": null,
   "id": "0f4f61ec-b2da-4a83-991e-d94e418210b5",
   "metadata": {},
   "outputs": [],
   "source": []
  },
  {
   "cell_type": "code",
   "execution_count": null,
   "id": "6af7021b-1ab3-4bb9-933d-05a8966efd08",
   "metadata": {},
   "outputs": [],
   "source": []
  },
  {
   "cell_type": "code",
   "execution_count": null,
   "id": "b6030c71-bb3a-4c0f-80c0-c2e5b60774fb",
   "metadata": {},
   "outputs": [],
   "source": []
  },
  {
   "cell_type": "markdown",
   "id": "221cfbf2-4a8a-4557-b84c-c0586284273e",
   "metadata": {},
   "source": [
    "### $\\mathit{Q}$-1-2. 回答者が結婚相手に求める年収（問$9$）と、その回答者自身の年収（$F6$）の関係について、前者を列に、後者を行にして、各欄に対応する人数を集計した表を男女それぞれについて作成せよ。男女それぞれの表を比較し、気づいたことを考察せよ。ただし、集計の際には学生（$F4$）はサンプルから除外せよ。(**$8$** pts)"
   ]
  },
  {
   "cell_type": "code",
   "execution_count": null,
   "id": "2e922bcd-caef-408f-8207-a865698bb7ee",
   "metadata": {},
   "outputs": [],
   "source": []
  },
  {
   "cell_type": "code",
   "execution_count": null,
   "id": "f1754bad-0229-4d23-b980-fe241a8fdbd1",
   "metadata": {},
   "outputs": [],
   "source": []
  },
  {
   "cell_type": "code",
   "execution_count": null,
   "id": "5be8dbdb-d1c7-4e4f-b9b2-0f6d14f69dcd",
   "metadata": {},
   "outputs": [],
   "source": []
  },
  {
   "cell_type": "markdown",
   "id": "3ed1eded-8315-4492-a7ea-2bdcd6cbe39e",
   "metadata": {},
   "source": [
    "### $\\mathit{Q}$-1-3. 二値変数`wish_higher_equal`を被説明変数とし、説明変数を回答者自身の年収及びその他の関連する変数としたOLS推定（Linear Probability Model (LPM)）を男女それぞれについて行った上で、回答者の属性と「結婚相手に自分自身以上の年収を求める確率」の間の関係を考察せよ。ただし、分析においては学生（$F4$）はサンプルから除外せよ。(Bonus)"
   ]
  },
  {
   "cell_type": "code",
   "execution_count": null,
   "id": "722ce977-a8be-4958-be29-914c97410485",
   "metadata": {},
   "outputs": [],
   "source": []
  },
  {
   "cell_type": "code",
   "execution_count": null,
   "id": "12c41be6-510e-4ba1-b337-c6d70366c58d",
   "metadata": {},
   "outputs": [],
   "source": []
  },
  {
   "cell_type": "code",
   "execution_count": null,
   "id": "24045680-b03a-44ce-bd74-edaab9b74462",
   "metadata": {},
   "outputs": [],
   "source": []
  }
 ],
 "metadata": {
  "kernelspec": {
   "display_name": "Python 3 (ipykernel)",
   "language": "python",
   "name": "python3"
  },
  "language_info": {
   "codemirror_mode": {
    "name": "ipython",
    "version": 3
   },
   "file_extension": ".py",
   "mimetype": "text/x-python",
   "name": "python",
   "nbconvert_exporter": "python",
   "pygments_lexer": "ipython3",
   "version": "3.10.7"
  }
 },
 "nbformat": 4,
 "nbformat_minor": 5
}
