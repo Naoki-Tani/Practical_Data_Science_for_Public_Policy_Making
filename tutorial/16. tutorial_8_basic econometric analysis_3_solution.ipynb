{
 "cells": [
  {
   "cell_type": "markdown",
   "id": "17296dcb-d430-409e-9304-e3ae5a1c36fb",
   "metadata": {},
   "source": [
    "# 16. Tutorial 8: Basic econometric analysis (3)"
   ]
  },
  {
   "cell_type": "markdown",
   "id": "464ecca0-73e7-422f-8567-59c41573de0a",
   "metadata": {},
   "source": [
    "#### Naoki TANI\n",
    "#### Center for Advanced Policy Studies (CAPS), Institute of Economic Research, Kyoto University\n",
    "#### May 30, 2024"
   ]
  },
  {
   "cell_type": "code",
   "execution_count": 1,
   "id": "a13d06c0-80f2-4eed-9121-8dd37104b81f",
   "metadata": {},
   "outputs": [
    {
     "name": "stderr",
     "output_type": "stream",
     "text": [
      "\n",
      "KeyboardInterrupt\n",
      "\n"
     ]
    }
   ],
   "source": [
    "import numpy as np\n",
    "import pandas as pd\n",
    "import matplotlib.pyplot as plt\n",
    "from IPython.display import Image\n",
    "from statsmodels.formula.api import ols, logit, probit\n",
    "from statsmodels.iolib.summary2 import summary_col"
   ]
  },
  {
   "cell_type": "markdown",
   "id": "b956d6bb-d2f3-4ba1-9717-4f29ade6c089",
   "metadata": {
    "tags": []
   },
   "source": [
    "## 1. Difference-in-Differences (DiD)\n",
    "### 1-1. Introduction\n",
    "#### DiD is one of the most common approaches for analyzing the causal effect of policy intervention.\n",
    "#### We start with the canonical version of DiD with $2$ periods and $2$ groups.\n",
    "#### ・2 periods: `t` (before the intervention) and `t+1` (after the intervention).\n",
    "#### ・2 groups: `treated` and `untreated`."
   ]
  },
  {
   "cell_type": "markdown",
   "id": "e942147e-39e1-4dc4-bd71-c03a28e7104c",
   "metadata": {},
   "source": [
    "#### Suppose that\n",
    "#### ・$Y_{treated,t}$ is treated group's outcome before treatment period.\n",
    "#### ・$Y_{untreated,t}$ is untreated group's outcome before treatment period.\n",
    "#### ・$Y_{untreated,t+1}$ is untreated group's outcome after treatment period.\n",
    "#### ・$Y_{treated,t+1}(1)$ is treated group's treated outcome after treatment period.\n",
    "#### ・$Y_{treated,t+1}(0)$ is treated group's untreated outcome after treatment period (unobserved)."
   ]
  },
  {
   "cell_type": "markdown",
   "id": "b661c0e2-e29c-4455-a36e-70428ee00598",
   "metadata": {},
   "source": [
    "#### The average treatment effect is\n",
    "#### $$\\text{ATE} = Y_{treated,t+1}(1) - Y_{treated,t+1}(0),$$\n",
    "#### but we do not observe $Y_{treated,t+1}(0)$.\n",
    "#### We estimate it by using parallel trends assumption.\n",
    "#### $$\\widehat{\\text{ATE}} = (Y_{treated,t+1}(1) - Y_{treated,t}) - (Y_{untreated,t+1} - Y_{untreated,t})$$"
   ]
  },
  {
   "cell_type": "markdown",
   "id": "2e2ac618-0f4c-4039-8f86-fbc4aca850d3",
   "metadata": {},
   "source": [
    "#### We can obtain $\\widehat{\\text{ATE}}$ by estimating $\\delta$ of the linear regression model.\n",
    "#### $$Y_{it} = \\alpha + \\beta \\text{Treated_group}_i + \\gamma \\text{Treated_period}_t + \\delta \\text{Treated_group}_i \\times \\text{Treated_period}_it + \\epsilon_{it}$$"
   ]
  },
  {
   "cell_type": "code",
   "execution_count": null,
   "id": "2b1836fc-b425-4ff8-9225-7c70b5e2a39d",
   "metadata": {},
   "outputs": [],
   "source": [
    "## Example of consumption data\n",
    "establishment = pd.read_csv('R3census_b1_006_1.csv')\n",
    "establishment.drop(index=[0,1,2,3,4], inplace=True)\n",
    "\n",
    "# replace values of some cells in order to use the column of index \"0\" as a new column index. \n",
    "establishment.iloc[0,:5] = establishment.iloc[2,:5]\n",
    "establishment.set_axis(establishment.iloc[0,:], axis=1, inplace=True)\n",
    "establishment\n",
    "\n",
    "establishment.drop(index=[5,6,7], inplace=True)\n",
    "\n",
    "# Extract relevant columns\n",
    "establishment = establishment.loc[:,['地域区分','産業大分類','産業中分類','事業所数']]\n",
    "\n",
    "#establishment['地域区分'].str.split('_', expand=True)\n",
    "establishment = pd.concat([establishment, establishment['地域区分'].str.split('_', expand=True)], axis=1)\n",
    "establishment.rename(columns={0: 'city_code', 1: 'city'}, inplace=True)\n",
    "establishment.drop('地域区分',axis=1,inplace=True)\n",
    "\n",
    "# convert data type\n",
    "establishment['city_code'] = establishment['city_code'].astype('int64')\n",
    "\n",
    "# Convert object to integer\n",
    "establishment['事業所数'] = establishment['事業所数'].str.replace(',', '')\n",
    "establishment['事業所数'] = establishment['事業所数'].replace('-','0').astype('int64')\n",
    "\n",
    "# We want to get data of cities in `高知県`, `高松市`, `徳島市`, and `松山市`. \n",
    "establishment = establishment.loc[((establishment['city_code']>=39201) & (establishment['city_code']<=39428)) | #高知県内の市町村\n",
    "                                  (establishment['city_code']==37201) | #高松市\n",
    "                                  (establishment['city_code']==36201) | #徳島市\n",
    "                                  (establishment['city_code']==38201)   #松山市\n",
    "                                 ]\n",
    "\n",
    "# Get number of establishments of \"卸売業、小売業\"\n",
    "establishment = establishment.loc[establishment['産業大分類']=='I']\n",
    "\n",
    "# Rename the column names\n",
    "establishment.rename(columns={'事業所数':'num_establishments_retail'}, inplace=True)\n",
    "\n",
    "# Drop unnecessary columns\n",
    "establishment.drop(['産業大分類','産業中分類','city_code'], axis=1, inplace=True)\n",
    "\n",
    "establishment;"
   ]
  },
  {
   "cell_type": "code",
   "execution_count": null,
   "id": "8a7fea9f-6678-467c-9cd3-5c104651cfbc",
   "metadata": {},
   "outputs": [],
   "source": [
    "df = pd.read_csv('consumption_data.csv')\n",
    "\n",
    "# drop rows if all values in the rows are NaN\n",
    "df.dropna(how='all', inplace=True)\n",
    "\n",
    "# rename column name\n",
    "df.rename(columns={'決済日 の週':'week',\n",
    "                 '業種①':'industry',\n",
    "                 '性別':'sex',\n",
    "                 '年代':'age',\n",
    "                 '市区町村':'city',\n",
    "                 '居住地方①':'residence',\n",
    "                 '人数':'num_user',\n",
    "                 '金額':'value',\n",
    "                 '件数':'num_uses'}, inplace=True)\n",
    "\n",
    "#import datatime module\n",
    "from datetime import datetime\n",
    "# convert \"年月日\" string to datetime by using datetime module.\n",
    "df['week'] = df['week'].map(lambda x: datetime.strptime(x,'%Y年%m月%d日'))\n",
    "\n",
    "# Add \"year\" column\n",
    "df['year'] = 2023\n",
    "df.loc[df['week']<pd.to_datetime('2020-1-1'), 'year'] = 2019\n",
    "\n",
    "# Convert object to integer\n",
    "df['value'] = df['value'].str.replace(',', '').astype(int)\n",
    "\n",
    "# \"秘匿項目\"\n",
    "df['num_user'] = df['num_user'].replace(0.0,np.nan)\n",
    "df['num_uses'] = df['num_uses'].replace(0.0,np.nan)\n",
    "\n",
    "# Correct wrong city name\n",
    "df['city'] = df['city'].replace('中村市','四万十市')\n",
    "df['city'] = df['city'].replace('香美郡赤岡町','香南市')\n",
    "df['city'] = df['city'].replace('香美郡土佐山田町','香美市')\n",
    "df['city'] = df['city'].replace('吾川郡伊野町','吾川郡いの町')\n",
    "\n",
    "# Remove \"~~郡\" from city column\n",
    "import re\n",
    "\n",
    "df['city'] = df['city'].map(lambda x: re.sub('吾川郡','',x))\n",
    "df['city'] = df['city'].map(lambda x: re.sub('安芸郡','',x))\n",
    "df['city'] = df['city'].map(lambda x: re.sub('幡多郡','',x))\n",
    "df['city'] = df['city'].map(lambda x: re.sub('高岡郡','',x))\n",
    "df['city'] = df['city'].map(lambda x: re.sub('長岡郡','',x))\n",
    "\n",
    "# combine 2 DataFrames\n",
    "df = pd.merge(df, establishment)\n",
    "\n",
    "# extract data in 2023\n",
    "df = df.loc[df['year']==2023]\n",
    "\n",
    "df;"
   ]
  },
  {
   "cell_type": "code",
   "execution_count": null,
   "id": "ceb8c07f-bf48-47fd-a994-8119c515eb15",
   "metadata": {},
   "outputs": [],
   "source": [
    "df_gr = df.groupby(['city','week','num_establishments_retail']).agg({'value': 'sum'})\n",
    "df_gr\n",
    "\n",
    "# Transform multi-index to single index\n",
    "df_gr.reset_index(level=['week','city','num_establishments_retail'], inplace=True)\n",
    "\n",
    "# extract `高知市`, `高松市`, `徳島市`, `松山市`\n",
    "df_gr  = df_gr.loc[(df_gr['city']=='高知市') | (df_gr['city']=='高松市')| (df_gr['city']=='徳島市')| (df_gr['city']=='松山市')]\n",
    "\n",
    "# extract March and Aprl\n",
    "df_gr = df_gr.loc[(df_gr['week']>=pd.to_datetime('2023-3-5')) & (df_gr['week']<=pd.to_datetime('2023-4-29'))]\n",
    "\n",
    "df_gr;"
   ]
  },
  {
   "cell_type": "code",
   "execution_count": null,
   "id": "db5a2946-4fd7-481f-8864-ea3b4e40724b",
   "metadata": {},
   "outputs": [],
   "source": [
    "pd.to_datetime('2023-3-5')"
   ]
  },
  {
   "cell_type": "code",
   "execution_count": null,
   "id": "4bf65b81-d41d-4978-ac08-e1284acb1844",
   "metadata": {},
   "outputs": [],
   "source": [
    "figure, ax  = plt.subplots(dpi=140)\n",
    "#vertical line\n",
    "ax.axvline(pd.to_datetime('2023-4-2'), linestyle=':', color=\"gray\", linewidth = 1)\n",
    "\n",
    "ax.plot(df_gr.loc[df_gr['city']=='高知市']['week'], df_gr.loc[df_gr['city']=='高知市']['value'], color='red', label=\"高知市\")\n",
    "ax.plot(df_gr.loc[df_gr['city']=='徳島市']['week'], df_gr.loc[df_gr['city']=='徳島市']['value'], color='blue', label=\"徳島市\")\n",
    "ax.plot(df_gr.loc[df_gr['city']=='高松市']['week'], df_gr.loc[df_gr['city']=='高松市']['value'], color='orange', label=\"高松市\")\n",
    "ax.plot(df_gr.loc[df_gr['city']=='松山市']['week'], df_gr.loc[df_gr['city']=='松山市']['value'], color='green', label=\"松山市\")\n",
    "###########################################################################\n",
    "ax.legend(bbox_to_anchor=(1.05, 0.5), prop = {'family' : 'MS Gothic'}, loc='center left') #place legend outside the plot\n",
    "ax.set_ylabel(r'$F_{N}(q_{n}(p))-p$',fontsize=10)\n",
    "ax.set_xlabel(\"高知市、高松市、徳島市、松山市の消費額\", fontname = 'MS Gothic',fontsize=10)\n",
    "ax.tick_params(labelsize=7)\n",
    "ax.set_title(\"高知市、高松市、徳島市、松山市の消費額（2023年、3-4月）\", fontname = 'MS Gothic')"
   ]
  },
  {
   "cell_type": "code",
   "execution_count": null,
   "id": "5092b85e-88b7-404e-9ba6-f44592719cbe",
   "metadata": {},
   "outputs": [],
   "source": [
    "# extract two groups (高知市 and 高松市) and two periods (March and May)\n",
    "df_gr  = df_gr.loc[(df_gr['city']=='高知市') | (df_gr['city']=='高松市')]\n",
    "\n",
    "#treated group dummy\n",
    "df_gr['treated_group'] = 0\n",
    "df_gr.loc[df_gr['city']=='高知市', 'treated_group'] =1\n",
    "\n",
    "#treated period dummy\n",
    "df_gr['treated_period'] = 0\n",
    "df_gr.loc[df_gr['week']>=pd.to_datetime('2023-4-1'), 'treated_period'] =1\n",
    "\n",
    "#treated group and period dummy\n",
    "df_gr['treated_group_period'] = 0\n",
    "df_gr.loc[(df_gr['week']>=pd.to_datetime('2023-4-1')) & (df_gr['city']=='高知市'), 'treated_group_period'] =1\n",
    "\n",
    "df_gr;"
   ]
  },
  {
   "cell_type": "code",
   "execution_count": null,
   "id": "1e51ff88-dad7-4bfb-8394-51c4ba79bbb4",
   "metadata": {},
   "outputs": [],
   "source": []
  },
  {
   "cell_type": "markdown",
   "id": "a140854f-ed52-4dbc-93ee-a753f0944ed3",
   "metadata": {},
   "source": [
    "#### It is possible to specify aggregation methods."
   ]
  },
  {
   "cell_type": "code",
   "execution_count": null,
   "id": "041cb965-28a8-4fec-889d-5921d8afce54",
   "metadata": {},
   "outputs": [],
   "source": []
  },
  {
   "cell_type": "markdown",
   "id": "d9c10b1c-20a6-4c16-a4cf-476406f480a2",
   "metadata": {},
   "source": [
    "### 2-4. Scatterplot"
   ]
  },
  {
   "cell_type": "code",
   "execution_count": null,
   "id": "7a61e7e6-3dbc-4c2b-8602-dcc5f7f5a781",
   "metadata": {},
   "outputs": [],
   "source": [
    "figure, ax  = plt.subplots(dpi=120)\n",
    "ax.scatter(df_gr['num_establishments_retail'], df_gr['value']/1000000)\n",
    "###########################################################################\n",
    "ax.legend(bbox_to_anchor=(1.05, 0.5), prop = {'family' : 'MS Gothic'}, loc='center left') #place legend outside the plot\n",
    "#ax.set_xlim(0, 1000)\n",
    "#ax.set_ylim(0, 1000)\n",
    "ax.set_ylabel(\"消費額（百万円）\", fontname = 'MS Gothic')\n",
    "ax.set_xlabel(\"事業所数\", fontname = 'MS Gothic')\n",
    "#ax.set_xlabel(\"percentile of industrial group earnings distribution\")\n",
    "ax.set_title(\"卸売業・小売業の事業所数と消費額の関係\", pad = 20, fontname = 'MS Gothic')\n",
    "figure.subplots_adjust(top=1.05, bottom=0.15) "
   ]
  },
  {
   "cell_type": "code",
   "execution_count": null,
   "id": "8892018d-01a5-419a-a4e3-4de6d1d7d91b",
   "metadata": {},
   "outputs": [],
   "source": [
    "df_gr"
   ]
  },
  {
   "cell_type": "code",
   "execution_count": null,
   "id": "6205732d-6f06-4cb2-a324-ff1b21c77c4b",
   "metadata": {},
   "outputs": [],
   "source": []
  },
  {
   "cell_type": "code",
   "execution_count": null,
   "id": "85734dfd-2ba5-43f0-ba04-09669cc1a63f",
   "metadata": {},
   "outputs": [],
   "source": [
    "formula = 'value ~ 1 + treated_group + C(week) + treated_group_period'\n",
    "model = ols(formula, data=df_gr).fit()"
   ]
  },
  {
   "cell_type": "code",
   "execution_count": null,
   "id": "89061498-304c-4c65-83dc-28e8159cfbb8",
   "metadata": {},
   "outputs": [],
   "source": [
    "res = summary_col(model, stars=True, float_format='%0.4f',\n",
    "                           info_dict={'N': lambda x: \"{0:d}\".format(int(x.nobs))},drop_omitted=True)\n",
    "print(res)"
   ]
  },
  {
   "cell_type": "code",
   "execution_count": null,
   "id": "7437f594-ab08-4342-80ac-333482c30439",
   "metadata": {},
   "outputs": [],
   "source": []
  }
 ],
 "metadata": {
  "kernelspec": {
   "display_name": "Python 3 (ipykernel)",
   "language": "python",
   "name": "python3"
  },
  "language_info": {
   "codemirror_mode": {
    "name": "ipython",
    "version": 3
   },
   "file_extension": ".py",
   "mimetype": "text/x-python",
   "name": "python",
   "nbconvert_exporter": "python",
   "pygments_lexer": "ipython3",
   "version": "3.10.7"
  }
 },
 "nbformat": 4,
 "nbformat_minor": 5
}
