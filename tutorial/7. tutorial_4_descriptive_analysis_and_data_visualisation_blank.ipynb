{
 "cells": [
  {
   "cell_type": "markdown",
   "id": "17296dcb-d430-409e-9304-e3ae5a1c36fb",
   "metadata": {},
   "source": [
    "# 7. Tutorial 4 and 5: Descriptive analysis and data visualisation"
   ]
  },
  {
   "cell_type": "markdown",
   "id": "464ecca0-73e7-422f-8567-59c41573de0a",
   "metadata": {},
   "source": [
    "#### Naoki TANI\n",
    "#### Center for Advanced Policy Studies (CAPS), Institute of Economic Research, Kyoto University\n",
    "#### April 25 and May 9, 2024"
   ]
  },
  {
   "cell_type": "code",
   "execution_count": 1,
   "id": "a13d06c0-80f2-4eed-9121-8dd37104b81f",
   "metadata": {},
   "outputs": [],
   "source": [
    "import numpy as np\n",
    "import pandas as pd\n",
    "import matplotlib.pyplot as plt"
   ]
  },
  {
   "cell_type": "markdown",
   "id": "18d0109f-b1c2-442b-92f2-c308621cb80e",
   "metadata": {
    "tags": []
   },
   "source": [
    "## 1. Descriptive analysis with pandas"
   ]
  },
  {
   "cell_type": "markdown",
   "id": "c3907182-85a4-46f6-977f-82cc59af799e",
   "metadata": {},
   "source": [
    "### 1-1. Pandas `Series` and `DataFrame`"
   ]
  },
  {
   "cell_type": "markdown",
   "id": "5fbe6d2a-21c2-4121-804c-884e0ce09e10",
   "metadata": {},
   "source": [
    "#### [pandas](https://pandas.pydata.org/) is a python library providing a dataframe object to help you manage data. This lecture covers how to use `Series` and `DataFrame` objects to handle data.\n",
    "#### `Series` is a one-dimensional array holdking any type of indexed data. All the data in a Series is of the same data type."
   ]
  },
  {
   "cell_type": "code",
   "execution_count": 2,
   "id": "20837af8-fed1-4c15-8a28-a46cc81bc4e6",
   "metadata": {},
   "outputs": [
    {
     "data": {
      "text/plain": [
       "0        Kochi\n",
       "1        Ehime\n",
       "2       Kagawa\n",
       "3    Tokushima\n",
       "dtype: object"
      ]
     },
     "execution_count": 2,
     "metadata": {},
     "output_type": "execute_result"
    }
   ],
   "source": [
    "pref = ['Kochi', 'Ehime', 'Kagawa', 'Tokushima']\n",
    "prefecture = pd.Series(pref)\n",
    "prefecture # The values are labeled with their index number. First value has index 0, second value has index 1 etc."
   ]
  },
  {
   "cell_type": "markdown",
   "id": "0b8394e8-529c-41a5-b231-eb3ab0f8909d",
   "metadata": {},
   "source": [
    "#### The `Series` is composed of the values and index attributes."
   ]
  },
  {
   "cell_type": "code",
   "execution_count": 3,
   "id": "1a989ee8-afd0-4024-a3ef-63e8b15b9ab9",
   "metadata": {},
   "outputs": [
    {
     "name": "stdout",
     "output_type": "stream",
     "text": [
      "['Kochi' 'Ehime' 'Kagawa' 'Tokushima']\n",
      "RangeIndex(start=0, stop=4, step=1)\n"
     ]
    }
   ],
   "source": [
    "print(prefecture.values)\n",
    "print(prefecture.index)"
   ]
  },
  {
   "cell_type": "code",
   "execution_count": 4,
   "id": "8fb83028-ccf5-4c11-b6ef-112da4969f82",
   "metadata": {},
   "outputs": [
    {
     "data": {
      "text/plain": [
       "'Ehime'"
      ]
     },
     "execution_count": 4,
     "metadata": {},
     "output_type": "execute_result"
    }
   ],
   "source": [
    "prefecture[1]"
   ]
  },
  {
   "cell_type": "markdown",
   "id": "8b8651a2-2e25-4a42-90fd-f127f6769232",
   "metadata": {},
   "source": [
    "#### `DataFrame` is a two-dimensional table of data with columns and rows. The columns are made up of `Series` objects."
   ]
  },
  {
   "cell_type": "code",
   "execution_count": 5,
   "id": "42df435c-b09f-4b31-a2ea-4fe2904ba407",
   "metadata": {},
   "outputs": [
    {
     "data": {
      "text/html": [
       "<div>\n",
       "<style scoped>\n",
       "    .dataframe tbody tr th:only-of-type {\n",
       "        vertical-align: middle;\n",
       "    }\n",
       "\n",
       "    .dataframe tbody tr th {\n",
       "        vertical-align: top;\n",
       "    }\n",
       "\n",
       "    .dataframe thead th {\n",
       "        text-align: right;\n",
       "    }\n",
       "</style>\n",
       "<table border=\"1\" class=\"dataframe\">\n",
       "  <thead>\n",
       "    <tr style=\"text-align: right;\">\n",
       "      <th></th>\n",
       "      <th>population</th>\n",
       "      <th>gdp</th>\n",
       "      <th>income</th>\n",
       "    </tr>\n",
       "  </thead>\n",
       "  <tbody>\n",
       "    <tr>\n",
       "      <th>Kochi</th>\n",
       "      <td>736000</td>\n",
       "      <td>2349510000000</td>\n",
       "      <td>1866110000000</td>\n",
       "    </tr>\n",
       "    <tr>\n",
       "      <th>Ehime</th>\n",
       "      <td>1396000</td>\n",
       "      <td>4756495000000</td>\n",
       "      <td>3516676000000</td>\n",
       "    </tr>\n",
       "    <tr>\n",
       "      <th>Kagawa</th>\n",
       "      <td>980000</td>\n",
       "      <td>3672273000000</td>\n",
       "      <td>2835364000000</td>\n",
       "    </tr>\n",
       "    <tr>\n",
       "      <th>Tokushima</th>\n",
       "      <td>763000</td>\n",
       "      <td>3012328000000</td>\n",
       "      <td>2219318000000</td>\n",
       "    </tr>\n",
       "  </tbody>\n",
       "</table>\n",
       "</div>"
      ],
      "text/plain": [
       "           population            gdp         income\n",
       "Kochi          736000  2349510000000  1866110000000\n",
       "Ehime         1396000  4756495000000  3516676000000\n",
       "Kagawa         980000  3672273000000  2835364000000\n",
       "Tokushima      763000  3012328000000  2219318000000"
      ]
     },
     "execution_count": 5,
     "metadata": {},
     "output_type": "execute_result"
    }
   ],
   "source": [
    "prefstat = pd.DataFrame({'population':[736000,1396000,980000,763000],\n",
    "                          'gdp':[2349510000000,4756495000000,3672273000000,3012328000000],\n",
    "                          'income':[1866110000000,3516676000000,2835364000000,2219318000000]},\n",
    "                           index=prefecture)\n",
    "prefstat"
   ]
  },
  {
   "cell_type": "code",
   "execution_count": 6,
   "id": "5fe8ed35-e6dc-4026-9467-9dcc8e7dae71",
   "metadata": {},
   "outputs": [
    {
     "data": {
      "text/plain": [
       "Index(['population', 'gdp', 'income'], dtype='object')"
      ]
     },
     "execution_count": 6,
     "metadata": {},
     "output_type": "execute_result"
    }
   ],
   "source": [
    "prefstat.values\n",
    "prefstat.index\n",
    "prefstat.columns"
   ]
  },
  {
   "cell_type": "code",
   "execution_count": 7,
   "id": "5fb1ff85-48c5-4128-9a06-e9d567525ccd",
   "metadata": {},
   "outputs": [
    {
     "data": {
      "text/html": [
       "<div>\n",
       "<style scoped>\n",
       "    .dataframe tbody tr th:only-of-type {\n",
       "        vertical-align: middle;\n",
       "    }\n",
       "\n",
       "    .dataframe tbody tr th {\n",
       "        vertical-align: top;\n",
       "    }\n",
       "\n",
       "    .dataframe thead th {\n",
       "        text-align: right;\n",
       "    }\n",
       "</style>\n",
       "<table border=\"1\" class=\"dataframe\">\n",
       "  <thead>\n",
       "    <tr style=\"text-align: right;\">\n",
       "      <th></th>\n",
       "      <th>population</th>\n",
       "      <th>gdp</th>\n",
       "      <th>income</th>\n",
       "      <th>gdp_per_capita</th>\n",
       "    </tr>\n",
       "  </thead>\n",
       "  <tbody>\n",
       "    <tr>\n",
       "      <th>Kochi</th>\n",
       "      <td>736000</td>\n",
       "      <td>2349510000000</td>\n",
       "      <td>1866110000000</td>\n",
       "      <td>3.192269e+06</td>\n",
       "    </tr>\n",
       "    <tr>\n",
       "      <th>Ehime</th>\n",
       "      <td>1396000</td>\n",
       "      <td>4756495000000</td>\n",
       "      <td>3516676000000</td>\n",
       "      <td>3.407231e+06</td>\n",
       "    </tr>\n",
       "    <tr>\n",
       "      <th>Kagawa</th>\n",
       "      <td>980000</td>\n",
       "      <td>3672273000000</td>\n",
       "      <td>2835364000000</td>\n",
       "      <td>3.747217e+06</td>\n",
       "    </tr>\n",
       "    <tr>\n",
       "      <th>Tokushima</th>\n",
       "      <td>763000</td>\n",
       "      <td>3012328000000</td>\n",
       "      <td>2219318000000</td>\n",
       "      <td>3.948005e+06</td>\n",
       "    </tr>\n",
       "  </tbody>\n",
       "</table>\n",
       "</div>"
      ],
      "text/plain": [
       "           population            gdp         income  gdp_per_capita\n",
       "Kochi          736000  2349510000000  1866110000000    3.192269e+06\n",
       "Ehime         1396000  4756495000000  3516676000000    3.407231e+06\n",
       "Kagawa         980000  3672273000000  2835364000000    3.747217e+06\n",
       "Tokushima      763000  3012328000000  2219318000000    3.948005e+06"
      ]
     },
     "execution_count": 7,
     "metadata": {},
     "output_type": "execute_result"
    }
   ],
   "source": [
    "prefstat['gdp_per_capita'] = prefstat['gdp'] / prefstat['population']\n",
    "prefstat"
   ]
  },
  {
   "cell_type": "code",
   "execution_count": 8,
   "id": "6717bef0-d3b6-4f85-b6fe-eaf845e19961",
   "metadata": {},
   "outputs": [
    {
     "data": {
      "text/plain": [
       "Kochi         736000\n",
       "Ehime        1396000\n",
       "Kagawa        980000\n",
       "Tokushima     763000\n",
       "Name: population, dtype: int64"
      ]
     },
     "execution_count": 8,
     "metadata": {},
     "output_type": "execute_result"
    }
   ],
   "source": [
    "prefstat.population"
   ]
  },
  {
   "cell_type": "markdown",
   "id": "6e69adab-4059-4185-bdc3-27cce0a916e9",
   "metadata": {},
   "source": [
    "### 1-2. Extract relevant columns and rows"
   ]
  },
  {
   "cell_type": "markdown",
   "id": "d2b1285b-8746-4b70-96a4-fc6aabc502fb",
   "metadata": {},
   "source": [
    "#### Now we use \"令和３年経済センサス‐活動調査\" to learn data manipulation using Pandas.\n",
    "#### URL: https://www.e-stat.go.jp/stat-search/files?page=1&toukei=00200553&tstat=000001145590\n",
    "#### \"事業所に関する集計\" > \"産業横断的集計\" > \"事業所数、従業者数\" > \"6-1 産業(中分類)別民営事業所数、男女別従業者数、常用雇用者数、出向・派遣従業者数及び事業従事者数－全国、都道府県、市区町村\""
   ]
  },
  {
   "cell_type": "code",
   "execution_count": null,
   "id": "acfcf73d-df4f-482b-8505-565139c8866a",
   "metadata": {},
   "outputs": [],
   "source": [
    "## We can read CSV files by using a pandan read_csv method.\n",
    "establishment = pd.read_csv('R3census_b1_006_1.csv')\n",
    "establishment"
   ]
  },
  {
   "cell_type": "markdown",
   "id": "3aca0500-f235-49bd-850b-6dc593c55987",
   "metadata": {},
   "source": [
    "#### We can access elements of `DataFrame` using `iloc[]` and `loc` methods: we use `iloc[]` to access elements by integer index and `loc[]` to access by the index value."
   ]
  },
  {
   "cell_type": "code",
   "execution_count": null,
   "id": "6bbb1453-daed-47d4-bf04-e1ebcf9ea8c5",
   "metadata": {},
   "outputs": [],
   "source": [
    "establishment.iloc[0,-10]\n",
    "establishment.iloc[0,0]"
   ]
  },
  {
   "cell_type": "markdown",
   "id": "9a864fe7-076d-4236-b62b-301a91562636",
   "metadata": {},
   "source": [
    "#### We can slice columns and rows by using \":\" operator as with Python lists and Numpy arrays.\n",
    "#### \":\" indicates `[start : end : step]`. The slice begins at the `start` index and takes steps of size `step` untill it reaches just before the end index."
   ]
  },
  {
   "cell_type": "code",
   "execution_count": null,
   "id": "8df33082-def1-4498-975e-8c8a4ab9059a",
   "metadata": {},
   "outputs": [],
   "source": [
    "establishment.iloc[:,0]\n",
    "#establishment.iloc[0:10:2,:2]"
   ]
  },
  {
   "cell_type": "code",
   "execution_count": null,
   "id": "be930cd5-e27c-4e1a-943c-9329f04eb057",
   "metadata": {},
   "outputs": [],
   "source": [
    "establishment.loc[0,'Unnamed: 1']\n",
    "establishment.loc[:,'Unnamed: 1']"
   ]
  },
  {
   "cell_type": "markdown",
   "id": "c69b09d3-b317-44ba-a30f-66380628c8e8",
   "metadata": {},
   "source": [
    "#### We want to drop some unnecessary rows by specifying index values."
   ]
  },
  {
   "cell_type": "code",
   "execution_count": null,
   "id": "5852c4b0-c140-4cba-b982-871b43336f26",
   "metadata": {},
   "outputs": [],
   "source": [
    "establishment.drop(index=[0,1,2,3,4], inplace=True)\n",
    "\n",
    "# We can also do it by specifying integer index.\n",
    "#establishment.drop(index=establishment.index[[0,1,2,3,4]], inplace=True)"
   ]
  },
  {
   "cell_type": "code",
   "execution_count": null,
   "id": "013a7bf5-5d4a-4153-a60e-a8fbe102f26c",
   "metadata": {},
   "outputs": [],
   "source": [
    "# replace values of some cells in order to use the column of index \"0\" as a new column index. \n",
    "establishment.iloc[0,:5] = establishment.iloc[2,:5]\n",
    "establishment.set_axis(establishment.iloc[0,:], axis=1, inplace=True)\n",
    "establishment\n",
    "\n",
    "establishment.drop(index=[5,6,7], inplace=True)\n",
    "establishment"
   ]
  },
  {
   "cell_type": "code",
   "execution_count": null,
   "id": "076c013c-f4a2-4c8e-85c9-e2f40a13d51d",
   "metadata": {},
   "outputs": [],
   "source": [
    "# Extract relevant columns\n",
    "establishment = establishment.loc[:,['地域区分','産業大分類','産業中分類','事業所数']]\n",
    "establishment"
   ]
  },
  {
   "cell_type": "markdown",
   "id": "d2983bf1-5d4a-48dd-81d5-1e772dbfd550",
   "metadata": {},
   "source": [
    "#### We can split strings around given separator by using `str.split()`."
   ]
  },
  {
   "cell_type": "code",
   "execution_count": null,
   "id": "5b9dce54-24cb-4fca-a513-c1e431f3c3d9",
   "metadata": {},
   "outputs": [],
   "source": [
    "#establishment['地域区分'].str.split('_', expand=True)\n",
    "establishment = pd.concat([establishment, establishment['地域区分'].str.split('_', expand=True)], axis=1)\n",
    "establishment.rename(columns={0: 'city_code', 1: 'city'}, inplace=True)\n",
    "establishment.drop('地域区分',axis=1,inplace=True)\n",
    "establishment"
   ]
  },
  {
   "cell_type": "markdown",
   "id": "d4504bf4-a9d4-4141-aae9-fed63f889808",
   "metadata": {},
   "source": [
    "### 1-3. Convert data types"
   ]
  },
  {
   "cell_type": "code",
   "execution_count": null,
   "id": "e14d4d0e-abb6-4982-87f1-5b7c7c4ce016",
   "metadata": {},
   "outputs": [],
   "source": [
    "# \"dtypes\" method returns the data type of each column.\n",
    "establishment.dtypes"
   ]
  },
  {
   "cell_type": "code",
   "execution_count": null,
   "id": "7e7e6ac0-3fe4-4f40-aff8-00c851bcfe8c",
   "metadata": {},
   "outputs": [],
   "source": [
    "# convert data type\n",
    "establishment['city_code'] = establishment['city_code'].astype('int64')\n",
    "establishment"
   ]
  },
  {
   "cell_type": "code",
   "execution_count": null,
   "id": "20efa6df-ef5d-475b-8250-8c0ab5776f05",
   "metadata": {},
   "outputs": [],
   "source": [
    "# error due to \"-\"\n",
    "#establishment['事業所数'].str.replace(',', '').astype(int)"
   ]
  },
  {
   "cell_type": "code",
   "execution_count": null,
   "id": "0f0f3822-18db-4a1f-b992-0688e1a61cc7",
   "metadata": {},
   "outputs": [],
   "source": [
    "# Convert object to integer\n",
    "establishment['事業所数'] = establishment['事業所数'].str.replace(',', '')\n",
    "establishment['事業所数'] = establishment['事業所数'].replace('-','0').astype('int64')\n",
    "establishment"
   ]
  },
  {
   "cell_type": "markdown",
   "id": "09320c51-a5e8-4425-ad09-636ad339b2af",
   "metadata": {},
   "source": [
    "### 1-4. Boolean indexing\n",
    "#### We can filter a `DataFrame` according to a set of criteria by indexing the data with boolean values."
   ]
  },
  {
   "cell_type": "code",
   "execution_count": null,
   "id": "5bb3680b-57a1-44be-9811-bd50bbcbcd18",
   "metadata": {},
   "outputs": [],
   "source": [
    "establishment.loc[establishment['city_code']==0]"
   ]
  },
  {
   "cell_type": "markdown",
   "id": "cb5f24b2-87ee-4825-a598-5fd0ae40a996",
   "metadata": {},
   "source": [
    "#### We can use multiple boolean conditions by using `&` (and), `|` (or), and `~` (not)."
   ]
  },
  {
   "cell_type": "code",
   "execution_count": null,
   "id": "26f4b996-e021-48e4-9732-b59991c44acd",
   "metadata": {},
   "outputs": [],
   "source": [
    "establishment.loc[(establishment['city_code']>=1) | (~establishment['city_code']==0)]"
   ]
  },
  {
   "cell_type": "markdown",
   "id": "595ef727-25f0-4fd4-8011-9c2ecc20d468",
   "metadata": {},
   "source": [
    "#### We want to get data of cities in `高知県`, `高松市`, `徳島市`, and `松山市`. "
   ]
  },
  {
   "cell_type": "code",
   "execution_count": null,
   "id": "ae9f0094-f10f-496b-8b3d-59a7eea0bca6",
   "metadata": {},
   "outputs": [],
   "source": [
    "establishment = establishment.loc[((establishment['city_code']>=39201) & (establishment['city_code']<=39428)) | #高知県内の市町村\n",
    "                                  (establishment['city_code']==37201) | #高松市\n",
    "                                  (establishment['city_code']==36201) | #徳島市\n",
    "                                  (establishment['city_code']==38201)   #松山市\n",
    "                                 ]"
   ]
  },
  {
   "cell_type": "code",
   "execution_count": null,
   "id": "1793e72b-eff3-4f9d-b6b9-732bd2c046a3",
   "metadata": {},
   "outputs": [],
   "source": [
    "# Get number of establishments of \"卸売業、小売業\"\n",
    "establishment = establishment.loc[establishment['産業大分類']=='I']"
   ]
  },
  {
   "cell_type": "code",
   "execution_count": null,
   "id": "1fe2f59c-c589-48b6-b2c6-407dba2acc18",
   "metadata": {},
   "outputs": [],
   "source": [
    "# Rename the column names\n",
    "establishment.rename(columns={'事業所数':'num_establishments_retail'}, inplace=True)\n",
    "\n",
    "# Drop unnecessary columns\n",
    "establishment.drop(['産業大分類','産業中分類','city_code'], axis=1, inplace=True)"
   ]
  },
  {
   "cell_type": "code",
   "execution_count": null,
   "id": "431e146d-b777-4067-ba32-4eb39ae05690",
   "metadata": {},
   "outputs": [],
   "source": [
    "# We will merge this DataFrame with consumption data later.\n",
    "establishment"
   ]
  },
  {
   "cell_type": "code",
   "execution_count": null,
   "id": "9542c4e3-fc2d-42a3-89ba-1805a5e61714",
   "metadata": {},
   "outputs": [],
   "source": []
  },
  {
   "cell_type": "markdown",
   "id": "5dc601f5-002a-4294-a052-dfbd7bd8b2c4",
   "metadata": {},
   "source": [
    "## 2. Working with consumption data\n",
    "### 2-1. Read the data"
   ]
  },
  {
   "cell_type": "code",
   "execution_count": null,
   "id": "c1c92071-b324-4f19-9c71-f3881f9efb2f",
   "metadata": {},
   "outputs": [],
   "source": [
    "# We can read CSV files by using a pandan read_csv method.\n",
    "df = pd.read_csv('consumption_data.csv')\n",
    "\n",
    "# drop rows if all values in the rows are NaN\n",
    "df.dropna(how='all', inplace=True)\n",
    "\n",
    "# rename column name\n",
    "df.rename(columns={'決済日 の週':'week',\n",
    "                 '業種①':'industry',\n",
    "                 '性別':'sex',\n",
    "                 '年代':'age',\n",
    "                 '市区町村':'city',\n",
    "                 '居住地方①':'residence',\n",
    "                 '人数':'num_user',\n",
    "                 '金額':'value',\n",
    "                 '件数':'num_uses'}, inplace=True)\n",
    "df;"
   ]
  },
  {
   "cell_type": "code",
   "execution_count": null,
   "id": "6022b725-b20a-4193-8a45-308009ea7b36",
   "metadata": {},
   "outputs": [],
   "source": [
    "#import datatime module\n",
    "from datetime import datetime"
   ]
  },
  {
   "cell_type": "markdown",
   "id": "cc39b789-90b0-4bae-a2ca-058b0dba8a4e",
   "metadata": {},
   "source": [
    "#### We can convert \"年月日\" string to datetime by using datetime module."
   ]
  },
  {
   "cell_type": "code",
   "execution_count": null,
   "id": "14f8f543-943d-4e41-9a3e-b0980708b48d",
   "metadata": {},
   "outputs": [],
   "source": [
    "df['week'] = df['week'].map(lambda x: datetime.strptime(x,'%Y年%m月%d日'))"
   ]
  },
  {
   "cell_type": "code",
   "execution_count": null,
   "id": "3876322d-8207-428a-b2e4-b2f91f185014",
   "metadata": {},
   "outputs": [],
   "source": [
    "df"
   ]
  },
  {
   "cell_type": "code",
   "execution_count": null,
   "id": "75fe4674-13ba-4d3d-ba4a-c6c6db214081",
   "metadata": {},
   "outputs": [],
   "source": [
    "# Add \"year\" column\n",
    "df['year'] = 2023\n",
    "df.loc[df['week']<pd.to_datetime('2020-1-1'), 'year'] = 2019\n",
    "df"
   ]
  },
  {
   "cell_type": "code",
   "execution_count": null,
   "id": "1a4a3d84-cbd6-4ff4-b567-710864c266d8",
   "metadata": {},
   "outputs": [],
   "source": [
    "# Convert object to integer\n",
    "df['value'] = df['value'].str.replace(',', '').astype(int)\n",
    "\n",
    "# \"秘匿項目\"\n",
    "df['num_user'] = df['num_user'].replace(0.0,np.nan)\n",
    "df['num_uses'] = df['num_uses'].replace(0.0,np.nan)\n",
    "\n",
    "df.dtypes"
   ]
  },
  {
   "cell_type": "code",
   "execution_count": null,
   "id": "172ceff4-2dc1-4884-a78a-0200f61066af",
   "metadata": {},
   "outputs": [],
   "source": [
    "# Correct wrong city name\n",
    "df['city'] = df['city'].replace('中村市','四万十市')\n",
    "df['city'] = df['city'].replace('香美郡赤岡町','香南市')\n",
    "df['city'] = df['city'].replace('香美郡土佐山田町','香美市')\n",
    "df['city'] = df['city'].replace('吾川郡伊野町','吾川郡いの町')"
   ]
  },
  {
   "cell_type": "code",
   "execution_count": null,
   "id": "4d0bb633-411d-46de-ac06-3ec816ab913a",
   "metadata": {},
   "outputs": [],
   "source": [
    "# Remove \"~~郡\" from city column\n",
    "import re\n",
    "\n",
    "df['city'] = df['city'].map(lambda x: re.sub('吾川郡','',x))\n",
    "df['city'] = df['city'].map(lambda x: re.sub('安芸郡','',x))\n",
    "df['city'] = df['city'].map(lambda x: re.sub('幡多郡','',x))\n",
    "df['city'] = df['city'].map(lambda x: re.sub('高岡郡','',x))\n",
    "df['city'] = df['city'].map(lambda x: re.sub('長岡郡','',x))\n",
    "\n",
    "#np.unique(df.city)"
   ]
  },
  {
   "cell_type": "markdown",
   "id": "c9f7116a-ffd6-4c18-a062-c7e2c85a6e44",
   "metadata": {},
   "source": [
    "### 2-2. Combine multiple DataFrames"
   ]
  },
  {
   "cell_type": "markdown",
   "id": "7c8b31e9-eefa-4f8b-a2be-b2d26d9a5634",
   "metadata": {},
   "source": [
    "#### We can merge multiple DataFrames by `merge()`, `.join()`, or`concat()`:\n",
    "#### `merge()` combines data on common columns or indices.\n",
    "#### `.join()` combines data on a key column or an index.\n",
    "#### `concat()` combines DataFrames across rows or columns.\n",
    "#### See https://pandas.pydata.org/docs/user_guide/merging.html ."
   ]
  },
  {
   "cell_type": "code",
   "execution_count": null,
   "id": "dd274c55-244c-4d3f-972b-9849358f3621",
   "metadata": {},
   "outputs": [],
   "source": [
    "df = pd.merge(df, establishment)"
   ]
  },
  {
   "cell_type": "code",
   "execution_count": null,
   "id": "2318a23d-c53c-4502-9c1e-155984e383de",
   "metadata": {},
   "outputs": [],
   "source": [
    "#df.loc[a.num_establishments_retail.isnull()]\n",
    "df"
   ]
  },
  {
   "cell_type": "markdown",
   "id": "a45c69ab-f158-4b90-814c-ff3480e32636",
   "metadata": {},
   "source": [
    "### 2-3. Grouping and aggregation"
   ]
  },
  {
   "cell_type": "markdown",
   "id": "91bfca37-31c6-49d1-9e94-7b95b3f6d0ad",
   "metadata": {},
   "source": [
    "#### We can use `.groupby()` method to specify the grouping variables and ways to aggregate data for each group."
   ]
  },
  {
   "cell_type": "code",
   "execution_count": null,
   "id": "204fb434-a7aa-4d53-945e-506aaffc4ec2",
   "metadata": {},
   "outputs": [],
   "source": [
    "# '.groupby()' just creates a grouped dataframe without any printing method. \n",
    "df.groupby('city')"
   ]
  },
  {
   "cell_type": "markdown",
   "id": "2ef7525d-ce71-44c0-8750-579579d12639",
   "metadata": {},
   "source": [
    "#### It is possible to specify aggregation methods."
   ]
  },
  {
   "cell_type": "code",
   "execution_count": null,
   "id": "c2015e81-66ff-45d1-b921-98f57ca5128f",
   "metadata": {},
   "outputs": [],
   "source": [
    "df.groupby('city').value.sum();\n",
    "\n",
    "df_gr = df.groupby(['city','year','num_establishments_retail']).agg({'value': 'sum', 'num_user':'mean'})\n",
    "df_gr\n",
    "\n",
    "# Transform multi-index to single index\n",
    "df_gr.reset_index(level=['city','num_establishments_retail'], inplace=True)\n",
    "df_gr"
   ]
  },
  {
   "cell_type": "markdown",
   "id": "9044bb9e-0381-459d-8b85-a4e499971b13",
   "metadata": {},
   "source": [
    "### 2-4. Scatterplot"
   ]
  },
  {
   "cell_type": "code",
   "execution_count": null,
   "id": "5d51f88a-ab5b-49e8-8445-6e9b9dc57973",
   "metadata": {},
   "outputs": [],
   "source": [
    "figure, ax  = plt.subplots(dpi=120)\n",
    "ax.scatter(df_gr['num_establishments_retail'], df_gr['value']/1000000)\n",
    "###########################################################################\n",
    "ax.legend(bbox_to_anchor=(1.05, 0.5), prop = {'family' : 'MS Gothic'}, loc='center left') #place legend outside the plot\n",
    "#ax.set_xlim(0, 1000)\n",
    "#ax.set_ylim(0, 1000)\n",
    "ax.set_ylabel(\"消費額（百万円）\", fontname = 'MS Gothic')\n",
    "ax.set_xlabel(\"事業所数\", fontname = 'MS Gothic')\n",
    "#ax.set_xlabel(\"percentile of industrial group earnings distribution\")\n",
    "ax.set_title(\"卸売業・小売業の事業所数と消費額の関係\", pad = 20, fontname = 'MS Gothic')\n",
    "figure.subplots_adjust(top=1.05, bottom=0.15) "
   ]
  },
  {
   "cell_type": "code",
   "execution_count": null,
   "id": "9ec320a6-1118-48c5-b1bf-6692bfd24591",
   "metadata": {},
   "outputs": [],
   "source": [
    "df_gr"
   ]
  },
  {
   "cell_type": "code",
   "execution_count": null,
   "id": "e76d39d5-6da1-4f64-8744-b226775c0673",
   "metadata": {},
   "outputs": [],
   "source": []
  },
  {
   "cell_type": "markdown",
   "id": "20abf70c-3e60-449c-b0bf-15ec5e6ac221",
   "metadata": {},
   "source": [
    "## 3. Simple linear regression\n",
    "### 3-1. Derivation of the coefficient"
   ]
  },
  {
   "cell_type": "markdown",
   "id": "e84048a5-45c1-4fec-9721-3ca010ef83f6",
   "metadata": {},
   "source": [
    "#### Now we derive the equations of simple linear regression (SLR) model. SLR is mainly used to describe the linear dependence of one variable on another.\n",
    "#### Linear regression estimates the best-fit line through a scatterplot of the data by minimizing the difference between the actual data and predicted value of the line."
   ]
  },
  {
   "cell_type": "markdown",
   "id": "10bba003-6479-450f-8000-53ef00fd148e",
   "metadata": {},
   "source": [
    "#### Consider a set of $n$ points $(X_i, Y_i)$, we want to find the best-fit line $\\hat{Y}_i = \\beta_0 + \\beta_1 X_i$ to minimize the sum of squared errors $\\sum^{n}_{i=1}(Y_i - \\hat{Y}_i)^2$ "
   ]
  },
  {
   "cell_type": "markdown",
   "id": "4291eb5a-bdb5-4f05-86c7-25d738ceb120",
   "metadata": {},
   "source": [
    "#### Define the sum of squared errors as \n",
    "#### $$L(\\beta_0, \\beta_1) = \\sum^{n}_{i=1}(Y_i - \\hat{Y}_i)^2 = \\sum^{n}_{i=1}(Y_i - \\beta_0 - \\beta_1 X_i)^2$$\n",
    "#### Since we want to minimize $L(\\beta_0, \\beta_1)$, we set the derivatives of $L$ with respect to $\\beta_0$ and $\\beta_1$ to $0$.\n",
    "#### $$\\frac{\\partial L}{\\partial \\beta_0}= 2(n\\beta_0 + \\beta_1 \\sum^n_{i=1}X_{i} - \\sum^n_{i=1}Y_{i}) = 0$$\n",
    "#### Then, we derive \n",
    "#### $$\\beta_0 = \\bar{Y} - \\beta_1 \\bar{X}$$"
   ]
  },
  {
   "cell_type": "markdown",
   "id": "525fd5e1-ce2f-4662-bd1e-330b59123b09",
   "metadata": {},
   "source": [
    "#### Next, we use the derivatives of $L$ with respect to $\\beta_1$.\n",
    "#### $$\\frac{\\partial L}{\\partial \\beta_1}= \\sum^n_{i=1} -2( X_i Y_i -\\beta_0 X_i - \\beta_1 X_{i}^2) = 0$$\n",
    "#### Substituting $\\beta_0$ we derived above to the equation $\\frac{\\partial L}{\\partial \\beta_1}=0$ yields\n",
    "### $$\\beta_1 = \\frac{\\sum^{n}_{i=1}(X_i Y_i - X_i \\bar{Y})}{\\sum^{n}_{i=1}(X_{i}^2)-X_i \\bar{X}}$$"
   ]
  },
  {
   "cell_type": "code",
   "execution_count": null,
   "id": "542b7fbd-af77-4180-8348-5a44b302c547",
   "metadata": {},
   "outputs": [],
   "source": [
    "y = df_gr['value']\n",
    "x = df_gr['num_establishments_retail']"
   ]
  },
  {
   "cell_type": "code",
   "execution_count": null,
   "id": "159b9624-436c-4c47-989e-7963615e59b1",
   "metadata": {},
   "outputs": [],
   "source": [
    "sum(x.iloc[i]*y.iloc[i]-np.mean(y)*x.iloc[i] for i, v in enumerate(x)) / sum(x.iloc[i]**2-np.mean(x)*x.iloc[i] for i, v in enumerate(x))"
   ]
  },
  {
   "cell_type": "code",
   "execution_count": null,
   "id": "2a9e8f41-5961-47e9-b2be-241b35890554",
   "metadata": {},
   "outputs": [],
   "source": []
  },
  {
   "cell_type": "code",
   "execution_count": null,
   "id": "7ec1986a-5d92-4bb0-a612-8e09495336f2",
   "metadata": {},
   "outputs": [],
   "source": [
    "from statsmodels.formula.api import ols, logit, probit\n",
    "from statsmodels.iolib.summary2 import summary_col"
   ]
  },
  {
   "cell_type": "code",
   "execution_count": null,
   "id": "d3b54911-56f4-4ecf-a774-39e68f3fc072",
   "metadata": {},
   "outputs": [],
   "source": [
    "\n",
    "formula = 'value ~ 1 + num_establishments_retail'\n",
    "model = ols(formula, data=df_gr).fit()\n"
   ]
  },
  {
   "cell_type": "code",
   "execution_count": null,
   "id": "4fdd819a-1a72-4f8e-811a-724d9a91e49c",
   "metadata": {},
   "outputs": [],
   "source": [
    "res = summary_col(model, stars=True, float_format='%0.4f',\n",
    "                           info_dict={'N': lambda x: \"{0:d}\".format(int(x.nobs))},drop_omitted=True)\n",
    "print(res)"
   ]
  },
  {
   "cell_type": "code",
   "execution_count": null,
   "id": "0aa1b7e2-7caa-4034-8a8e-006ecda8bb8e",
   "metadata": {},
   "outputs": [],
   "source": []
  }
 ],
 "metadata": {
  "kernelspec": {
   "display_name": "Python 3 (ipykernel)",
   "language": "python",
   "name": "python3"
  },
  "language_info": {
   "codemirror_mode": {
    "name": "ipython",
    "version": 3
   },
   "file_extension": ".py",
   "mimetype": "text/x-python",
   "name": "python",
   "nbconvert_exporter": "python",
   "pygments_lexer": "ipython3",
   "version": "3.10.7"
  }
 },
 "nbformat": 4,
 "nbformat_minor": 5
}
