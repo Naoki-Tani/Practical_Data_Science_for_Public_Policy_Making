{
 "cells": [
  {
   "cell_type": "markdown",
   "id": "17296dcb-d430-409e-9304-e3ae5a1c36fb",
   "metadata": {},
   "source": [
    "# 4. Tutorial 2: Python Basics 2"
   ]
  },
  {
   "cell_type": "markdown",
   "id": "464ecca0-73e7-422f-8567-59c41573de0a",
   "metadata": {},
   "source": [
    "#### Naoki TANI\n",
    "#### Center for Advanced Policy Studies (CAPS), Institute of Economic Research, Kyoto University\n",
    "#### April 18, 2024"
   ]
  },
  {
   "cell_type": "code",
   "execution_count": 1,
   "id": "a13d06c0-80f2-4eed-9121-8dd37104b81f",
   "metadata": {},
   "outputs": [],
   "source": [
    "import numpy as np\n",
    "from IPython.display import Image"
   ]
  },
  {
   "cell_type": "markdown",
   "id": "0e82bbb7-efd5-4527-92c8-b9a231b69779",
   "metadata": {},
   "source": [
    "## 1. Control flow (制御フロー) (continued from last lecture)"
   ]
  },
  {
   "cell_type": "markdown",
   "id": "5e23bcd3-c6a1-42cf-be1c-f0b7135421f8",
   "metadata": {},
   "source": [
    "### 1-1. Functions"
   ]
  },
  {
   "cell_type": "markdown",
   "id": "8834bf29-85ad-46b0-8c25-348a1bb4e2f9",
   "metadata": {},
   "source": [
    "#### Function definitions start with `def`, which is followed by the name of the functions and some parameter names enclosed in parentheses, and ends with a colon.\n",
    "#### A body of a function definition consists of one or more Python statements, each indented the same amount – 4 spaces is the Python standard – from the header line.\n",
    "#### Values are returned by `return` keyword and comma-separated return-values are treated as tuples."
   ]
  },
  {
   "cell_type": "code",
   "execution_count": 2,
   "id": "10e8ad8e-7f07-496e-958f-8841fb144073",
   "metadata": {},
   "outputs": [],
   "source": [
    "def f(x,y):\n",
    "    z1 = x + y\n",
    "    z2 = x - y\n",
    "    return z1, z2"
   ]
  },
  {
   "cell_type": "code",
   "execution_count": 3,
   "id": "cebb9c00-1416-4117-ae9e-45ac0b20bb24",
   "metadata": {},
   "outputs": [
    {
     "data": {
      "text/plain": [
       "(0.30000000000000004, -0.1)"
      ]
     },
     "execution_count": 3,
     "metadata": {},
     "output_type": "execute_result"
    }
   ],
   "source": [
    "f(0.1, 0.2)"
   ]
  },
  {
   "cell_type": "markdown",
   "id": "c01dd67c-7a11-49ce-8770-3968edd00ed7",
   "metadata": {},
   "source": [
    "#### You can unpack the multiple return values and assign them to separate variables."
   ]
  },
  {
   "cell_type": "code",
   "execution_count": 4,
   "id": "1ced85bb-f28c-4964-95de-435793ab4f66",
   "metadata": {},
   "outputs": [
    {
     "data": {
      "text/plain": [
       "0.30000000000000004"
      ]
     },
     "execution_count": 4,
     "metadata": {},
     "output_type": "execute_result"
    }
   ],
   "source": [
    "t1, t2 = f(0.1, 0.2)\n",
    "t1"
   ]
  },
  {
   "cell_type": "markdown",
   "id": "1e17a725-be84-402e-bf4a-aeef45420be4",
   "metadata": {},
   "source": [
    "#### By using `[]`, you can return a list instead of a tuple."
   ]
  },
  {
   "cell_type": "code",
   "execution_count": 5,
   "id": "3a01acd3-699a-460a-b779-6e59416fa97c",
   "metadata": {},
   "outputs": [
    {
     "data": {
      "text/plain": [
       "[3, -1]"
      ]
     },
     "execution_count": 5,
     "metadata": {},
     "output_type": "execute_result"
    }
   ],
   "source": [
    "def g(x,y):\n",
    "    z1 = x + y\n",
    "    z2 = x - y\n",
    "    return [z1, z2]\n",
    "\n",
    "g(1,2)"
   ]
  },
  {
   "cell_type": "markdown",
   "id": "2a7e0951-048d-4340-902d-cbc14173d994",
   "metadata": {},
   "source": [
    "#### Note that variables defined inside a function have no effect outside the function in order to avoid name conflicts.\n",
    "#### In the example below, the value of $y$ has not been changed by calling two functions, f(.) and g(.)."
   ]
  },
  {
   "cell_type": "code",
   "execution_count": 6,
   "id": "eb9c5661-1566-41a3-b3c3-91de5834ecf8",
   "metadata": {},
   "outputs": [
    {
     "data": {
      "text/plain": [
       "(1, 4, 16)"
      ]
     },
     "execution_count": 6,
     "metadata": {},
     "output_type": "execute_result"
    }
   ],
   "source": [
    "# example\n",
    "y = 1\n",
    "\n",
    "def f(x):\n",
    "    y = x**2\n",
    "    return y\n",
    "\n",
    "def g(x):\n",
    "    y = x**4\n",
    "    return y\n",
    "\n",
    "r1 = y\n",
    "r2 = f(2)\n",
    "r3 = g(2)\n",
    "r1, r2, r3"
   ]
  },
  {
   "cell_type": "markdown",
   "id": "892e8e5d-feb3-4594-82ec-e4644618051b",
   "metadata": {},
   "source": [
    "#### Positional arguments and keyword arguments can be combined."
   ]
  },
  {
   "cell_type": "code",
   "execution_count": 7,
   "id": "2e4be2d9-8c20-424e-93e2-06837e7ca683",
   "metadata": {},
   "outputs": [],
   "source": [
    "def f(x, y, α=0.9, β=4.0):\n",
    "    return α*x +β*y"
   ]
  },
  {
   "cell_type": "code",
   "execution_count": 8,
   "id": "60e5d964-dee6-4180-a356-b52ea83131c5",
   "metadata": {},
   "outputs": [
    {
     "data": {
      "text/plain": [
       "0.89"
      ]
     },
     "execution_count": 8,
     "metadata": {},
     "output_type": "execute_result"
    }
   ],
   "source": [
    "f(0.1, 0.2)"
   ]
  },
  {
   "cell_type": "markdown",
   "id": "f58a49f7-b4a5-495f-90ba-b1a9f63f77ee",
   "metadata": {},
   "source": [
    "#### By prefixing a parameter with `*`, such as `*x`, in the function definition, a function can accept any number of multiple arguments as a tuple. \n",
    "#### It is useful in the case of a function that calculates the sum of multiple arguments, whose number of arguments may vary: variable-length argument (可変長引数)."
   ]
  },
  {
   "cell_type": "code",
   "execution_count": 9,
   "id": "237256f1-859c-4c90-9efe-615b0fac9e62",
   "metadata": {},
   "outputs": [
    {
     "name": "stdout",
     "output_type": "stream",
     "text": [
      "arguments:  (1, 2, 3, 4)\n",
      "type:  <class 'tuple'>\n",
      "sum :  10\n"
     ]
    }
   ],
   "source": [
    "def f(*x):\n",
    "    print('arguments: ', x)\n",
    "    print('type: ', type(x))\n",
    "    print('sum : ', sum(x))\n",
    "#    return sum(x)\n",
    "\n",
    "f(1,2,3,4)"
   ]
  },
  {
   "cell_type": "markdown",
   "id": "9c7ff650-1351-4d73-9a6c-40c2aba911cc",
   "metadata": {},
   "source": [
    "#### You can get the same result by using list. However, notice that if you change the list of arguments inside the function, the list outside the fuction will also change."
   ]
  },
  {
   "cell_type": "code",
   "execution_count": 10,
   "id": "fc42e932-278b-4339-9c34-f0faf29af247",
   "metadata": {},
   "outputs": [
    {
     "name": "stdout",
     "output_type": "stream",
     "text": [
      "arguments:  [1, 2, 3, 4]\n",
      "type:  <class 'list'>\n",
      "sum :  10\n",
      "None\n",
      "[1, 2, 0, 4]\n"
     ]
    }
   ],
   "source": [
    "def f_list(x):\n",
    "    print('arguments: ', x)\n",
    "    print('type: ', type(x))\n",
    "    print('sum : ', sum(x))\n",
    "    x[2] = 0\n",
    "#    return sum(x)\n",
    "\n",
    "parm_list=[1, 2, 3, 4]\n",
    "print(f_list(parm_list))\n",
    "print(parm_list)"
   ]
  },
  {
   "cell_type": "markdown",
   "id": "bf22a410-f9df-4e61-b29b-f2c64182b7d4",
   "metadata": {},
   "source": [
    "### 1-2. Docstrings"
   ]
  },
  {
   "cell_type": "markdown",
   "id": "614eed53-39a6-425d-9cef-d754c63e5caa",
   "metadata": {},
   "source": [
    "#### A function can be documented with a string documentation, docstrings, which appear right after the definition of the functions and provides a convenient way of associating documentation with Python modules, functions, classes, and methods."
   ]
  },
  {
   "cell_type": "code",
   "execution_count": 11,
   "id": "f9f823fc-48cb-4a30-8682-46a5ab35047a",
   "metadata": {},
   "outputs": [],
   "source": [
    "def f(x, y, α=0.9, β=4.0):\n",
    "    \"\"\"This function computes sum of degree 1 polynominal in two variables.\n",
    "    \n",
    "    Parameters:\n",
    "    ----------\n",
    "    x (int) : explanation of the first variable\n",
    "    y (int) : explanation of the second variable\n",
    "    \n",
    "    Returns:\n",
    "    ----------\n",
    "    int : sum of the polynominal\n",
    "    \"\"\"\n",
    "    return α*x +β*y"
   ]
  },
  {
   "cell_type": "code",
   "execution_count": 12,
   "id": "18cd679a-447c-4130-b97e-d2a8601b0d73",
   "metadata": {},
   "outputs": [
    {
     "data": {
      "text/plain": [
       "0.89"
      ]
     },
     "execution_count": 12,
     "metadata": {},
     "output_type": "execute_result"
    }
   ],
   "source": [
    "f(0.1, 0.2)"
   ]
  },
  {
   "cell_type": "code",
   "execution_count": 13,
   "id": "633094af-7b2d-43d2-b3f9-82340fb703b2",
   "metadata": {},
   "outputs": [
    {
     "data": {
      "text/plain": [
       "\u001b[1;31mSignature:\u001b[0m \u001b[0mf\u001b[0m\u001b[1;33m(\u001b[0m\u001b[0mx\u001b[0m\u001b[1;33m,\u001b[0m \u001b[0my\u001b[0m\u001b[1;33m,\u001b[0m \u001b[0mα\u001b[0m\u001b[1;33m=\u001b[0m\u001b[1;36m0.9\u001b[0m\u001b[1;33m,\u001b[0m \u001b[0mβ\u001b[0m\u001b[1;33m=\u001b[0m\u001b[1;36m4.0\u001b[0m\u001b[1;33m)\u001b[0m\u001b[1;33m\u001b[0m\u001b[1;33m\u001b[0m\u001b[0m\n",
       "\u001b[1;31mDocstring:\u001b[0m\n",
       "This function computes sum of degree 1 polynominal in two variables.\n",
       "\n",
       "Parameters:\n",
       "----------\n",
       "x (int) : explanation of the first variable\n",
       "y (int) : explanation of the second variable\n",
       "\n",
       "Returns:\n",
       "----------\n",
       "int : sum of the polynominal\n",
       "\u001b[1;31mFile:\u001b[0m      c:\\users\\tanin\\appdata\\local\\temp\\ipykernel_24004\\4213866802.py\n",
       "\u001b[1;31mType:\u001b[0m      function\n"
      ]
     },
     "metadata": {},
     "output_type": "display_data"
    }
   ],
   "source": [
    "f?"
   ]
  },
  {
   "cell_type": "markdown",
   "id": "786841ec-60ab-4199-ae5e-7c9984737926",
   "metadata": {},
   "source": [
    "### 1-3. Functions are first-class objects (第一級オブジェクト)\n",
    "#### A programming language is said to support first-class functions if it treats functions as first-class objects. Python supports the concept of First Class functions. That is, functions behave like any other object, such as an int or a list. \n",
    "\n",
    "#### Properties of first class functions:\n",
    " * A function is an instance of the Object type.\n",
    " * You can store the function in a variable.\n",
    " * You can pass the function as an argument to another function.\n",
    " * You can return the function from a function."
   ]
  },
  {
   "cell_type": "code",
   "execution_count": 14,
   "id": "a9477868-b4f7-49df-bfa4-acb7c1c4ece0",
   "metadata": {},
   "outputs": [],
   "source": [
    "def f(x):\n",
    "    return 2*x*(1-x)"
   ]
  },
  {
   "cell_type": "markdown",
   "id": "b6e8142b-53b9-41d5-bccb-387bb6b483bd",
   "metadata": {},
   "source": [
    "#### ・ Example of storing a function in a variable:\n",
    "#### Instead of calling function $f(x)$, it is stored in the variable $g$.\n",
    "#### To call the function, you must pass the function parameter value $x$ to the parenthesis that follows $g$."
   ]
  },
  {
   "cell_type": "code",
   "execution_count": 15,
   "id": "badb2400-b615-4bcd-8509-48a8776a68f3",
   "metadata": {},
   "outputs": [
    {
     "data": {
      "text/plain": [
       "-0.47999999999999987"
      ]
     },
     "execution_count": 15,
     "metadata": {},
     "output_type": "execute_result"
    }
   ],
   "source": [
    "g = f\n",
    "g(1.2)"
   ]
  },
  {
   "cell_type": "markdown",
   "id": "05c99ece-7abc-4bd6-8d87-fdb6bb95c1ae",
   "metadata": {},
   "source": [
    "#### ・ Example of passing a function as an argument to another function:\n",
    "#### You can pass functions as arguments to other functions. Functions that can take other functions as arguments are called higher-order functions (高階関数). "
   ]
  },
  {
   "cell_type": "code",
   "execution_count": 16,
   "id": "f39cff44-4b3e-4250-b117-c2e21f28327b",
   "metadata": {},
   "outputs": [
    {
     "data": {
      "text/plain": [
       "-180"
      ]
     },
     "execution_count": 16,
     "metadata": {},
     "output_type": "execute_result"
    }
   ],
   "source": [
    "def h(x):\n",
    "    return x(10)\n",
    "\n",
    "h(f) # == f(10)"
   ]
  },
  {
   "cell_type": "markdown",
   "id": "152436d3-0f18-4b7c-a4b9-f5b1c5fa3ff5",
   "metadata": {},
   "source": [
    "#### ・Example of returning a function from another function:\n",
    "#### In the following example, $k(.)$ returns $l(.)$."
   ]
  },
  {
   "cell_type": "code",
   "execution_count": 17,
   "id": "c495ecaa-d09c-4560-9fa7-0225c85b3552",
   "metadata": {},
   "outputs": [
    {
     "data": {
      "text/plain": [
       "20"
      ]
     },
     "execution_count": 17,
     "metadata": {},
     "output_type": "execute_result"
    }
   ],
   "source": [
    "def k(x):\n",
    "    def l(y):\n",
    "        return x+y+5\n",
    "    return l #return another function\n",
    "\n",
    "k10 = k(10)\n",
    "k10(5)"
   ]
  },
  {
   "cell_type": "markdown",
   "id": "b372dc01-aaa1-4d92-a171-7f612e4fbf09",
   "metadata": {},
   "source": [
    "### 1-4. Anonymous functions (無名関数)\n",
    "#### Anonymous functions in Python are also known as `labmda` functions. They are small specific functions that perform limited tasks, and immediately stored in a variable or input to higher-order functions such as `map(.)`, `sorted(.)`, or `filter(.)`.\n",
    "#### ・Example 1: `map(.)`"
   ]
  },
  {
   "cell_type": "code",
   "execution_count": 18,
   "id": "eeb8f385-7b4c-4dd9-bd42-62286511e8ca",
   "metadata": {},
   "outputs": [
    {
     "data": {
      "text/plain": [
       "20"
      ]
     },
     "execution_count": 18,
     "metadata": {},
     "output_type": "execute_result"
    }
   ],
   "source": [
    "y = lambda i: i*2\n",
    "y(10)"
   ]
  },
  {
   "cell_type": "code",
   "execution_count": 19,
   "id": "46d55318-d866-4022-8f17-08861c2cf6c5",
   "metadata": {},
   "outputs": [
    {
     "data": {
      "text/plain": [
       "[1, 4, 27, 256, 3125, 46656, 823543, 16777216, 387420489]"
      ]
     },
     "execution_count": 19,
     "metadata": {},
     "output_type": "execute_result"
    }
   ],
   "source": [
    "# Using standard functions\n",
    "def f(x):\n",
    "    return x**x\n",
    "\n",
    "list(map(f, range(1,10)))\n",
    "# The map function applies a function to each member of a collection"
   ]
  },
  {
   "cell_type": "code",
   "execution_count": 20,
   "id": "656ca3a7-e14b-43d4-a29c-16e2dde0ca1b",
   "metadata": {},
   "outputs": [
    {
     "name": "stdout",
     "output_type": "stream",
     "text": [
      "[1, 4, 27, 256, 3125, 46656, 823543, 16777216, 387420489]\n"
     ]
    }
   ],
   "source": [
    "# Using standard functions\n",
    "print(list(map(lambda x: x**x, range(1,10))))"
   ]
  },
  {
   "cell_type": "markdown",
   "id": "bdfbca17-1319-4978-9d87-db83fb3b3f73",
   "metadata": {},
   "source": [
    "#### ・Example 2: `sorted(.)`"
   ]
  },
  {
   "cell_type": "code",
   "execution_count": 21,
   "id": "4a94b053-b553-4ef9-9d53-f380eb6586cd",
   "metadata": {},
   "outputs": [
    {
     "data": {
      "text/plain": [
       "[0, -1, 1, -2, 2, -3, 3, -4, 4, -5]"
      ]
     },
     "execution_count": 21,
     "metadata": {},
     "output_type": "execute_result"
    }
   ],
   "source": [
    "# The sorted function sorts the values in order of \"key\" parameter.\n",
    "sorted(range(-5,5), key=abs) #in order or absolute value"
   ]
  },
  {
   "cell_type": "code",
   "execution_count": 22,
   "id": "0926068e-90dc-4fb2-bc8e-6ad7173ae315",
   "metadata": {},
   "outputs": [
    {
     "data": {
      "text/plain": [
       "[0, -1, 1, -2, 2, -3, 3, -4, 4, -5]"
      ]
     },
     "execution_count": 22,
     "metadata": {},
     "output_type": "execute_result"
    }
   ],
   "source": [
    "sorted(range(-5,5), key=lambda x:x**2)"
   ]
  },
  {
   "cell_type": "code",
   "execution_count": 23,
   "id": "ba7f9c4e-bd2d-4346-bd33-6c11f4da68ee",
   "metadata": {},
   "outputs": [
    {
     "data": {
      "text/plain": [
       "[3, 1, 2, 4]"
      ]
     },
     "execution_count": 23,
     "metadata": {},
     "output_type": "execute_result"
    }
   ],
   "source": [
    "sorted(range(1,5), key=lambda x:(-2)**x)"
   ]
  },
  {
   "cell_type": "markdown",
   "id": "a95285ff-bb15-4f1b-89ef-5083a493852b",
   "metadata": {},
   "source": [
    "#### ・Example 3: `filter(.)`"
   ]
  },
  {
   "cell_type": "code",
   "execution_count": 24,
   "id": "6eca7b2f-5ffe-49cf-9432-327613457bde",
   "metadata": {},
   "outputs": [
    {
     "data": {
      "text/plain": [
       "[3, 4]"
      ]
     },
     "execution_count": 24,
     "metadata": {},
     "output_type": "execute_result"
    }
   ],
   "source": [
    "list(filter(lambda x: x**2>5, range(5)))\n",
    "# The filter function extract all the member of a collection that satisfy the specific conditions."
   ]
  },
  {
   "cell_type": "code",
   "execution_count": null,
   "id": "6bcd65cc-c45d-49a7-a9b9-1b762b6b0c66",
   "metadata": {},
   "outputs": [],
   "source": []
  },
  {
   "cell_type": "markdown",
   "id": "2e541cdd-9fe2-46f7-ac93-798d3be438ff",
   "metadata": {},
   "source": [
    "## 2. Object-oriented programming (OOP) in Python\n",
    "### 2-1. Object-oriented programming (OOP、オブジェクト指向プログラミング) and procedural programming (プロセス指向プログラミング)"
   ]
  },
  {
   "cell_type": "markdown",
   "id": "b20842a2-0376-4205-8449-84f18cd24ab0",
   "metadata": {},
   "source": [
    "#### Procedural programming is a programming paradigm in which statements are executed one after another in a linear sequence.\n",
    "#### Although you can use functions to improve reusability, they are typically limited to use within the same program: functions are not as reusable as classes and objects in object-oriented programming.\n",
    "#### ・Example of procedural programming in Python:"
   ]
  },
  {
   "cell_type": "code",
   "execution_count": 25,
   "id": "5cab39de-a7cd-4ed2-b684-347082dbee4f",
   "metadata": {},
   "outputs": [
    {
     "data": {
      "text/plain": [
       "'This is a pen.'"
      ]
     },
     "execution_count": 25,
     "metadata": {},
     "output_type": "execute_result"
    }
   ],
   "source": [
    "def construct(words):\n",
    "    sentence = ''\n",
    "    for c in words:\n",
    "        sentence = sentence + ' ' + c\n",
    "    return sentence[1:]\n",
    "\n",
    "pen = ['This','is','a','pen.']\n",
    "construct(pen)"
   ]
  },
  {
   "cell_type": "code",
   "execution_count": 26,
   "id": "038c8381-e16b-4ba4-aa36-3e970e0bb8af",
   "metadata": {},
   "outputs": [
    {
     "data": {
      "text/plain": [
       "'This is my pen.'"
      ]
     },
     "execution_count": 26,
     "metadata": {},
     "output_type": "execute_result"
    }
   ],
   "source": [
    "# When you extend the function, you need to re-define the original function.\n",
    "def construct_my(words):\n",
    "    words = [i.replace('a','my') for i in words] \n",
    "    sentence = ''\n",
    "    for c in words:\n",
    "        sentence = sentence + ' ' + c\n",
    "    return sentence[1:]\n",
    "\n",
    "construct_my(pen)"
   ]
  },
  {
   "cell_type": "markdown",
   "id": "9e7c8586-3000-4be7-8bd2-d621da36d0fb",
   "metadata": {},
   "source": [
    "#### In the OOP paradigm, data and functions are bundled together into `objects` in `classes`, which improves code reusability.\n",
    "#### ・Example of OOP in Python"
   ]
  },
  {
   "cell_type": "code",
   "execution_count": 27,
   "id": "af8a43da-0cbb-4435-853c-5fe0d8fd9d6f",
   "metadata": {},
   "outputs": [
    {
     "data": {
      "text/plain": [
       "'This is a pen.'"
      ]
     },
     "execution_count": 27,
     "metadata": {},
     "output_type": "execute_result"
    }
   ],
   "source": [
    "class ConstructOOP:\n",
    "    def __init__(self, words):\n",
    "        self.words = words\n",
    "    def construct(self):\n",
    "        self.sentence = ' '.join(self.words)\n",
    "\n",
    "pen = ['This','is','a','pen.']\n",
    "pen_ex = ConstructOOP(pen)\n",
    "pen_ex.construct()\n",
    "pen_ex.sentence"
   ]
  },
  {
   "cell_type": "code",
   "execution_count": 28,
   "id": "428f32d2-f1e2-4dc2-93f0-4ab6dac1b053",
   "metadata": {},
   "outputs": [
    {
     "data": {
      "text/plain": [
       "'This is my pen.'"
      ]
     },
     "execution_count": 28,
     "metadata": {},
     "output_type": "execute_result"
    }
   ],
   "source": [
    "# When you extend the function, you can use inheritance of superclasses, which will be detailed later.\n",
    "class ConstructOOP_my(ConstructOOP):\n",
    "    def __init__(self, words):\n",
    "        super().__init__(words)\n",
    "        self.words = [i.replace('a','my') for i in self.words]\n",
    "        # you can avoid redefining instance variables and functions of the superclass.\n",
    "\n",
    "pen_ex = ConstructOOP_my(pen)\n",
    "pen_ex.construct()\n",
    "pen_ex.sentence"
   ]
  },
  {
   "cell_type": "markdown",
   "id": "92f7c320-34c4-48b9-ad31-a54b43164800",
   "metadata": {},
   "source": [
    "#### Python supports both paradigms.\n",
    "#### If your project requires only a simple sequential manipulation, procedural programming may be less expensive in terms of time and effort.\n",
    "#### If you deal with more complex model, which has a bunch of interrelated objects and needs abstraction especially in simulation, OOP will be useful."
   ]
  },
  {
   "cell_type": "markdown",
   "id": "6dd96900-8b85-4c5f-83e4-c5f4be67593a",
   "metadata": {},
   "source": [
    "### 2-2. Classes and objects in depth"
   ]
  },
  {
   "cell_type": "markdown",
   "id": "c4d7c007-4568-4390-b536-4bd77faa1036",
   "metadata": {},
   "source": [
    "#### The `class` is a user-defined data structure which defines how to build a certain kind of `object`. That is, `class` is a blueprint or code template to create `object`. (クラスはオブジェクトを生成するためのひな型のイメージ)\n",
    "#### The `object` is a datatype that stores **attributes** (data, variables) and **methods** (operations, functions attached to attributes). (「属性」と「メソッド」と呼ばれる)"
   ]
  },
  {
   "cell_type": "code",
   "execution_count": 29,
   "id": "fb97b20d-4cdd-4c81-aa6c-2e00bb012077",
   "metadata": {},
   "outputs": [],
   "source": [
    "# By convention, user-defined class names start with a capital letter.\n",
    "class Prefecture:                         #Beginning of the class definition\n",
    "    \"\"\"A class representing prefectural \n",
    "       statistics in 2014\"\"\"              #Docstring\n",
    "    region_name = 'Shikoku'               #creating class variables\n",
    "    def __init__(self, name, pop, gdp):   #__init__() is the constructor (コンストラクタ) to create and initialize an object of the class. The constructor sets the state of the object's attributes (instance variables). \n",
    "                                          #In __init__(), \"self\" refers to the object currently being created. Although you must specify \"self\" explicitly when defining the method, you do not include it when calling the method.\n",
    "        self.name = name                  #creating instance variables: attributes\n",
    "        self.population = pop\n",
    "        self.gdp = gdp\n",
    "    def gdp_per_capita(self):             #creating an instance method to calculate prefectural gdp per capita\n",
    "        return self.gdp / self.population"
   ]
  },
  {
   "cell_type": "markdown",
   "id": "c820f149-c44a-49ef-931f-28a3f2fb48bb",
   "metadata": {},
   "source": [
    "#### The non-method data stored by objects are **attributes**.\n",
    "#### There are two kinds of attributes: **instance attributes** and **class attributes**.\n",
    "##### ・**Instance attributes**: Variables owned by a particular instance of the class. Each instance has its own value. You define instance attributes in the constructor (`__init__()` method of a class).\n",
    "##### ・**Class attributes**: Variables owned by the class as a whole. All instances in the class share the same value. They are defined inside of class, but outside of any method."
   ]
  },
  {
   "cell_type": "code",
   "execution_count": 30,
   "id": "c38ff19d-f81e-47d7-b11a-ac76993f79b7",
   "metadata": {},
   "outputs": [
    {
     "data": {
      "image/png": "[encoded data removed]",
      "text/plain": [
       "<IPython.core.display.Image object>"
      ]
     },
     "execution_count": 30,
     "metadata": {
      "image/png": {
       "height": 900,
       "width": 1100
      }
     },
     "output_type": "execute_result"
    }
   ],
   "source": [
    "Image(filename=\"classs_objects.png\", height=900, width=1100)"
   ]
  },
  {
   "cell_type": "code",
   "execution_count": 31,
   "id": "b786a62e-e62a-470b-af98-95e0126f265f",
   "metadata": {},
   "outputs": [
    {
     "name": "stdout",
     "output_type": "stream",
     "text": [
      "Kochi: 2349510000000\n",
      "Kagawa: 3672273000000\n",
      "Region: Shikoku\n"
     ]
    },
    {
     "data": {
      "text/plain": [
       "3747217.3469387754"
      ]
     },
     "execution_count": 31,
     "metadata": {},
     "output_type": "execute_result"
    }
   ],
   "source": [
    "#Instantiating objects: create instances of the class\n",
    "kochi = Prefecture('Kochi',736000,2349510000000)\n",
    "\n",
    "ehime = Prefecture('Ehime',1396000,4756495000000)\n",
    "kagawa = Prefecture('Kagawa',980000,3672273000000)\n",
    "tokushima = Prefecture('Tokushima',763000,3012328000000)\n",
    "\n",
    "# call instance variables: attributes\n",
    "print(f'{kochi.name}: {kochi.gdp}')\n",
    "print(f'{kagawa.name}: {kagawa.gdp}')\n",
    "\n",
    "# call class variables\n",
    "print(f'Region: {kochi.region_name}')\n",
    "# call methods\n",
    "kochi.gdp_per_capita()\n",
    "kagawa.gdp_per_capita()"
   ]
  },
  {
   "cell_type": "markdown",
   "id": "ee15c175-68d3-4285-8930-1178b5231cd7",
   "metadata": {},
   "source": [
    "### 2-3. Inheritance (継承)"
   ]
  },
  {
   "cell_type": "markdown",
   "id": "036563ae-c955-419c-89c5-1291d5696f2d",
   "metadata": {},
   "source": [
    "#### You can extend the definition of classes by using inheritance, which allows you to avoid redefining the same methods several times.\n",
    "#### You can make a subclass by putting the name of the superclass in parentheses right after the subclass's name.\n",
    "#### In the example below, you will add a method to calculate prefectural income per capita to the \"Prefecture\" class."
   ]
  },
  {
   "cell_type": "code",
   "execution_count": 32,
   "id": "2afacd9c-587d-4179-bfec-7c5c5c216f95",
   "metadata": {},
   "outputs": [],
   "source": [
    "class Prefecture_add(Prefecture):               #superclass is in parenthesis\n",
    "    \"\"\"A new class representing prefectural \n",
    "       statistics in 2014\"\"\"                    #Docstring\n",
    "    def __init__(self, name, pop, gdp, income): #constructor, containing attirbutes of the superclass and additional attributes in the subclass \n",
    "        super().__init__(name, pop, gdp)        #call the constructor of the superclass\n",
    "        self.income = income                    #creating a new instance variable: attribute\n",
    "        \n",
    "    def income_per_capita(self):             #creating a new instance method to calculate prefectural income per capita\n",
    "        return self.income / self.population\n",
    "        # you can avoid redefining instance variables and functions of the superclass. It is also possible to call the method of the superclass without redefining it."
   ]
  },
  {
   "cell_type": "code",
   "execution_count": 33,
   "id": "b3ff880a-8587-49a8-95c0-ce3a1dff71d5",
   "metadata": {},
   "outputs": [
    {
     "name": "stdout",
     "output_type": "stream",
     "text": [
      "Kochi: 2349510000000\n",
      "Kagawa: 3672273000000\n",
      "Region: Shikoku\n"
     ]
    },
    {
     "data": {
      "text/plain": [
       "2893228.5714285714"
      ]
     },
     "execution_count": 33,
     "metadata": {},
     "output_type": "execute_result"
    }
   ],
   "source": [
    "# create instances of the class\n",
    "kochi = Prefecture_add('Kochi',736000,2349510000000,1866110000000)\n",
    "\n",
    "ehime = Prefecture_add('Ehime',1396000,4756495000000,3516676000000)\n",
    "kagawa = Prefecture_add('Kagawa',980000,3672273000000,2835364000000)\n",
    "tokushima = Prefecture_add('Tokushima',763000,3012328000000,2219318000000)\n",
    "\n",
    "# call instance variables: attributes\n",
    "print(f'{kochi.name}: {kochi.gdp}')\n",
    "print(f'{kagawa.name}: {kagawa.gdp}')\n",
    "\n",
    "# call class variables\n",
    "print(f'Region: {kochi.region_name}')\n",
    "# call new methods\n",
    "kochi.income_per_capita()\n",
    "kagawa.income_per_capita()"
   ]
  },
  {
   "cell_type": "code",
   "execution_count": 34,
   "id": "af381798-944a-4fd2-a301-2bd4ed403bdb",
   "metadata": {},
   "outputs": [
    {
     "data": {
      "text/plain": [
       "3192269.0217391304"
      ]
     },
     "execution_count": 34,
     "metadata": {},
     "output_type": "execute_result"
    }
   ],
   "source": [
    "kochi.population\n",
    "kochi.gdp\n",
    "kochi.gdp_per_capita()"
   ]
  },
  {
   "cell_type": "code",
   "execution_count": null,
   "id": "a58f215a-d3bd-421e-b271-86cad6148d19",
   "metadata": {},
   "outputs": [],
   "source": []
  },
  {
   "cell_type": "markdown",
   "id": "fdd255ea-2fc8-400b-ae6f-d78cf4a1fae9",
   "metadata": {},
   "source": [
    "## 3. Exercise"
   ]
  },
  {
   "cell_type": "markdown",
   "id": "5ae280cb-7b42-404d-b953-6053f13d3787",
   "metadata": {},
   "source": [
    "#### $\\mathit{Q}$-1. Compute Theil's $T$ by using OOP. (see $\\mathit{Q}$-2 of the practice mini exam)"
   ]
  },
  {
   "cell_type": "markdown",
   "id": "9e9bf8b6-ce64-4e8c-8541-faf30e4f452c",
   "metadata": {},
   "source": [
    "#### Suppose that a hypothetical economy consists of two groups with 15 people each. \n",
    "#### Personal income data for both groups ($G1$ and $G2$) are defined as follows:\n",
    "\n",
    "#### $$G1: [1, 2, 2, 2, 3, 3, 3, 3, 3, 4, 4, 5, 6, 8, 10]$$\n",
    "#### $$G2: [1, 2, 2, 3, 3, 3, 3, 4, 4, 4, 4, 5, 6, 7, 8]$$\n",
    "\n",
    "\n",
    "#### $$T_T = \\frac{1}{N}\\sum^{N}_{i=1}\\frac{x_i}{\\bar{x}}\\ln \\frac{x_i}{\\bar{x}}$$"
   ]
  },
  {
   "cell_type": "code",
   "execution_count": null,
   "id": "03f06256-12aa-49cb-8956-c7e72777ab53",
   "metadata": {},
   "outputs": [],
   "source": []
  },
  {
   "cell_type": "code",
   "execution_count": null,
   "id": "c0bb908f-f553-4859-874d-658020ba60b3",
   "metadata": {},
   "outputs": [],
   "source": []
  },
  {
   "cell_type": "code",
   "execution_count": null,
   "id": "7b28507a-2b2f-4ca9-812d-7553bc5dfe46",
   "metadata": {},
   "outputs": [],
   "source": []
  }
 ],
 "metadata": {
  "kernelspec": {
   "display_name": "Python 3 (ipykernel)",
   "language": "python",
   "name": "python3"
  },
  "language_info": {
   "codemirror_mode": {
    "name": "ipython",
    "version": 3
   },
   "file_extension": ".py",
   "mimetype": "text/x-python",
   "name": "python",
   "nbconvert_exporter": "python",
   "pygments_lexer": "ipython3",
   "version": "3.10.7"
  }
 },
 "nbformat": 4,
 "nbformat_minor": 5
}
