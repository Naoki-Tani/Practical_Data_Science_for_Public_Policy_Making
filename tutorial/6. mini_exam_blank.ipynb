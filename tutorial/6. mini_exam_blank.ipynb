{
 "cells": [
  {
   "cell_type": "markdown",
   "id": "17296dcb-d430-409e-9304-e3ae5a1c36fb",
   "metadata": {},
   "source": [
    "# 6. Mini exam (**$15$** pts total)"
   ]
  },
  {
   "cell_type": "markdown",
   "id": "464ecca0-73e7-422f-8567-59c41573de0a",
   "metadata": {},
   "source": [
    "#### Naoki TANI\n",
    "#### Center for Advanced Policy Studies (CAPS), Institute of Economic Research, Kyoto University\n",
    "#### April 25, 2024\n",
    "#### 8:45 ~ 9:15"
   ]
  },
  {
   "cell_type": "code",
   "execution_count": 3,
   "id": "a13d06c0-80f2-4eed-9121-8dd37104b81f",
   "metadata": {},
   "outputs": [],
   "source": [
    "import numpy as np"
   ]
  },
  {
   "cell_type": "markdown",
   "id": "3a23d227-8eeb-4c88-85cd-ce8e8f9071fc",
   "metadata": {},
   "source": [
    "### $\\mathit{Q}$-1. Theil inequality decomposition method"
   ]
  },
  {
   "cell_type": "markdown",
   "id": "ef20decc-cf2d-4dbd-84c7-d7542226c66e",
   "metadata": {},
   "source": [
    "Reference: Theil, Henri. 1967. *\"Economics and Information Theory.\"* Amsterdam, the Netherlands: North-Holland."
   ]
  },
  {
   "cell_type": "markdown",
   "id": "97c1d1b8-461c-43ce-9dd1-1cce847d2c7d",
   "metadata": {},
   "source": [
    "#### Suppose that a hypothetical economy consists of two groups with 15 people each. \n",
    "#### Personal income data for both groups ($G1$ and $G2$) are defined as follows:\n",
    "\n",
    "#### $$G1: [1, 2, 2, 2, 3, 3, 3, 3, 3, 4, 4, 5, 6, 8, 10]$$\n",
    "#### $$G2: [1, 2, 2, 3, 3, 3, 3, 4, 4, 4, 4, 5, 6, 7, 8]$$"
   ]
  },
  {
   "cell_type": "markdown",
   "id": "60c6ae86-a1d4-466f-a94c-c0b9797c4eae",
   "metadata": {},
   "source": [
    "#### $\\mathit{Q}$-1-1. Create a class named `Theil` with the following attributes and methods: the instance attributes are `group` and `income`; the instance method is `theil_t` that computes the total amount of inequality mesured by Theil's *T*, which is defined as follows:  (**$5$** pts)\n",
    "#### $$T_T = \\frac{1}{N}\\sum^{N}_{i=1}\\frac{x_i}{\\bar{x}}\\ln \\frac{x_i}{\\bar{x}}$$\n",
    "\n",
    "#### where $N$ is total population, $x_i$ is personal income of individual $i$, and $\\bar{x}$ is the overall mean income.\n",
    "#### Note that the variables `group` and `income` are arrays in shape of $(N,)$ respectively."
   ]
  },
  {
   "cell_type": "code",
   "execution_count": null,
   "id": "ae7db2bf-c643-4339-829f-98df384d33aa",
   "metadata": {},
   "outputs": [],
   "source": []
  },
  {
   "cell_type": "markdown",
   "id": "b854f3ef-7d79-4b6b-8960-a43ef181886f",
   "metadata": {},
   "source": [
    "#### $\\mathit{Q}$-1-2. Instantiate the class `Theil` by using the personal income data and report the value of Theil's $T$. (**$2$** pts)"
   ]
  },
  {
   "cell_type": "code",
   "execution_count": null,
   "id": "5ea7e17a-ba4b-413c-a1bb-ce2b6c899be0",
   "metadata": {},
   "outputs": [],
   "source": []
  },
  {
   "cell_type": "markdown",
   "id": "a76e6526-755f-4e60-82c5-274b12e8394a",
   "metadata": {},
   "source": [
    "#### $\\mathit{Q}$-1-3. Create a `Theil_1st` class that inherits all the attributes and method from the `Theil` class and introduces a new method `theil_1st` to compute Theil's first measure defined as follows: (**$5$** pts)\n",
    "#### $$T_b = \\sum^{K}_{k=1}y_{k} \\ln \\frac{\\bar{x}_k}{\\bar{x}},$$\n",
    "\n",
    "#### where $y_k$ is the $k$th group's income share expressed as proportion of population total income and $\\bar{x}_{k}$ is the mean income of group $k$.\n",
    "#### If you cannot create the `Theil_1st` class, you can get **$2$** pts by defining a function `theil_1st` to compute Theil's first measure."
   ]
  },
  {
   "cell_type": "code",
   "execution_count": null,
   "id": "5e4d4e33-4383-4f03-8e21-a487652a7b77",
   "metadata": {},
   "outputs": [],
   "source": []
  },
  {
   "cell_type": "markdown",
   "id": "06efaee5-2ec6-4cdd-b3a0-29e42f93813f",
   "metadata": {},
   "source": [
    "#### $\\mathit{Q}$-1-4. Instantiate the class `Theilbwt` and report the value of Theil's first measure. (**$3$** pts)"
   ]
  },
  {
   "cell_type": "code",
   "execution_count": null,
   "id": "967e839d-1fe9-4b5c-991e-44b67e3d5e20",
   "metadata": {},
   "outputs": [],
   "source": []
  }
 ],
 "metadata": {
  "kernelspec": {
   "display_name": "Python 3 (ipykernel)",
   "language": "python",
   "name": "python3"
  },
  "language_info": {
   "codemirror_mode": {
    "name": "ipython",
    "version": 3
   },
   "file_extension": ".py",
   "mimetype": "text/x-python",
   "name": "python",
   "nbconvert_exporter": "python",
   "pygments_lexer": "ipython3",
   "version": "3.10.7"
  }
 },
 "nbformat": 4,
 "nbformat_minor": 5
}
