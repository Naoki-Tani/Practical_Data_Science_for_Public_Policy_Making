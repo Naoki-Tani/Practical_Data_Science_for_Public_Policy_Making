{
 "cells": [
  {
   "cell_type": "markdown",
   "id": "17296dcb-d430-409e-9304-e3ae5a1c36fb",
   "metadata": {},
   "source": [
    "# 8. Mini exam (**$15$** pts total)"
   ]
  },
  {
   "cell_type": "markdown",
   "id": "464ecca0-73e7-422f-8567-59c41573de0a",
   "metadata": {},
   "source": [
    "#### Naoki TANI\n",
    "#### Center for Advanced Policy Studies (CAPS), Institute of Economic Research, Kyoto University\n",
    "#### May 9, 2024\n",
    "#### 8:45 ~ 9:00"
   ]
  },
  {
   "cell_type": "code",
   "execution_count": 1,
   "id": "a13d06c0-80f2-4eed-9121-8dd37104b81f",
   "metadata": {},
   "outputs": [],
   "source": [
    "import numpy as np\n",
    "import pandas as pd\n",
    "import matplotlib.pyplot as plt"
   ]
  },
  {
   "cell_type": "markdown",
   "id": "3a23d227-8eeb-4c88-85cd-ce8e8f9071fc",
   "metadata": {},
   "source": [
    "### $\\mathit{Q}$-1. Theil inequality decomposition method"
   ]
  },
  {
   "cell_type": "markdown",
   "id": "ef20decc-cf2d-4dbd-84c7-d7542226c66e",
   "metadata": {},
   "source": [
    "Reference: Theil, Henri. 1967. *\"Economics and Information Theory.\"* Amsterdam, the Netherlands: North-Holland."
   ]
  },
  {
   "cell_type": "markdown",
   "id": "97c1d1b8-461c-43ce-9dd1-1cce847d2c7d",
   "metadata": {},
   "source": [
    "#### Suppose that a hypothetical economy consists of two groups with 15 people each. \n",
    "#### Personal income data for both groups ($G1$ and $G2$) are defined as follows:\n",
    "\n",
    "#### $$G1: [1, 2, 2, 2, 3, 3, 3, 3, 3, 4, 4, 5, 6, 8, 10]$$\n",
    "#### $$G2: [1, 2, 2, 3, 3, 3, 3, 4, 4, 4, 4, 5, 6, 7, 8]$$"
   ]
  },
  {
   "cell_type": "markdown",
   "id": "60c6ae86-a1d4-466f-a94c-c0b9797c4eae",
   "metadata": {},
   "source": [
    "#### $\\mathit{Q}$-1-1. Create a class named `Theil` with the following attributes and methods: the instance attributes are `group` and `income`; the instance methods are `theil_t` that computes the total amount of inequality mesured by Theil's *T* and `theil_index` that calculates Theil's between and within group components. The two methods are defined as follows:  (**$5$** pts)\n",
    "#### `theil_t`: $$T_T = \\frac{1}{N}\\sum^{N}_{i=1}\\frac{x_i}{\\bar{x}}\\ln \\frac{x_i}{\\bar{x}},$$\n",
    "#### `theil_index`: $$T_b = \\sum^{K}_{k=1}y_{k} \\ln \\frac{\\bar{x}_k}{\\bar{x}},$$\n",
    "#### $$T_w = \\sum^{K}_{k=1} y_{k} \\sum^{n_k}_{i=1} y_{ik} \\ln \\frac{x_{ik}}{\\bar{x}_k},$$\n",
    "\n",
    "\n",
    "#### where $N$ is total population, $x_i$ is personal income of individual $i$, $\\bar{x}$ is the overall mean income, $y_k$ is the $k$th group's income share expressed as proportion of population total income, $\\bar{x}_{k}$ is the mean income of group $k$, $y_{ik}$ is the income share of the $i$th individual within the $k$th group, $n_{k}$ is the population of the $k$th group, and $x_{ik}$ is the $i$th individual’s income within group $k$.\n",
    "#### Note that the variables `group` and `income` are arrays in shape of $(N,)$ respectively.\n",
    "#### Do not utilize $T_b + T_w = T_T$ when you define `theil_index`."
   ]
  },
  {
   "cell_type": "code",
   "execution_count": 2,
   "id": "7f80e03a-f7b8-45f3-97c6-1a9560b66923",
   "metadata": {},
   "outputs": [],
   "source": []
  },
  {
   "cell_type": "markdown",
   "id": "b854f3ef-7d79-4b6b-8960-a43ef181886f",
   "metadata": {},
   "source": [
    "#### $\\mathit{Q}$-1-2. Instantiate the class `Theil` by using the personal income data and report the values of Theil's $T$ and between and within group components. (**$2$** pts)"
   ]
  },
  {
   "cell_type": "code",
   "execution_count": 3,
   "id": "26c23f14-fddd-48a3-ab97-59ac07d33a86",
   "metadata": {},
   "outputs": [
    {
     "name": "stdout",
     "output_type": "stream",
     "text": [
      "(30,)\n",
      "The total amount of inequality defned as Theil's T is 0.134.\n",
      "Theil's between group component is 0.0.\n",
      "Theil's within group component is 0.134.\n"
     ]
    },
    {
     "data": {
      "text/plain": [
       "0.0"
      ]
     },
     "execution_count": 3,
     "metadata": {},
     "output_type": "execute_result"
    }
   ],
   "source": []
  },
  {
   "cell_type": "markdown",
   "id": "4a79bc9b-85cc-4cd3-95d1-9420490e608f",
   "metadata": {},
   "source": [
    "### $\\mathit{Q}$-2. Consider a simple SIR model in tutorial $3$. Plot the transition of the number of new infection cases for each of the $20$ scenarios with varying values of $\\beta$ by using `for loop`. (**$4$** pts)"
   ]
  },
  {
   "cell_type": "code",
   "execution_count": 4,
   "id": "4e138c57-3f96-465d-965a-69029d81ef45",
   "metadata": {},
   "outputs": [],
   "source": []
  },
  {
   "cell_type": "code",
   "execution_count": 5,
   "id": "ec8351be-ff22-45e9-80bc-aa7b42cab5f1",
   "metadata": {},
   "outputs": [],
   "source": []
  },
  {
   "cell_type": "code",
   "execution_count": 6,
   "id": "8a801bc4-3dc2-4be8-9470-1fdb64aaa848",
   "metadata": {},
   "outputs": [
    {
     "data": {
      "text/plain": [
       "array([0.01, 0.02, 0.03, 0.04, 0.05, 0.06, 0.07, 0.08, 0.09, 0.1 , 0.11,\n",
       "       0.12, 0.13, 0.14, 0.15, 0.16, 0.17, 0.18, 0.19, 0.2 ])"
      ]
     },
     "execution_count": 6,
     "metadata": {},
     "output_type": "execute_result"
    }
   ],
   "source": []
  },
  {
   "cell_type": "code",
   "execution_count": 7,
   "id": "8daf643d-da6d-48e5-a911-9c30c14e998a",
   "metadata": {},
   "outputs": [],
   "source": []
  },
  {
   "cell_type": "code",
   "execution_count": 8,
   "id": "9a46b75c-73e8-4047-a5f6-028e5b72f2d7",
   "metadata": {},
   "outputs": [],
   "source": []
  },
  {
   "cell_type": "code",
   "execution_count": 9,
   "id": "ee8eb43f-0576-4271-a60d-288e45de9fbf",
   "metadata": {},
   "outputs": [
    {
     "data": {
      "text/plain": [
       "array([[0.00000000e+00, 0.00000000e+00, 0.00000000e+00, ...,\n",
       "        0.00000000e+00, 0.00000000e+00, 0.00000000e+00],\n",
       "       [1.65289256e-02, 3.30578512e-02, 4.95867769e-02, ...,\n",
       "        2.97520661e-01, 3.14049587e-01, 3.30578512e-01],\n",
       "       [1.62688341e-02, 3.27565509e-02, 4.94617935e-02, ...,\n",
       "        3.25220778e-01, 3.45221883e-01, 3.65417446e-01],\n",
       "       ...,\n",
       "       [6.23464504e-06, 1.93409932e-04, 3.09078332e-04, ...,\n",
       "        1.09486446e-09, 6.28186690e-10, 3.59341531e-10],\n",
       "       [6.13653955e-06, 1.91377249e-04, 3.05517337e-04, ...,\n",
       "        1.06859800e-09, 6.13113052e-10, 3.50717911e-10],\n",
       "       [6.03997780e-06, 1.89365920e-04, 3.01997349e-04, ...,\n",
       "        1.04296175e-09, 5.98401147e-10, 3.42301264e-10]])"
      ]
     },
     "execution_count": 9,
     "metadata": {},
     "output_type": "execute_result"
    }
   ],
   "source": []
  },
  {
   "cell_type": "code",
   "execution_count": 10,
   "id": "41512ccd-c3fc-4510-a592-0b297e70d88c",
   "metadata": {},
   "outputs": [
    {
     "data": {
      "image/png": "[encoded data removed]",
      "text/plain": [
       "<Figure size 700x400 with 1 Axes>"
      ]
     },
     "metadata": {},
     "output_type": "display_data"
    }
   ],
   "source": []
  },
  {
   "cell_type": "code",
   "execution_count": null,
   "id": "6756d576-c59d-42e9-8254-7fd03cfc9a70",
   "metadata": {},
   "outputs": [],
   "source": []
  },
  {
   "cell_type": "markdown",
   "id": "bb748fc0-113f-4b4c-b6da-108b57a251a6",
   "metadata": {},
   "source": [
    "### $\\mathit{Q}$-3. Consumption data"
   ]
  },
  {
   "cell_type": "markdown",
   "id": "07370f29-9b7c-4177-9ecb-4185167256cc",
   "metadata": {},
   "source": [
    "#### $\\mathit{Q}$-3-1. Read `consumption_data.csv`. Group the data by `業種①`, `性別`, `年代`, and `市区町村` and calculate the sum of `金額` for each group. (**$2$** pts)"
   ]
  },
  {
   "cell_type": "code",
   "execution_count": 13,
   "id": "598ff197-4ffb-4eab-b170-5f05b276bb5e",
   "metadata": {},
   "outputs": [],
   "source": []
  },
  {
   "cell_type": "markdown",
   "id": "545b7806-c021-4418-9d3b-d15d370d1c6d",
   "metadata": {},
   "source": [
    "#### $\\mathit{Q}$-3-2. Using `Theil` class you defined in $\\mathit{Q}$-1-1, report Theil index when you use `市区町村` as a group index. (**$2$** pts)"
   ]
  },
  {
   "cell_type": "code",
   "execution_count": null,
   "id": "decbf426-b4b8-4df3-b872-64304bc74b8e",
   "metadata": {},
   "outputs": [],
   "source": []
  }
 ],
 "metadata": {
  "kernelspec": {
   "display_name": "Python 3 (ipykernel)",
   "language": "python",
   "name": "python3"
  },
  "language_info": {
   "codemirror_mode": {
    "name": "ipython",
    "version": 3
   },
   "file_extension": ".py",
   "mimetype": "text/x-python",
   "name": "python",
   "nbconvert_exporter": "python",
   "pygments_lexer": "ipython3",
   "version": "3.10.7"
  }
 },
 "nbformat": 4,
 "nbformat_minor": 5
}
