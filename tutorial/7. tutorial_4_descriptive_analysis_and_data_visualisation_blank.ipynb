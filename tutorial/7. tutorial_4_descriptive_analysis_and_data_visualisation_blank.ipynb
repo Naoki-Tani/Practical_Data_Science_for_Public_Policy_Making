{
 "cells": [
  {
   "cell_type": "markdown",
   "id": "17296dcb-d430-409e-9304-e3ae5a1c36fb",
   "metadata": {},
   "source": [
    "# 7. Tutorial 4: Descriptive analysis and data visualisation (1)"
   ]
  },
  {
   "cell_type": "markdown",
   "id": "464ecca0-73e7-422f-8567-59c41573de0a",
   "metadata": {},
   "source": [
    "#### Naoki TANI\n",
    "#### Center for Advanced Policy Studies (CAPS), Institute of Economic Research, Kyoto University\n",
    "#### April 25, 2024"
   ]
  },
  {
   "cell_type": "code",
   "execution_count": 1,
   "id": "a13d06c0-80f2-4eed-9121-8dd37104b81f",
   "metadata": {},
   "outputs": [],
   "source": [
    "import numpy as np\n",
    "import pandas as pd\n",
    "from IPython.display import Image"
   ]
  },
  {
   "cell_type": "markdown",
   "id": "18d0109f-b1c2-442b-92f2-c308621cb80e",
   "metadata": {
    "tags": []
   },
   "source": [
    "## 1. Descriptive analysis with pandas"
   ]
  },
  {
   "cell_type": "markdown",
   "id": "c3907182-85a4-46f6-977f-82cc59af799e",
   "metadata": {},
   "source": [
    "### 1-1. Pandas `Series` and `DataFrame`"
   ]
  },
  {
   "cell_type": "markdown",
   "id": "5fbe6d2a-21c2-4121-804c-884e0ce09e10",
   "metadata": {},
   "source": [
    "#### [pandas](https://pandas.pydata.org/) is a python library providing a dataframe object to help you manage data. This lecture covers how to use `Series` and `DataFrame` objects to handle data.\n",
    "#### `Series` is a one-dimensional array holdking any type of indexed data. All the data in a Series is of the same data type."
   ]
  },
  {
   "cell_type": "code",
   "execution_count": 2,
   "id": "20837af8-fed1-4c15-8a28-a46cc81bc4e6",
   "metadata": {},
   "outputs": [
    {
     "data": {
      "text/plain": [
       "0        Kochi\n",
       "1        Ehime\n",
       "2       Kagawa\n",
       "3    Tokushima\n",
       "dtype: object"
      ]
     },
     "execution_count": 2,
     "metadata": {},
     "output_type": "execute_result"
    }
   ],
   "source": [
    "pref = ['Kochi', 'Ehime', 'Kagawa', 'Tokushima']\n",
    "prefecture = pd.Series(pref)\n",
    "prefecture # The values are labeled with their index number. First value has index 0, second value has index 1 etc."
   ]
  },
  {
   "cell_type": "markdown",
   "id": "0b8394e8-529c-41a5-b231-eb3ab0f8909d",
   "metadata": {},
   "source": [
    "#### The `Series` is composed of the values and index attributes."
   ]
  },
  {
   "cell_type": "code",
   "execution_count": 3,
   "id": "1a989ee8-afd0-4024-a3ef-63e8b15b9ab9",
   "metadata": {},
   "outputs": [
    {
     "name": "stdout",
     "output_type": "stream",
     "text": [
      "['Kochi' 'Ehime' 'Kagawa' 'Tokushima']\n",
      "RangeIndex(start=0, stop=4, step=1)\n"
     ]
    }
   ],
   "source": [
    "print(prefecture.values)\n",
    "print(prefecture.index)"
   ]
  },
  {
   "cell_type": "code",
   "execution_count": 4,
   "id": "8fb83028-ccf5-4c11-b6ef-112da4969f82",
   "metadata": {},
   "outputs": [
    {
     "data": {
      "text/plain": [
       "'Ehime'"
      ]
     },
     "execution_count": 4,
     "metadata": {},
     "output_type": "execute_result"
    }
   ],
   "source": [
    "prefecture[1]"
   ]
  },
  {
   "cell_type": "markdown",
   "id": "8b8651a2-2e25-4a42-90fd-f127f6769232",
   "metadata": {},
   "source": [
    "#### `DataFrame` is a two-dimensional table of data with columns and rows. The columns are made up of `Series` objects."
   ]
  },
  {
   "cell_type": "code",
   "execution_count": 5,
   "id": "42df435c-b09f-4b31-a2ea-4fe2904ba407",
   "metadata": {},
   "outputs": [
    {
     "data": {
      "text/html": [
       "<div>\n",
       "<style scoped>\n",
       "    .dataframe tbody tr th:only-of-type {\n",
       "        vertical-align: middle;\n",
       "    }\n",
       "\n",
       "    .dataframe tbody tr th {\n",
       "        vertical-align: top;\n",
       "    }\n",
       "\n",
       "    .dataframe thead th {\n",
       "        text-align: right;\n",
       "    }\n",
       "</style>\n",
       "<table border=\"1\" class=\"dataframe\">\n",
       "  <thead>\n",
       "    <tr style=\"text-align: right;\">\n",
       "      <th></th>\n",
       "      <th>population</th>\n",
       "      <th>gdp</th>\n",
       "      <th>income</th>\n",
       "    </tr>\n",
       "  </thead>\n",
       "  <tbody>\n",
       "    <tr>\n",
       "      <th>Kochi</th>\n",
       "      <td>736000</td>\n",
       "      <td>2349510000000</td>\n",
       "      <td>1866110000000</td>\n",
       "    </tr>\n",
       "    <tr>\n",
       "      <th>Ehime</th>\n",
       "      <td>1396000</td>\n",
       "      <td>4756495000000</td>\n",
       "      <td>3516676000000</td>\n",
       "    </tr>\n",
       "    <tr>\n",
       "      <th>Kagawa</th>\n",
       "      <td>980000</td>\n",
       "      <td>3672273000000</td>\n",
       "      <td>2835364000000</td>\n",
       "    </tr>\n",
       "    <tr>\n",
       "      <th>Tokushima</th>\n",
       "      <td>763000</td>\n",
       "      <td>3012328000000</td>\n",
       "      <td>2219318000000</td>\n",
       "    </tr>\n",
       "  </tbody>\n",
       "</table>\n",
       "</div>"
      ],
      "text/plain": [
       "           population            gdp         income\n",
       "Kochi          736000  2349510000000  1866110000000\n",
       "Ehime         1396000  4756495000000  3516676000000\n",
       "Kagawa         980000  3672273000000  2835364000000\n",
       "Tokushima      763000  3012328000000  2219318000000"
      ]
     },
     "execution_count": 5,
     "metadata": {},
     "output_type": "execute_result"
    }
   ],
   "source": [
    "prefstat = pd.DataFrame({'population':[736000,1396000,980000,763000],\n",
    "                          'gdp':[2349510000000,4756495000000,3672273000000,3012328000000],\n",
    "                          'income':[1866110000000,3516676000000,2835364000000,2219318000000]},\n",
    "                           index=prefecture)\n",
    "prefstat"
   ]
  },
  {
   "cell_type": "code",
   "execution_count": 6,
   "id": "5fe8ed35-e6dc-4026-9467-9dcc8e7dae71",
   "metadata": {},
   "outputs": [
    {
     "data": {
      "text/plain": [
       "Index(['population', 'gdp', 'income'], dtype='object')"
      ]
     },
     "execution_count": 6,
     "metadata": {},
     "output_type": "execute_result"
    }
   ],
   "source": [
    "prefstat.values\n",
    "prefstat.index\n",
    "prefstat.columns"
   ]
  },
  {
   "cell_type": "code",
   "execution_count": 7,
   "id": "6717bef0-d3b6-4f85-b6fe-eaf845e19961",
   "metadata": {},
   "outputs": [
    {
     "data": {
      "text/plain": [
       "Kochi         736000\n",
       "Ehime        1396000\n",
       "Kagawa        980000\n",
       "Tokushima     763000\n",
       "Name: population, dtype: int64"
      ]
     },
     "execution_count": 7,
     "metadata": {},
     "output_type": "execute_result"
    }
   ],
   "source": [
    "prefstat.population"
   ]
  },
  {
   "cell_type": "markdown",
   "id": "5dc601f5-002a-4294-a052-dfbd7bd8b2c4",
   "metadata": {},
   "source": [
    "### 1-2. Working with consumption data"
   ]
  },
  {
   "cell_type": "code",
   "execution_count": null,
   "id": "3ec90af8-05c3-404d-844d-b5e1169bb52a",
   "metadata": {
    "tags": []
   },
   "outputs": [],
   "source": [
    "# We can read CSV files by using a pandan read_csv method.\n",
    "df = pd.read_csv('consumption_data.csv')\n",
    "\n",
    "# drop rows if all values in the rows are NaN\n",
    "df.dropna(how='all', inplace=True)\n",
    "\n",
    "df;"
   ]
  },
  {
   "cell_type": "markdown",
   "id": "c56a1e71-9045-4f43-92df-482f7d325216",
   "metadata": {},
   "source": [
    "#### Data from a CSV file is stored in a DataFrame object."
   ]
  },
  {
   "cell_type": "code",
   "execution_count": null,
   "id": "d4ba5970-fbf3-4d27-8141-0c2b110e6a04",
   "metadata": {},
   "outputs": [],
   "source": [
    "type(df)"
   ]
  },
  {
   "cell_type": "markdown",
   "id": "8af4b49c-0866-41b9-b359-7a255730fabf",
   "metadata": {},
   "source": [
    "#### We can see some basic information about a dataframe by using `.info()`, `.columns`, and `.shape`."
   ]
  },
  {
   "cell_type": "code",
   "execution_count": null,
   "id": "7e124f97-d2ab-4145-b9b7-1913a0038550",
   "metadata": {},
   "outputs": [],
   "source": [
    "print(df.info())\n",
    "print(df.columns)\n",
    "print('The shape of the dataframe is',df.shape)"
   ]
  },
  {
   "cell_type": "code",
   "execution_count": null,
   "id": "2d6909e9-097d-4cb1-899a-8c065a504712",
   "metadata": {},
   "outputs": [],
   "source": [
    "# Convert object to integer\n",
    "df['金額'] = df['金額'].str.replace(',', '').astype(int)"
   ]
  },
  {
   "cell_type": "markdown",
   "id": "c9462e1e-97e8-488f-b277-e885bb9106e4",
   "metadata": {},
   "source": [
    "#### Each column contains a specific data type. `.describe()` reports statistical information for numeric columns."
   ]
  },
  {
   "cell_type": "code",
   "execution_count": null,
   "id": "fa92b3ff-db8c-45ad-94c5-95525dab6429",
   "metadata": {},
   "outputs": [],
   "source": [
    "df.describe()"
   ]
  }
 ],
 "metadata": {
  "kernelspec": {
   "display_name": "Python 3 (ipykernel)",
   "language": "python",
   "name": "python3"
  },
  "language_info": {
   "codemirror_mode": {
    "name": "ipython",
    "version": 3
   },
   "file_extension": ".py",
   "mimetype": "text/x-python",
   "name": "python",
   "nbconvert_exporter": "python",
   "pygments_lexer": "ipython3",
   "version": "3.10.7"
  }
 },
 "nbformat": 4,
 "nbformat_minor": 5
}
