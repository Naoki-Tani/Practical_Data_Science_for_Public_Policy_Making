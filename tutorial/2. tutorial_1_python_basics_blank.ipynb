{
 "cells": [
  {
   "cell_type": "markdown",
   "id": "2f8434b1-642c-424f-b174-d531032beedb",
   "metadata": {},
   "source": [
    "# 2. Tutorial 1: Python Basics"
   ]
  },
  {
   "cell_type": "markdown",
   "id": "d33d2c91-4d76-42df-9fef-364718b00af7",
   "metadata": {},
   "source": [
    "#### Naoki TANI\n",
    "#### Center for Advanced Policy Studies (CAPS), Institute of Economic Research, Kyoto University\n",
    "#### April 11, 2024"
   ]
  },
  {
   "cell_type": "code",
   "execution_count": 1,
   "id": "1445449d-c5ba-4af1-8cbb-456a67a0ed07",
   "metadata": {},
   "outputs": [],
   "source": [
    "import numpy as np"
   ]
  },
  {
   "cell_type": "markdown",
   "id": "baa4d162-6e29-4545-9e0f-37c82045cc0a",
   "metadata": {},
   "source": [
    "## 1. Basic Python syntax"
   ]
  },
  {
   "cell_type": "markdown",
   "id": "e7648596-0522-4d14-9ca8-bead7e00215f",
   "metadata": {},
   "source": [
    "### 1-1. Variable assignment"
   ]
  },
  {
   "cell_type": "code",
   "execution_count": 2,
   "id": "14687e34-12c2-4be9-af4e-4080708b46ba",
   "metadata": {},
   "outputs": [
    {
     "data": {
      "text/plain": [
       "3"
      ]
     },
     "execution_count": 2,
     "metadata": {},
     "output_type": "execute_result"
    }
   ],
   "source": [
    "# Assign the value 3 to the variable x\n",
    "x = 3\n",
    "x"
   ]
  },
  {
   "cell_type": "code",
   "execution_count": 3,
   "id": "a5de39c2-0cd3-4263-843d-412bcefed3c9",
   "metadata": {},
   "outputs": [
    {
     "data": {
      "text/plain": [
       "5"
      ]
     },
     "execution_count": 3,
     "metadata": {},
     "output_type": "execute_result"
    }
   ],
   "source": [
    "y = 5\n",
    "y"
   ]
  },
  {
   "cell_type": "code",
   "execution_count": 4,
   "id": "892283b3-98c2-4324-9966-e94bb096d592",
   "metadata": {},
   "outputs": [
    {
     "data": {
      "text/plain": [
       "2"
      ]
     },
     "execution_count": 4,
     "metadata": {},
     "output_type": "execute_result"
    }
   ],
   "source": [
    "α = 2\n",
    "α"
   ]
  },
  {
   "cell_type": "markdown",
   "id": "480da777-4eee-49f9-b245-30a89a0a7386",
   "metadata": {},
   "source": [
    "### 1-2. Mathematical operators"
   ]
  },
  {
   "cell_type": "code",
   "execution_count": 5,
   "id": "5c8f110c-fbcc-406d-abc2-5c591ec13575",
   "metadata": {},
   "outputs": [
    {
     "data": {
      "text/plain": [
       "8"
      ]
     },
     "execution_count": 5,
     "metadata": {},
     "output_type": "execute_result"
    }
   ],
   "source": [
    "#addition\n",
    "x + y"
   ]
  },
  {
   "cell_type": "code",
   "execution_count": 6,
   "id": "b34d172b-43ef-4d96-b075-f8f1c0c6459b",
   "metadata": {},
   "outputs": [
    {
     "data": {
      "text/plain": [
       "2"
      ]
     },
     "execution_count": 6,
     "metadata": {},
     "output_type": "execute_result"
    }
   ],
   "source": [
    "#subtraction\n",
    "y - x"
   ]
  },
  {
   "cell_type": "code",
   "execution_count": 7,
   "id": "9cdb5c04-c15a-4605-bf5a-68de98be04e6",
   "metadata": {},
   "outputs": [
    {
     "data": {
      "text/plain": [
       "15"
      ]
     },
     "execution_count": 7,
     "metadata": {},
     "output_type": "execute_result"
    }
   ],
   "source": [
    "#multiplication\n",
    "x * y"
   ]
  },
  {
   "cell_type": "code",
   "execution_count": 8,
   "id": "f8c42196-1069-45cd-9b1e-f5f6c60b9637",
   "metadata": {},
   "outputs": [
    {
     "data": {
      "text/plain": [
       "0.6"
      ]
     },
     "execution_count": 8,
     "metadata": {},
     "output_type": "execute_result"
    }
   ],
   "source": [
    "#division\n",
    "x/y"
   ]
  },
  {
   "cell_type": "code",
   "execution_count": 9,
   "id": "07b42751-7105-4784-9657-0efe8c7dbaca",
   "metadata": {},
   "outputs": [
    {
     "data": {
      "text/plain": [
       "243"
      ]
     },
     "execution_count": 9,
     "metadata": {},
     "output_type": "execute_result"
    }
   ],
   "source": [
    "#power \n",
    "x**y\n",
    "# not ^ "
   ]
  },
  {
   "cell_type": "code",
   "execution_count": 10,
   "id": "30d9d2d4-4405-4e0d-b775-a29e47d868b9",
   "metadata": {},
   "outputs": [
    {
     "name": "stdout",
     "output_type": "stream",
     "text": [
      "y is equal to 5 : True\n",
      "y is greater than x : True\n",
      "y is less than or equal to 5 : True\n",
      "x is greater than or equal to 3 : True\n",
      "x is greater than or equal to 3 : True\n",
      "x is not equal to 2 : True\n"
     ]
    }
   ],
   "source": [
    "#comparison operators\n",
    "print(\"y is equal to 5 :\", y==5)\n",
    "print(\"y is greater than x :\", y>x)\n",
    "print(\"y is less than or equal to 5 :\", y<=5)\n",
    "print(\"x is greater than or equal to 3 :\", x>=3)\n",
    "print(\"x is greater than or equal to 3 :\", x>=3)\n",
    "print(\"x is not equal to 2 :\", x!=2)"
   ]
  },
  {
   "cell_type": "code",
   "execution_count": 11,
   "id": "122c4b30-b7cd-4672-b913-4a5f474b95aa",
   "metadata": {},
   "outputs": [
    {
     "name": "stdout",
     "output_type": "stream",
     "text": [
      "True\n"
     ]
    }
   ],
   "source": [
    "#comparison operators can be chained\n",
    "print(0<x<=y==5)"
   ]
  },
  {
   "cell_type": "markdown",
   "id": "d3813b29-94c0-4aa7-b865-001ef484a2d6",
   "metadata": {},
   "source": [
    "### 1-3. Boolean operators(論理演算子)"
   ]
  },
  {
   "cell_type": "code",
   "execution_count": 12,
   "id": "f3788319-e975-44d7-957c-55989ffded11",
   "metadata": {},
   "outputs": [
    {
     "data": {
      "text/plain": [
       "True"
      ]
     },
     "execution_count": 12,
     "metadata": {},
     "output_type": "execute_result"
    }
   ],
   "source": [
    "#logical disjunction (論理和)\n",
    "True | True"
   ]
  },
  {
   "cell_type": "code",
   "execution_count": 13,
   "id": "4e1543a6-5a91-4e26-8a6b-36b2f84db33c",
   "metadata": {},
   "outputs": [
    {
     "data": {
      "text/plain": [
       "True"
      ]
     },
     "execution_count": 13,
     "metadata": {},
     "output_type": "execute_result"
    }
   ],
   "source": [
    "True | False"
   ]
  },
  {
   "cell_type": "code",
   "execution_count": 14,
   "id": "f723e255-8542-493e-8c20-6ca268075c92",
   "metadata": {},
   "outputs": [
    {
     "data": {
      "text/plain": [
       "True"
      ]
     },
     "execution_count": 14,
     "metadata": {},
     "output_type": "execute_result"
    }
   ],
   "source": [
    "#logical conjunction (論理積)\n",
    "True & True"
   ]
  },
  {
   "cell_type": "code",
   "execution_count": 15,
   "id": "aac8627b-26b4-49a2-a3b5-1ae5e2111038",
   "metadata": {},
   "outputs": [
    {
     "data": {
      "text/plain": [
       "False"
      ]
     },
     "execution_count": 15,
     "metadata": {},
     "output_type": "execute_result"
    }
   ],
   "source": [
    "True & False"
   ]
  },
  {
   "cell_type": "code",
   "execution_count": 16,
   "id": "a91b030d-3ade-4616-a524-4b5a98d5db79",
   "metadata": {},
   "outputs": [
    {
     "data": {
      "text/plain": [
       "True"
      ]
     },
     "execution_count": 16,
     "metadata": {},
     "output_type": "execute_result"
    }
   ],
   "source": [
    "#Example\n",
    "(x==3) | (y==4)"
   ]
  },
  {
   "cell_type": "code",
   "execution_count": 17,
   "id": "f071f116-8838-453c-98fb-892dbd75076b",
   "metadata": {},
   "outputs": [
    {
     "data": {
      "text/plain": [
       "False"
      ]
     },
     "execution_count": 17,
     "metadata": {},
     "output_type": "execute_result"
    }
   ],
   "source": [
    "(x==3) & (y==4)"
   ]
  },
  {
   "cell_type": "markdown",
   "id": "4b7115ee-6117-401a-aef8-954bdf884d02",
   "metadata": {},
   "source": [
    "### 1-4. Basic types (データ型)"
   ]
  },
  {
   "cell_type": "code",
   "execution_count": 18,
   "id": "db302af2-c9e7-47fb-b8e5-fb9cf3278f6a",
   "metadata": {},
   "outputs": [
    {
     "data": {
      "text/plain": [
       "int"
      ]
     },
     "execution_count": 18,
     "metadata": {},
     "output_type": "execute_result"
    }
   ],
   "source": [
    "type(x)"
   ]
  },
  {
   "cell_type": "code",
   "execution_count": 19,
   "id": "236ab471-b350-4db9-9656-434f56fe9231",
   "metadata": {},
   "outputs": [
    {
     "data": {
      "text/plain": [
       "int"
      ]
     },
     "execution_count": 19,
     "metadata": {},
     "output_type": "execute_result"
    }
   ],
   "source": [
    "type(y)"
   ]
  },
  {
   "cell_type": "code",
   "execution_count": 20,
   "id": "07fda44f-df91-49a7-9dcc-d9bde647718a",
   "metadata": {},
   "outputs": [
    {
     "data": {
      "text/plain": [
       "float"
      ]
     },
     "execution_count": 20,
     "metadata": {},
     "output_type": "execute_result"
    }
   ],
   "source": [
    "type(x/y)"
   ]
  },
  {
   "cell_type": "code",
   "execution_count": 21,
   "id": "a3737d09-d41a-40df-8302-89e224d14129",
   "metadata": {},
   "outputs": [
    {
     "data": {
      "text/plain": [
       "float"
      ]
     },
     "execution_count": 21,
     "metadata": {},
     "output_type": "execute_result"
    }
   ],
   "source": [
    "type(np.nan)"
   ]
  },
  {
   "cell_type": "code",
   "execution_count": 22,
   "id": "aa9c8e69-8168-4e9d-8c37-2cfceb6d1910",
   "metadata": {},
   "outputs": [
    {
     "data": {
      "text/plain": [
       "str"
      ]
     },
     "execution_count": 22,
     "metadata": {},
     "output_type": "execute_result"
    }
   ],
   "source": [
    "type(\"Kyoto\")"
   ]
  },
  {
   "cell_type": "code",
   "execution_count": 23,
   "id": "4b6dd272-d505-4f61-8781-39bcc3ebf4e3",
   "metadata": {},
   "outputs": [
    {
     "data": {
      "text/plain": [
       "False"
      ]
     },
     "execution_count": 23,
     "metadata": {},
     "output_type": "execute_result"
    }
   ],
   "source": [
    "#useful functions to test numbers for special values\n",
    "np.isinf(x)"
   ]
  },
  {
   "cell_type": "code",
   "execution_count": 24,
   "id": "ef39a2c3-539f-4b22-99b9-444e63400f13",
   "metadata": {},
   "outputs": [
    {
     "data": {
      "text/plain": [
       "True"
      ]
     },
     "execution_count": 24,
     "metadata": {},
     "output_type": "execute_result"
    }
   ],
   "source": [
    "np.isinf(np.inf)"
   ]
  },
  {
   "cell_type": "code",
   "execution_count": 25,
   "id": "2bfd9169-9b6f-495b-8c1b-fa69dff26b0d",
   "metadata": {},
   "outputs": [
    {
     "data": {
      "text/plain": [
       "False"
      ]
     },
     "execution_count": 25,
     "metadata": {},
     "output_type": "execute_result"
    }
   ],
   "source": [
    "np.isnan(1)"
   ]
  },
  {
   "cell_type": "code",
   "execution_count": 26,
   "id": "e5646c0a-1890-4100-9831-a0134923bb47",
   "metadata": {},
   "outputs": [
    {
     "data": {
      "text/plain": [
       "True"
      ]
     },
     "execution_count": 26,
     "metadata": {},
     "output_type": "execute_result"
    }
   ],
   "source": [
    "np.isnan(np.nan)"
   ]
  },
  {
   "cell_type": "code",
   "execution_count": 27,
   "id": "6743f0a0-2ba5-4035-bf08-84cb94429ece",
   "metadata": {},
   "outputs": [
    {
     "data": {
      "text/plain": [
       "1"
      ]
     },
     "execution_count": 27,
     "metadata": {},
     "output_type": "execute_result"
    }
   ],
   "source": [
    "i = np.zeros(1100)\n",
    "n = np.array([np.nan])\n",
    "X = np.concatenate([i, n, i])\n",
    "sum(np.isinf(X))\n",
    "sum(np.isnan(X))"
   ]
  },
  {
   "cell_type": "markdown",
   "id": "127272bf-83fb-4bde-af88-76b53b5b0988",
   "metadata": {},
   "source": [
    "### 1-5. Strings (文字列)"
   ]
  },
  {
   "cell_type": "code",
   "execution_count": 28,
   "id": "49fc4674-3666-47cb-b3a8-718e5d9259e2",
   "metadata": {},
   "outputs": [
    {
     "data": {
      "text/plain": [
       "'Kyoto'"
      ]
     },
     "execution_count": 28,
     "metadata": {},
     "output_type": "execute_result"
    }
   ],
   "source": [
    "#Strings are written with quotes\n",
    "'Kyoto'"
   ]
  },
  {
   "cell_type": "code",
   "execution_count": 29,
   "id": "e6bf8ea7-e564-4793-a83c-23ad86857dcf",
   "metadata": {},
   "outputs": [
    {
     "name": "stdout",
     "output_type": "stream",
     "text": [
      "The sum of x and y is equal to 8\n",
      "3 + 5 = 8.00\n"
     ]
    }
   ],
   "source": [
    "#sting interpolation using formatted strings\n",
    "x + y\n",
    "print(f'The sum of x and y is equal to {x+y}')\n",
    "print(f'{x} + {y} = {x+y:.2f}') #specify the number of decimal places"
   ]
  },
  {
   "cell_type": "code",
   "execution_count": 30,
   "id": "8cad291b-2b54-4962-9398-b0e6ed45f2aa",
   "metadata": {},
   "outputs": [
    {
     "data": {
      "text/plain": [
       "'Tokyo'"
      ]
     },
     "execution_count": 30,
     "metadata": {},
     "output_type": "execute_result"
    }
   ],
   "source": [
    "#concatenation\n",
    "'To' + 'kyo'"
   ]
  },
  {
   "cell_type": "code",
   "execution_count": 31,
   "id": "4cd47ede-3412-4641-9c30-ecaa6667f8b8",
   "metadata": {},
   "outputs": [
    {
     "data": {
      "text/plain": [
       "'KyotoKyotoKyoto'"
      ]
     },
     "execution_count": 31,
     "metadata": {},
     "output_type": "execute_result"
    }
   ],
   "source": [
    "'Kyoto'*3"
   ]
  },
  {
   "cell_type": "code",
   "execution_count": 32,
   "id": "b1550615-7f71-413e-bac4-0feedcdd5e5c",
   "metadata": {},
   "outputs": [
    {
     "data": {
      "text/plain": [
       "'K'"
      ]
     },
     "execution_count": 32,
     "metadata": {},
     "output_type": "execute_result"
    }
   ],
   "source": [
    "#substrings\n",
    "#strings can be accessed as arrays (0 based indexing)\n",
    "city = 'Kyoto prefecture'\n",
    "city[0]"
   ]
  },
  {
   "cell_type": "code",
   "execution_count": 33,
   "id": "e360073a-7df9-4549-886f-534b72f44166",
   "metadata": {},
   "outputs": [
    {
     "data": {
      "text/plain": [
       "'Kyoto'"
      ]
     },
     "execution_count": 33,
     "metadata": {},
     "output_type": "execute_result"
    }
   ],
   "source": [
    "#slice noation ( [min,max) )\n",
    "city[:-11]"
   ]
  },
  {
   "cell_type": "code",
   "execution_count": 34,
   "id": "65f29177-6641-4072-87bc-26e1f83648e8",
   "metadata": {},
   "outputs": [
    {
     "data": {
      "text/plain": [
       "True"
      ]
     },
     "execution_count": 34,
     "metadata": {},
     "output_type": "execute_result"
    }
   ],
   "source": [
    "#check if the strings contain a substring\n",
    "\"K\" in city"
   ]
  },
  {
   "cell_type": "code",
   "execution_count": 35,
   "id": "d0b4b23b-4f39-4490-b450-eb921b206f96",
   "metadata": {},
   "outputs": [
    {
     "ename": "TypeError",
     "evalue": "'str' object does not support item assignment",
     "output_type": "error",
     "traceback": [
      "\u001b[1;31m---------------------------------------------------------------------------\u001b[0m",
      "\u001b[1;31mTypeError\u001b[0m                                 Traceback (most recent call last)",
      "Cell \u001b[1;32mIn [35], line 2\u001b[0m\n\u001b[0;32m      1\u001b[0m \u001b[38;5;66;03m#substrings are immutable\u001b[39;00m\n\u001b[1;32m----> 2\u001b[0m \u001b[43mcity\u001b[49m\u001b[43m[\u001b[49m\u001b[43m:\u001b[49m\u001b[38;5;241;43m-\u001b[39;49m\u001b[38;5;241;43m11\u001b[39;49m\u001b[43m]\u001b[49m \u001b[38;5;241m=\u001b[39m \u001b[38;5;124m'\u001b[39m\u001b[38;5;124mkyoto\u001b[39m\u001b[38;5;124m'\u001b[39m\n",
      "\u001b[1;31mTypeError\u001b[0m: 'str' object does not support item assignment"
     ]
    }
   ],
   "source": [
    "#substrings are immutable\n",
    "city[:-11] = 'kyoto'"
   ]
  },
  {
   "cell_type": "code",
   "execution_count": 36,
   "id": "f9fcf06e-c7a8-47e9-a6e5-d0da4c929487",
   "metadata": {},
   "outputs": [
    {
     "data": {
      "text/plain": [
       "'kyoto prefecture'"
      ]
     },
     "execution_count": 36,
     "metadata": {},
     "output_type": "execute_result"
    }
   ],
   "source": [
    "city.replace('Kyoto', 'kyoto')"
   ]
  },
  {
   "cell_type": "code",
   "execution_count": 37,
   "id": "dfcaf9fa-c58b-4ca9-81a1-71a54e6e3afb",
   "metadata": {},
   "outputs": [
    {
     "data": {
      "text/plain": [
       "['Kyoto', 'prefecture']"
      ]
     },
     "execution_count": 37,
     "metadata": {},
     "output_type": "execute_result"
    }
   ],
   "source": [
    "#split strings into a list\n",
    "city.split() #split the string using a space"
   ]
  },
  {
   "cell_type": "code",
   "execution_count": 38,
   "id": "6b3cecc5-361d-40c2-839d-c8cb8a34dc34",
   "metadata": {},
   "outputs": [
    {
     "data": {
      "text/plain": [
       "['04', '01']"
      ]
     },
     "execution_count": 38,
     "metadata": {},
     "output_type": "execute_result"
    }
   ],
   "source": [
    "date=\"04-01\"\n",
    "d = date.split(\"-\")\n",
    "d"
   ]
  },
  {
   "cell_type": "code",
   "execution_count": 39,
   "id": "fd4f6b84-0dd3-4cd1-8d9e-c135de37006a",
   "metadata": {},
   "outputs": [
    {
     "data": {
      "text/plain": [
       "'04-01'"
      ]
     },
     "execution_count": 39,
     "metadata": {},
     "output_type": "execute_result"
    }
   ],
   "source": [
    "#join strings\n",
    "'-'.join(d)"
   ]
  },
  {
   "cell_type": "markdown",
   "id": "56c7937a-063c-44b1-bbf8-423ee4a1e1f6",
   "metadata": {},
   "source": [
    "### 1-6. Dynamic typing（動的型付け）"
   ]
  },
  {
   "cell_type": "markdown",
   "id": "70559575-4d55-48a3-b06f-acb3aba4a9b7",
   "metadata": {},
   "source": [
    "#### Python's dynamic typing allows us to skip the type declarations (型宣言) for variables: we can change data type of a specific variable seamlessly based on the value assigned to it.\n",
    "#### This flexibility enables us to adapt our code without rigid type constraints."
   ]
  },
  {
   "cell_type": "code",
   "execution_count": 40,
   "id": "4759b7e7-d48d-4428-89c2-bacb6180549c",
   "metadata": {},
   "outputs": [],
   "source": [
    "x = 1\n",
    "x = \"hello\"\n",
    "# You can reassign the variable x to a string value."
   ]
  },
  {
   "cell_type": "markdown",
   "id": "118b5bec-d091-4d0d-b303-11c389b1ca69",
   "metadata": {},
   "source": [
    "### Example to demonstrate the dynamic nature of Python:"
   ]
  },
  {
   "cell_type": "code",
   "execution_count": 41,
   "id": "51a5a34d-8838-4f0f-bf07-92d80a96f022",
   "metadata": {},
   "outputs": [],
   "source": [
    "#Define one method of a function print_type\n",
    "def print_type(x):\n",
    "    print(f'{x} is a string.')"
   ]
  },
  {
   "cell_type": "code",
   "execution_count": 42,
   "id": "2c5f427a-c934-4bc9-873f-89bab1fc93a5",
   "metadata": {},
   "outputs": [],
   "source": [
    "#Define another method of the same function\n",
    "def print_type(x):\n",
    "    print(f'{x} is a float.')"
   ]
  },
  {
   "cell_type": "code",
   "execution_count": 43,
   "id": "07857939-aee6-4fe8-abe5-e59ef067a3e7",
   "metadata": {},
   "outputs": [],
   "source": [
    "#Define yet another method of the fuction\n",
    "def print_type(x):\n",
    "    print(f'{x} is an integer.')"
   ]
  },
  {
   "cell_type": "code",
   "execution_count": 44,
   "id": "cec0abbb-a1b7-45fe-bb70-386941c9dac0",
   "metadata": {},
   "outputs": [
    {
     "name": "stdout",
     "output_type": "stream",
     "text": [
      "1 is an integer.\n"
     ]
    }
   ],
   "source": [
    "print_type(1)"
   ]
  },
  {
   "cell_type": "markdown",
   "id": "91123982-afb5-4d8b-bf5c-5d5e1b6199a6",
   "metadata": {},
   "source": [
    "#### You can define a function with multiple associate methods, which is not allowed in static-typing language.\n",
    "#### In Python, the interpretation process determines the appropriate methods to be executed based on the latest definition available at runtime."
   ]
  },
  {
   "cell_type": "markdown",
   "id": "99937fcd-86cf-4161-af80-5acbcc1c6dff",
   "metadata": {},
   "source": [
    "#### Notice that Julia uses `multiple dispatch` to decide which method of a fuction to execute (i.e. dispatch) when the fuction is called using argument types (integers, floats, complex numbers, or matrices)."
   ]
  },
  {
   "cell_type": "code",
   "execution_count": 45,
   "id": "6812d740-1840-41f7-a365-d6b848e8a62f",
   "metadata": {},
   "outputs": [],
   "source": [
    "#example of Julia code\n",
    "#function print_type(x::String)\n",
    "#    println(\"$x is a String\")\n",
    "#end"
   ]
  },
  {
   "cell_type": "markdown",
   "id": "f0617573-93ab-4e97-9df2-f120b3c6d7ff",
   "metadata": {},
   "source": [
    "#### The dynamic-typing of Python benefits users to enhance flexibiliy and reusability of code.\n",
    "#### However, there are trade-offs between flexibility and performance.\n",
    "#### Python object contains not only its value, but also other information: type code, data bytes, and other pieces.\n",
    "#### This extra infromation allows Python to be coded dynamically at the cost of performance."
   ]
  },
  {
   "cell_type": "markdown",
   "id": "121e3c7c-00ab-4f52-b6a7-2213039ad610",
   "metadata": {},
   "source": [
    "### Example of Duck Typing"
   ]
  },
  {
   "cell_type": "markdown",
   "id": "4434f147-750d-44ea-8367-efff9258ec0c",
   "metadata": {},
   "source": [
    "#### If an object quacks like a duck (has a quack method) and walks like a duck (has a walk method), Python treats it as a duck, irrespective of its data types.\n",
    "#### Duck typing example shows Python's flexibility by allowing objects of different types to be used interchangeably if they exhibit the necessary behaviour."
   ]
  },
  {
   "cell_type": "code",
   "execution_count": 46,
   "id": "8f2191d0-f6ee-4035-a9b9-5ae7ef1f447f",
   "metadata": {},
   "outputs": [],
   "source": [
    "def duck_sum(x): \n",
    "\ttotal = 0 \n",
    "\tfor item in x: \n",
    "\t\ttotal += item \n",
    "\treturn total"
   ]
  },
  {
   "cell_type": "code",
   "execution_count": 47,
   "id": "420e5eed-a88f-42e5-84c5-6b57653d1a96",
   "metadata": {},
   "outputs": [
    {
     "data": {
      "text/plain": [
       "array([1, 2, 3])"
      ]
     },
     "execution_count": 47,
     "metadata": {},
     "output_type": "execute_result"
    }
   ],
   "source": [
    "duck_sum([2,1])\n",
    "duck_sum([2.1,21])\n",
    "duck_sum([2.1,np.nan])\n",
    "a = np.array([0,1,2])\n",
    "duck_sum([a,1])\n",
    "#You do not have to divide cases depending on the types of auguments."
   ]
  },
  {
   "cell_type": "markdown",
   "id": "ba7623cd-f5dc-4bb5-851c-123b1c35bd58",
   "metadata": {},
   "source": [
    "### 1-7. Lists (リスト)"
   ]
  },
  {
   "cell_type": "markdown",
   "id": "d19f7545-31e3-4535-b0c7-5a2c78b1d1d7",
   "metadata": {},
   "source": [
    "#### Lists are enclosed by brackets and contains mutable ordered collections of elements."
   ]
  },
  {
   "cell_type": "code",
   "execution_count": 48,
   "id": "84312414-c4e3-457f-921c-d4db1f6fc71c",
   "metadata": {},
   "outputs": [],
   "source": [
    "l = [1,2,3,4]"
   ]
  },
  {
   "cell_type": "code",
   "execution_count": 49,
   "id": "13d04e39-279c-4a1d-8e08-0ae0d5a53db4",
   "metadata": {},
   "outputs": [
    {
     "data": {
      "text/plain": [
       "2"
      ]
     },
     "execution_count": 49,
     "metadata": {},
     "output_type": "execute_result"
    }
   ],
   "source": [
    "l[1]"
   ]
  },
  {
   "cell_type": "code",
   "execution_count": 50,
   "id": "a25156ac-052c-4389-820a-374ee4915127",
   "metadata": {},
   "outputs": [
    {
     "data": {
      "text/plain": [
       "[3, 4]"
      ]
     },
     "execution_count": 50,
     "metadata": {},
     "output_type": "execute_result"
    }
   ],
   "source": [
    "l[2:]"
   ]
  },
  {
   "cell_type": "code",
   "execution_count": 51,
   "id": "84795c09-28d4-4234-814a-41f8f58b9ef7",
   "metadata": {},
   "outputs": [
    {
     "data": {
      "text/plain": [
       "True"
      ]
     },
     "execution_count": 51,
     "metadata": {},
     "output_type": "execute_result"
    }
   ],
   "source": [
    "#test for membership\n",
    "(4 in l)"
   ]
  },
  {
   "cell_type": "code",
   "execution_count": 52,
   "id": "2da6e05c-22ff-4ae8-acb8-ec31a6d936c8",
   "metadata": {},
   "outputs": [
    {
     "data": {
      "text/plain": [
       "[1, 2, 3, 4, 5, 6, 7, [8, 9]]"
      ]
     },
     "execution_count": 52,
     "metadata": {},
     "output_type": "execute_result"
    }
   ],
   "source": [
    "# lists can be extended inplace\n",
    "l.extend([5,6]) #add several elements\n",
    "l.append(7) #add an element. \n",
    "l.append([8,9]) # add a list as an element\n",
    "l"
   ]
  },
  {
   "cell_type": "code",
   "execution_count": 53,
   "id": "eb3c15eb-591d-4a7b-869f-ec73feb4d1f9",
   "metadata": {},
   "outputs": [
    {
     "data": {
      "text/plain": [
       "[1, 2, 3, 4, 6]"
      ]
     },
     "execution_count": 53,
     "metadata": {},
     "output_type": "execute_result"
    }
   ],
   "source": [
    "#if elements can be ranked, it is possible to make sorted lists.\n",
    "l1=[1,4,2,6,3]\n",
    "l1.sort()\n",
    "l1"
   ]
  },
  {
   "cell_type": "code",
   "execution_count": 54,
   "id": "f7f1539a-c41c-4f5e-b2f4-d3cea340bc6c",
   "metadata": {},
   "outputs": [
    {
     "data": {
      "text/plain": [
       "[bool, int, float, str]"
      ]
     },
     "execution_count": 54,
     "metadata": {},
     "output_type": "execute_result"
    }
   ],
   "source": [
    "#you can create a list with different types of elements.\n",
    "l2 = [False, 2, np.nan, \"a\"]\n",
    "[type(i) for i in l2]"
   ]
  },
  {
   "cell_type": "code",
   "execution_count": 55,
   "id": "727eff29-3412-40b1-9bdd-f3b17c305e57",
   "metadata": {},
   "outputs": [
    {
     "data": {
      "text/plain": [
       "True"
      ]
     },
     "execution_count": 55,
     "metadata": {},
     "output_type": "execute_result"
    }
   ],
   "source": [
    "#lists are concatenated with +\n",
    "l1[:2] + l1[2:] == l1"
   ]
  },
  {
   "cell_type": "markdown",
   "id": "bbbf243b-f388-43de-97ac-b0c76b5ff7ea",
   "metadata": {},
   "source": [
    "### 1-8. Tuples (タプル)"
   ]
  },
  {
   "cell_type": "markdown",
   "id": "abfa9f82-8596-42b3-91ef-d8b2ae76857c",
   "metadata": {},
   "source": [
    "#### Tuples are enclosed by round brackets and `immutable` ordered collections of elements."
   ]
  },
  {
   "cell_type": "code",
   "execution_count": 56,
   "id": "51d7b3e3-1cd1-4406-8d01-c0932712ff71",
   "metadata": {},
   "outputs": [],
   "source": [
    "#Tuples can contain any data.\n",
    "t = (1,2,3,4,5)\n",
    "t1 = (t, 'f', np.nan)\n",
    "t2 = (10,) #need comma to make one element tuple"
   ]
  },
  {
   "cell_type": "code",
   "execution_count": 57,
   "id": "6d737003-122e-4786-9e31-1a8437be0c1e",
   "metadata": {},
   "outputs": [
    {
     "data": {
      "text/plain": [
       "'f'"
      ]
     },
     "execution_count": 57,
     "metadata": {},
     "output_type": "execute_result"
    }
   ],
   "source": [
    "#elements are accessed with brackets\n",
    "t1[1]"
   ]
  },
  {
   "cell_type": "code",
   "execution_count": 58,
   "id": "2b48ea3e-e7b4-4f85-81c6-c42a8260cc89",
   "metadata": {},
   "outputs": [
    {
     "data": {
      "text/plain": [
       "(3,)"
      ]
     },
     "execution_count": 58,
     "metadata": {},
     "output_type": "execute_result"
    }
   ],
   "source": [
    "#slice tuples ([min,max))\n",
    "t[2:3]"
   ]
  },
  {
   "cell_type": "code",
   "execution_count": 59,
   "id": "97734a88-e455-4eec-98eb-6bf83851a969",
   "metadata": {},
   "outputs": [
    {
     "data": {
      "text/plain": [
       "(10, 10, 10, 10, 10)"
      ]
     },
     "execution_count": 59,
     "metadata": {},
     "output_type": "execute_result"
    }
   ],
   "source": [
    "#repeat with *\n",
    "t2*5"
   ]
  },
  {
   "cell_type": "code",
   "execution_count": 60,
   "id": "62466f2a-55ab-4155-acdf-3012d61a4b10",
   "metadata": {},
   "outputs": [
    {
     "data": {
      "text/plain": [
       "(1, 2, 3, 4, 5, (1, 2, 3, 4, 5), 'f', nan, 10)"
      ]
     },
     "execution_count": 60,
     "metadata": {},
     "output_type": "execute_result"
    }
   ],
   "source": [
    "#concatenate with +\n",
    "t + t1 + t2"
   ]
  },
  {
   "cell_type": "code",
   "execution_count": 61,
   "id": "21634ce9-08d5-4356-85b0-0e19283c2db3",
   "metadata": {},
   "outputs": [
    {
     "ename": "TypeError",
     "evalue": "'tuple' object does not support item assignment",
     "output_type": "error",
     "traceback": [
      "\u001b[1;31m---------------------------------------------------------------------------\u001b[0m",
      "\u001b[1;31mTypeError\u001b[0m                                 Traceback (most recent call last)",
      "Cell \u001b[1;32mIn [61], line 2\u001b[0m\n\u001b[0;32m      1\u001b[0m \u001b[38;5;66;03m# tuples are immutable\u001b[39;00m\n\u001b[1;32m----> 2\u001b[0m \u001b[43mt\u001b[49m\u001b[43m[\u001b[49m\u001b[38;5;241;43m1\u001b[39;49m\u001b[43m]\u001b[49m \u001b[38;5;241m=\u001b[39m \u001b[38;5;241m3\u001b[39m\n",
      "\u001b[1;31mTypeError\u001b[0m: 'tuple' object does not support item assignment"
     ]
    }
   ],
   "source": [
    "# tuples are immutable\n",
    "t[1] = 3"
   ]
  },
  {
   "cell_type": "code",
   "execution_count": 62,
   "id": "20af1e3e-284f-438c-837f-bd8bcd367a1c",
   "metadata": {},
   "outputs": [
    {
     "data": {
      "text/plain": [
       "[1, 2, 3, 4, 5]"
      ]
     },
     "execution_count": 62,
     "metadata": {},
     "output_type": "execute_result"
    }
   ],
   "source": [
    "#convert tuple to list\n",
    "list(t)"
   ]
  },
  {
   "cell_type": "code",
   "execution_count": 63,
   "id": "dd91e0ab-afad-44f9-83cd-15370f2c423b",
   "metadata": {},
   "outputs": [
    {
     "data": {
      "text/plain": [
       "(1, 2, 3, 4, 5, 6, 7, [8, 9])"
      ]
     },
     "execution_count": 63,
     "metadata": {},
     "output_type": "execute_result"
    }
   ],
   "source": [
    "#convert list to tuple\n",
    "tuple(l)"
   ]
  },
  {
   "cell_type": "markdown",
   "id": "26d30529-8ebd-479b-9086-deb18ae3c6aa",
   "metadata": {
    "tags": []
   },
   "source": [
    "#### You can use tuples to define variables that are not allowed to change, which can reduce error due to unexpected changes. "
   ]
  },
  {
   "cell_type": "markdown",
   "id": "1b21a7bc-4375-4de2-8ce7-58690f1c097a",
   "metadata": {},
   "source": [
    "### 1-9. Numpy Arrays (配列)"
   ]
  },
  {
   "cell_type": "markdown",
   "id": "16087a4b-b14e-4bea-ad33-96a9aa2b4ebe",
   "metadata": {},
   "source": [
    "#### Lists are flexible and can contain heterogeneous types of elements. However, this feature requires the elements to contain additional information other than the values.\n",
    "#### When you use fixed-type variables, Numpy arrays are more efficient for manipulating data."
   ]
  },
  {
   "cell_type": "code",
   "execution_count": 64,
   "id": "5eaab687-8e22-4b34-a31e-3945b3ef0909",
   "metadata": {},
   "outputs": [
    {
     "data": {
      "text/plain": [
       "array([1, 2, 3, 4])"
      ]
     },
     "execution_count": 64,
     "metadata": {},
     "output_type": "execute_result"
    }
   ],
   "source": [
    "# All the data must have the same type.\n",
    "np.array([1,2,3,4])"
   ]
  },
  {
   "cell_type": "code",
   "execution_count": 65,
   "id": "57195345-2164-41e4-94a7-21e1b2cae560",
   "metadata": {},
   "outputs": [
    {
     "data": {
      "text/plain": [
       "array([3.14, 1.  , 2.  ])"
      ]
     },
     "execution_count": 65,
     "metadata": {},
     "output_type": "execute_result"
    }
   ],
   "source": [
    "# If types do not match, Numpy will upcast if possible.\n",
    "np.array([3.14,1,2])"
   ]
  },
  {
   "cell_type": "code",
   "execution_count": 66,
   "id": "86bb7691-3baf-43ed-8ebc-146a797cac75",
   "metadata": {},
   "outputs": [
    {
     "data": {
      "text/plain": [
       "array([3.14, 1.  , 2.  ])"
      ]
     },
     "execution_count": 66,
     "metadata": {},
     "output_type": "execute_result"
    }
   ],
   "source": [
    "# create an empty array\n",
    "# The values are uninitialized and will be whatever happens to already exist at that memory location.\n",
    "np.empty(3)"
   ]
  },
  {
   "cell_type": "code",
   "execution_count": 67,
   "id": "7a0bd4c5-8a8e-48e2-abf2-6bfa7b64650d",
   "metadata": {},
   "outputs": [
    {
     "data": {
      "text/plain": [
       "array([[0, 0, 0],\n",
       "       [0, 0, 0],\n",
       "       [0, 0, 0]])"
      ]
     },
     "execution_count": 67,
     "metadata": {},
     "output_type": "execute_result"
    }
   ],
   "source": [
    "# create an array full of zeros\n",
    "np.zeros((3,3))\n",
    "np.zeros((3,3), dtype=int)\n"
   ]
  },
  {
   "cell_type": "code",
   "execution_count": 68,
   "id": "31dd5ef8-3be8-472c-aaa7-4717beea1699",
   "metadata": {},
   "outputs": [
    {
     "data": {
      "text/plain": [
       "array([[[1, 1, 1],\n",
       "        [1, 1, 1],\n",
       "        [1, 1, 1]],\n",
       "\n",
       "       [[1, 1, 1],\n",
       "        [1, 1, 1],\n",
       "        [1, 1, 1]],\n",
       "\n",
       "       [[1, 1, 1],\n",
       "        [1, 1, 1],\n",
       "        [1, 1, 1]]])"
      ]
     },
     "execution_count": 68,
     "metadata": {},
     "output_type": "execute_result"
    }
   ],
   "source": [
    "# create an array filled with ones\n",
    "np.ones((3,3), dtype=int)\n",
    "np.ones((3,3,3), dtype=int)"
   ]
  },
  {
   "cell_type": "code",
   "execution_count": 69,
   "id": "0c301bc1-d15e-44e5-a8c2-9e9a26492c76",
   "metadata": {},
   "outputs": [
    {
     "data": {
      "text/plain": [
       "array([[4.2, 4.2, 4.2],\n",
       "       [4.2, 4.2, 4.2],\n",
       "       [4.2, 4.2, 4.2]])"
      ]
     },
     "execution_count": 69,
     "metadata": {},
     "output_type": "execute_result"
    }
   ],
   "source": [
    "# create an array filled with a specific value\n",
    "np.full((3,3),4.2)"
   ]
  },
  {
   "cell_type": "code",
   "execution_count": 70,
   "id": "d345f4e9-737c-4ad1-be08-bc1d0f8a87d5",
   "metadata": {},
   "outputs": [
    {
     "data": {
      "text/plain": [
       "array([0, 1, 2])"
      ]
     },
     "execution_count": 70,
     "metadata": {},
     "output_type": "execute_result"
    }
   ],
   "source": [
    "# create an array filled with a linear sequence\n",
    "np.arange(3)"
   ]
  },
  {
   "cell_type": "code",
   "execution_count": 71,
   "id": "97ccf669-c1e7-4e90-8694-5cdd1cda0a69",
   "metadata": {},
   "outputs": [
    {
     "data": {
      "text/plain": [
       "array([0.  , 0.25, 0.5 , 0.75, 1.  ])"
      ]
     },
     "execution_count": 71,
     "metadata": {},
     "output_type": "execute_result"
    }
   ],
   "source": [
    "# create a linearly spaced vector\n",
    "np.linspace(0,1,5)"
   ]
  },
  {
   "cell_type": "code",
   "execution_count": 72,
   "id": "5c0743b4-bf67-486d-a338-5f48685b0005",
   "metadata": {},
   "outputs": [
    {
     "data": {
      "text/plain": [
       "array([[1., 0., 0.],\n",
       "       [0., 1., 0.],\n",
       "       [0., 0., 1.]])"
      ]
     },
     "execution_count": 72,
     "metadata": {},
     "output_type": "execute_result"
    }
   ],
   "source": [
    "# create an identity matrix\n",
    "np.eye(3)"
   ]
  },
  {
   "cell_type": "code",
   "execution_count": 73,
   "id": "a534ec68-8e7b-4433-83dc-1e969dea0042",
   "metadata": {},
   "outputs": [
    {
     "data": {
      "text/plain": [
       "array([[1., 2., 1.],\n",
       "       [1., 1., 1.],\n",
       "       [1., 1., 1.]])"
      ]
     },
     "execution_count": 73,
     "metadata": {},
     "output_type": "execute_result"
    }
   ],
   "source": [
    "# modify value of element\n",
    "a = np.ones((3,3))\n",
    "a[0,1] = 2\n",
    "a"
   ]
  },
  {
   "cell_type": "code",
   "execution_count": 74,
   "id": "f564f2dc-5523-488f-8e94-6576d8a4496d",
   "metadata": {},
   "outputs": [
    {
     "data": {
      "text/plain": [
       "array([[0.99698441, 0.62339012, 0.27647973],\n",
       "       [0.20509491, 0.42859671, 0.9358375 ],\n",
       "       [0.07500105, 0.01511223, 0.18932359]])"
      ]
     },
     "execution_count": 74,
     "metadata": {},
     "output_type": "execute_result"
    }
   ],
   "source": [
    "# create a random matrix, each element uniformly distributed between 0 and 1\n",
    "np.random.rand(3,3)"
   ]
  },
  {
   "cell_type": "code",
   "execution_count": 75,
   "id": "891574ca-ce43-4b7b-af73-c321d27aadb2",
   "metadata": {},
   "outputs": [
    {
     "data": {
      "text/plain": [
       "array([[ 0.4812699 ,  0.31070872, -0.00210054],\n",
       "       [-0.48583788,  0.32455676, -0.66468746],\n",
       "       [ 1.44065906,  1.46640705, -0.53819639]])"
      ]
     },
     "execution_count": 75,
     "metadata": {},
     "output_type": "execute_result"
    }
   ],
   "source": [
    "# create a random matrix, each element normally distributed with mean 0 and standard deviation 1\n",
    "np.random.normal(0,1,(3,3))"
   ]
  },
  {
   "cell_type": "markdown",
   "id": "5e6c7343-67c3-4ca5-b33d-4415ca3da46d",
   "metadata": {
    "tags": []
   },
   "source": [
    "## 2. Basic operations on Numpy arrays"
   ]
  },
  {
   "cell_type": "markdown",
   "id": "c2c3fa36-9dc8-4c67-92fc-3592c10c7524",
   "metadata": {},
   "source": [
    "### 2-1. Basic operations"
   ]
  },
  {
   "cell_type": "code",
   "execution_count": 76,
   "id": "d30b9ee9-279e-4bf7-aa87-b20cad47d77e",
   "metadata": {},
   "outputs": [
    {
     "data": {
      "text/plain": [
       "array([[1., 1., 1.],\n",
       "       [2., 1., 1.],\n",
       "       [1., 1., 1.]])"
      ]
     },
     "execution_count": 76,
     "metadata": {},
     "output_type": "execute_result"
    }
   ],
   "source": [
    "# transpose\n",
    "a.T"
   ]
  },
  {
   "cell_type": "code",
   "execution_count": 77,
   "id": "21ce7981-a013-490b-9ce2-aeba1b1803bd",
   "metadata": {},
   "outputs": [
    {
     "data": {
      "text/plain": [
       "array([[0., 1., 0.],\n",
       "       [0., 0., 0.],\n",
       "       [0., 0., 0.]])"
      ]
     },
     "execution_count": 77,
     "metadata": {},
     "output_type": "execute_result"
    }
   ],
   "source": [
    "# addition, subtraction\n",
    "a + 1\n",
    "\n",
    "a - 1"
   ]
  },
  {
   "cell_type": "code",
   "execution_count": 78,
   "id": "b2525aec-1393-4255-b2a5-072fd7f93e34",
   "metadata": {},
   "outputs": [
    {
     "data": {
      "text/plain": [
       "array([[1., 4., 1.],\n",
       "       [1., 1., 1.],\n",
       "       [1., 1., 1.]])"
      ]
     },
     "execution_count": 78,
     "metadata": {},
     "output_type": "execute_result"
    }
   ],
   "source": [
    "# element-wise multiplication（アダマール積）\n",
    "a*a"
   ]
  },
  {
   "cell_type": "code",
   "execution_count": 79,
   "id": "bb781622-83da-42bf-b680-116edcdbf487",
   "metadata": {},
   "outputs": [
    {
     "data": {
      "text/plain": [
       "array([[4., 5., 4.],\n",
       "       [3., 4., 3.],\n",
       "       [3., 4., 3.]])"
      ]
     },
     "execution_count": 79,
     "metadata": {},
     "output_type": "execute_result"
    }
   ],
   "source": [
    "# matrix multiplication（行列積）\n",
    "a@a"
   ]
  },
  {
   "cell_type": "markdown",
   "id": "401951b4-379a-4b39-81d1-4fed4da3e686",
   "metadata": {},
   "source": [
    "### 2-2. Numpy array attributes and indexing"
   ]
  },
  {
   "cell_type": "code",
   "execution_count": 80,
   "id": "d7f4120b-caf2-4479-b942-988fef209a00",
   "metadata": {},
   "outputs": [],
   "source": [
    "np.random.seed(0)  # seed for reproducibility\n",
    "\n",
    "x1 = np.random.randint(10, size=6)  # One-dimensional array\n",
    "x2 = np.random.randint(10, size=(3, 4))  # Two-dimensional array\n",
    "x3 = np.random.randint(10, size=(3, 4, 5))  # Three-dimensional array"
   ]
  },
  {
   "cell_type": "code",
   "execution_count": 81,
   "id": "e84d2985-0650-4d5c-aedb-4fe369af36fd",
   "metadata": {},
   "outputs": [
    {
     "name": "stdout",
     "output_type": "stream",
     "text": [
      "x3 number of dimensions:  3\n",
      "x3 size of each dimension: (3, 4, 5)\n",
      "x3 total size of the array:  60\n",
      "x3 data type of the array:  int32\n"
     ]
    }
   ],
   "source": [
    "print(\"x3 number of dimensions: \", x3.ndim)\n",
    "print(\"x3 size of each dimension:\", x3.shape)\n",
    "print(\"x3 total size of the array: \", x3.size)\n",
    "print(\"x3 data type of the array: \", x3.dtype)"
   ]
  },
  {
   "cell_type": "code",
   "execution_count": 82,
   "id": "f298f071-73c5-4e2c-9d99-5149eeec5cd1",
   "metadata": {},
   "outputs": [
    {
     "data": {
      "text/plain": [
       "array([5, 0, 3, 3, 7, 9])"
      ]
     },
     "execution_count": 82,
     "metadata": {},
     "output_type": "execute_result"
    }
   ],
   "source": [
    "x1"
   ]
  },
  {
   "cell_type": "code",
   "execution_count": 83,
   "id": "f9dab85b-7132-430a-9121-6c608d054704",
   "metadata": {},
   "outputs": [
    {
     "data": {
      "text/plain": [
       "5"
      ]
     },
     "execution_count": 83,
     "metadata": {},
     "output_type": "execute_result"
    }
   ],
   "source": [
    "x1[0] #index starts from 0"
   ]
  },
  {
   "cell_type": "code",
   "execution_count": 84,
   "id": "952f3b33-a1b7-4148-9a1e-f9d9b11454b4",
   "metadata": {},
   "outputs": [
    {
     "data": {
      "text/plain": [
       "7"
      ]
     },
     "execution_count": 84,
     "metadata": {},
     "output_type": "execute_result"
    }
   ],
   "source": [
    "x1[4]"
   ]
  },
  {
   "cell_type": "code",
   "execution_count": 85,
   "id": "0037fb2e-0140-4d71-8038-c94b07542b73",
   "metadata": {},
   "outputs": [
    {
     "data": {
      "text/plain": [
       "9"
      ]
     },
     "execution_count": 85,
     "metadata": {},
     "output_type": "execute_result"
    }
   ],
   "source": [
    "x1[-1]"
   ]
  },
  {
   "cell_type": "code",
   "execution_count": 86,
   "id": "2e527e50-f48e-4bd2-8fb6-94188d101772",
   "metadata": {},
   "outputs": [
    {
     "data": {
      "text/plain": [
       "3"
      ]
     },
     "execution_count": 86,
     "metadata": {},
     "output_type": "execute_result"
    }
   ],
   "source": [
    "x1[-3]"
   ]
  },
  {
   "cell_type": "code",
   "execution_count": 87,
   "id": "5ba994f8-06c5-4dec-b95d-947132c4c273",
   "metadata": {},
   "outputs": [
    {
     "data": {
      "text/plain": [
       "array([[3, 5, 2, 4],\n",
       "       [7, 6, 8, 8],\n",
       "       [1, 6, 7, 7]])"
      ]
     },
     "execution_count": 87,
     "metadata": {},
     "output_type": "execute_result"
    }
   ],
   "source": [
    "x2"
   ]
  },
  {
   "cell_type": "code",
   "execution_count": 88,
   "id": "8ee730b8-b6f5-4426-bd13-f9395f2e023b",
   "metadata": {},
   "outputs": [
    {
     "data": {
      "text/plain": [
       "2"
      ]
     },
     "execution_count": 88,
     "metadata": {},
     "output_type": "execute_result"
    }
   ],
   "source": [
    "x2[0,-2]"
   ]
  },
  {
   "cell_type": "code",
   "execution_count": 89,
   "id": "742247f7-03ca-43b1-901b-474d6ac68b06",
   "metadata": {},
   "outputs": [
    {
     "data": {
      "text/plain": [
       "array([[[8, 1, 5, 9, 8],\n",
       "        [9, 4, 3, 0, 3],\n",
       "        [5, 0, 2, 3, 8],\n",
       "        [1, 3, 3, 3, 7]],\n",
       "\n",
       "       [[0, 1, 9, 9, 0],\n",
       "        [4, 7, 3, 2, 7],\n",
       "        [2, 0, 0, 4, 5],\n",
       "        [5, 6, 8, 4, 1]],\n",
       "\n",
       "       [[4, 9, 8, 1, 1],\n",
       "        [7, 9, 9, 3, 6],\n",
       "        [7, 2, 0, 3, 5],\n",
       "        [9, 4, 4, 6, 4]]])"
      ]
     },
     "execution_count": 89,
     "metadata": {},
     "output_type": "execute_result"
    }
   ],
   "source": [
    "x3"
   ]
  },
  {
   "cell_type": "code",
   "execution_count": 90,
   "id": "1b373ae9-5f4d-449b-baae-fc12bff34495",
   "metadata": {},
   "outputs": [
    {
     "data": {
      "text/plain": [
       "2"
      ]
     },
     "execution_count": 90,
     "metadata": {},
     "output_type": "execute_result"
    }
   ],
   "source": [
    "x3[1,2,0]"
   ]
  },
  {
   "cell_type": "code",
   "execution_count": 91,
   "id": "9d4d851b-f209-417a-b0b2-716d040e8aca",
   "metadata": {},
   "outputs": [
    {
     "data": {
      "text/plain": [
       "array([3, 5])"
      ]
     },
     "execution_count": 91,
     "metadata": {},
     "output_type": "execute_result"
    }
   ],
   "source": [
    "# extract a slice\n",
    "# slicing: x[start:stop:step]\n",
    "x2[0,0:2]"
   ]
  },
  {
   "cell_type": "code",
   "execution_count": 92,
   "id": "b197d59f-d95e-4391-87d2-3a3fec584e5e",
   "metadata": {},
   "outputs": [
    {
     "data": {
      "text/plain": [
       "array([3, 2])"
      ]
     },
     "execution_count": 92,
     "metadata": {},
     "output_type": "execute_result"
    }
   ],
   "source": [
    "x2[0,0:3:2]"
   ]
  },
  {
   "cell_type": "code",
   "execution_count": 93,
   "id": "47fd3a98-9d94-4462-8820-187b13535c12",
   "metadata": {},
   "outputs": [
    {
     "data": {
      "text/plain": [
       "array([[[8, 1, 5, 9, 8],\n",
       "        [9, 4, 3, 0, 3]],\n",
       "\n",
       "       [[0, 1, 9, 9, 0],\n",
       "        [4, 7, 3, 2, 7]]])"
      ]
     },
     "execution_count": 93,
     "metadata": {},
     "output_type": "execute_result"
    }
   ],
   "source": [
    "# multidimensional slicing\n",
    "x3[0:2,0:2]"
   ]
  },
  {
   "cell_type": "code",
   "execution_count": 94,
   "id": "9f25a261-9dfc-4fec-b11c-05d80eaeda7e",
   "metadata": {},
   "outputs": [
    {
     "data": {
      "text/plain": [
       "array([4, 2, 5, 3])"
      ]
     },
     "execution_count": 94,
     "metadata": {},
     "output_type": "execute_result"
    }
   ],
   "source": [
    "x2[0,::-1]"
   ]
  },
  {
   "cell_type": "code",
   "execution_count": 95,
   "id": "3b80b059-dd90-418b-b882-a34196065622",
   "metadata": {},
   "outputs": [
    {
     "data": {
      "text/plain": [
       "array([3, 5, 2, 4, 1])"
      ]
     },
     "execution_count": 95,
     "metadata": {},
     "output_type": "execute_result"
    }
   ],
   "source": [
    "# boolean indexing\n",
    "x2[x2<6]"
   ]
  },
  {
   "cell_type": "code",
   "execution_count": 96,
   "id": "2da42c25-25e2-4c12-8af2-d10f5829642b",
   "metadata": {},
   "outputs": [
    {
     "data": {
      "text/plain": [
       "array([[1, 1, 1, 1],\n",
       "       [1, 1, 1, 1],\n",
       "       [1, 1, 1, 1]])"
      ]
     },
     "execution_count": 96,
     "metadata": {},
     "output_type": "execute_result"
    }
   ],
   "source": [
    "# ellipsis (inplace operations)\n",
    "x2[...] = 1\n",
    "x2"
   ]
  },
  {
   "cell_type": "code",
   "execution_count": 97,
   "id": "1f0407ec-5c6a-476c-9cee-eb23f8a0a888",
   "metadata": {},
   "outputs": [
    {
     "data": {
      "text/plain": [
       "array([[[8, 1, 5, 9, 8],\n",
       "        [9, 4, 3, 0, 3],\n",
       "        [5, 0, 2, 3, 8],\n",
       "        [1, 3, 3, 3, 7]],\n",
       "\n",
       "       [[0, 1, 9, 9, 0],\n",
       "        [4, 7, 3, 2, 7],\n",
       "        [2, 0, 0, 4, 5],\n",
       "        [5, 6, 8, 4, 1]],\n",
       "\n",
       "       [[4, 9, 8, 1, 1],\n",
       "        [7, 9, 9, 3, 6],\n",
       "        [7, 2, 0, 3, 5],\n",
       "        [9, 4, 4, 6, 4]]])"
      ]
     },
     "execution_count": 97,
     "metadata": {},
     "output_type": "execute_result"
    }
   ],
   "source": [
    "# Notice that array slices return views rather than copies of the array data.\n",
    "x3"
   ]
  },
  {
   "cell_type": "code",
   "execution_count": 98,
   "id": "491e0f80-6713-4b11-ba6e-8c24bf2642d9",
   "metadata": {},
   "outputs": [
    {
     "data": {
      "text/plain": [
       "array([9, 4, 3, 0, 3])"
      ]
     },
     "execution_count": 98,
     "metadata": {},
     "output_type": "execute_result"
    }
   ],
   "source": [
    "x3_sub = x3[0,1,:]\n",
    "x3_sub"
   ]
  },
  {
   "cell_type": "code",
   "execution_count": 99,
   "id": "c3fb1bcb-406d-44a2-b08e-b54f3af3360f",
   "metadata": {},
   "outputs": [],
   "source": [
    "x3_sub[0:] = 1\n",
    "# modifying this subarray changes the original array."
   ]
  },
  {
   "cell_type": "code",
   "execution_count": 100,
   "id": "9faf6ee3-47a2-4013-a04d-46f22f6dcf85",
   "metadata": {},
   "outputs": [
    {
     "data": {
      "text/plain": [
       "array([[[8, 1, 5, 9, 8],\n",
       "        [1, 1, 1, 1, 1],\n",
       "        [5, 0, 2, 3, 8],\n",
       "        [1, 3, 3, 3, 7]],\n",
       "\n",
       "       [[0, 1, 9, 9, 0],\n",
       "        [4, 7, 3, 2, 7],\n",
       "        [2, 0, 0, 4, 5],\n",
       "        [5, 6, 8, 4, 1]],\n",
       "\n",
       "       [[4, 9, 8, 1, 1],\n",
       "        [7, 9, 9, 3, 6],\n",
       "        [7, 2, 0, 3, 5],\n",
       "        [9, 4, 4, 6, 4]]])"
      ]
     },
     "execution_count": 100,
     "metadata": {},
     "output_type": "execute_result"
    }
   ],
   "source": [
    "x3"
   ]
  },
  {
   "cell_type": "code",
   "execution_count": 101,
   "id": "393132d7-d473-4efd-9b99-9d7bb76d6355",
   "metadata": {},
   "outputs": [
    {
     "data": {
      "text/plain": [
       "array([[[8, 1, 5, 9, 8],\n",
       "        [1, 1, 1, 1, 1],\n",
       "        [5, 0, 2, 3, 8],\n",
       "        [1, 3, 3, 3, 7]],\n",
       "\n",
       "       [[0, 1, 9, 9, 0],\n",
       "        [4, 7, 3, 2, 7],\n",
       "        [2, 0, 0, 4, 5],\n",
       "        [5, 6, 8, 4, 1]],\n",
       "\n",
       "       [[4, 9, 8, 1, 1],\n",
       "        [7, 9, 9, 3, 6],\n",
       "        [7, 2, 0, 3, 5],\n",
       "        [9, 4, 4, 6, 4]]])"
      ]
     },
     "execution_count": 101,
     "metadata": {},
     "output_type": "execute_result"
    }
   ],
   "source": [
    "#If you do not want to change the original array, you can make copy of the subarrays.\n",
    "x3_sub_copy = x3[0,2,:]\n",
    "x3_sub_copy\n",
    "x3_sub[0:] = 1\n",
    "x3"
   ]
  },
  {
   "cell_type": "markdown",
   "id": "4db8c563-67eb-4484-96ea-b2fcaf2b8685",
   "metadata": {},
   "source": [
    "### 2-3. Universal Functions"
   ]
  },
  {
   "cell_type": "markdown",
   "id": "086d43d9-a18b-4e37-9f6d-eb88a8a5658b",
   "metadata": {},
   "source": [
    "#### In order to deal with the weakness of slow loops in Python, we can use Numpy's universal functions, which implements vectorized operations and can be used to make repeated calculations on array elements much more efficiently."
   ]
  },
  {
   "cell_type": "code",
   "execution_count": 102,
   "id": "2e71aae3-35c7-4820-90cf-1d750f6a5c31",
   "metadata": {},
   "outputs": [
    {
     "name": "stdout",
     "output_type": "stream",
     "text": [
      "988 ms ± 43 ms per loop (mean ± std. dev. of 7 runs, 1 loop each)\n"
     ]
    }
   ],
   "source": [
    "%%timeit # for loop\n",
    "import math\n",
    "n = 10000000\n",
    "y = [0] * n\n",
    "for i in range(0, n):\n",
    "    y[i] = math.sqrt(i)\n",
    "    y"
   ]
  },
  {
   "cell_type": "code",
   "execution_count": 103,
   "id": "5ec867ac-7265-42e9-9adf-3c7121672628",
   "metadata": {},
   "outputs": [
    {
     "name": "stdout",
     "output_type": "stream",
     "text": [
      "31.6 ms ± 472 µs per loop (mean ± std. dev. of 7 runs, 10 loops each)\n"
     ]
    }
   ],
   "source": [
    "%%timeit # universal function\n",
    "x = np.arange(10000000)\n",
    "y = np.sqrt(x)\n",
    "y"
   ]
  },
  {
   "cell_type": "code",
   "execution_count": 104,
   "id": "d66aec50-84aa-4e74-b23d-9bb5fce22a06",
   "metadata": {},
   "outputs": [
    {
     "name": "stdout",
     "output_type": "stream",
     "text": [
      "1.02 s ± 26.1 ms per loop (mean ± std. dev. of 7 runs, 1 loop each)\n"
     ]
    }
   ],
   "source": [
    "%%timeit # list comprehension\n",
    "import math\n",
    "n = 10000000\n",
    "results = [math.sqrt(i) for i in range(0, n)]\n",
    "results"
   ]
  },
  {
   "cell_type": "markdown",
   "id": "dbbc8794-d947-43ab-92e4-fb4f80bfdbf9",
   "metadata": {},
   "source": [
    "### 2-4. Broadcasting"
   ]
  },
  {
   "cell_type": "markdown",
   "id": "ed7dc128-786f-44e1-b883-5dd09b076727",
   "metadata": {},
   "source": [
    "#### Broadcasting allows us to implement element-by-element basis binary operations on arrays of different sizes.\n",
    "#### It applies binary universal functions on arrays of different sizes."
   ]
  },
  {
   "cell_type": "markdown",
   "id": "e4c57f78-f6b9-4ca1-9836-bcc1247da85e",
   "metadata": {
    "tags": []
   },
   "source": [
    "#### Rules of Broadcasting\n",
    "Broadcasting in NumPy follows a strict set of rules to determine the interaction between the two arrays:\n",
    "\n",
    "Rule 1: If the two arrays differ in their number of dimensions, the shape of the one with fewer dimensions is padded with ones on its leading (left) side.\n",
    "\n",
    "Rule 2: If the shape of the two arrays does not match in any dimension, the array with shape equal to 1 in that dimension is stretched to match the other shape.\n",
    "\n",
    "Rule 3: If in any dimension the sizes disagree and neither is equal to 1, an error is raised.\n",
    "\n",
    "see https://jakevdp.github.io/PythonDataScienceHandbook/02.05-computation-on-arrays-broadcasting.html"
   ]
  },
  {
   "cell_type": "code",
   "execution_count": 105,
   "id": "36c06d57-d721-44bc-9749-569e29ae07ba",
   "metadata": {},
   "outputs": [
    {
     "data": {
      "text/plain": [
       "array([[0.4, 1.5, 2.6],\n",
       "       [4.4, 5.5, 6.6]])"
      ]
     },
     "execution_count": 105,
     "metadata": {},
     "output_type": "execute_result"
    }
   ],
   "source": [
    "a = np.array([[0,1,2],[4,5,6]])\n",
    "b = np.array([0.4,0.5,0.6])\n",
    "a + b"
   ]
  },
  {
   "cell_type": "code",
   "execution_count": 106,
   "id": "7754cc06-caff-4d16-a9db-23255d741325",
   "metadata": {},
   "outputs": [
    {
     "data": {
      "text/plain": [
       "array([[0.4, 1.5, 2.6],\n",
       "       [4.4, 5.5, 6.6],\n",
       "       [7.4, 8.5, 9.6]])"
      ]
     },
     "execution_count": 106,
     "metadata": {},
     "output_type": "execute_result"
    }
   ],
   "source": [
    "a = np.array([[0,1,2],[4,5,6],[7,8,9]])\n",
    "b = np.array([0.4,0.5,0.6])\n",
    "a + b"
   ]
  },
  {
   "cell_type": "code",
   "execution_count": 107,
   "id": "7517d331-0e5b-4c18-bdf9-60e7593f55f9",
   "metadata": {},
   "outputs": [
    {
     "name": "stdout",
     "output_type": "stream",
     "text": [
      "[[[ 1.68271763  2.41537988]\n",
      "  [-1.23500574 -1.80475894]\n",
      "  [-0.39375567 -1.00459846]]\n",
      "\n",
      " [[-0.76527469  2.13732028]\n",
      "  [ 1.01829543  1.7804533 ]\n",
      "  [ 0.42675087 -2.13880127]]\n",
      "\n",
      " [[ 0.05263767  0.9580542 ]\n",
      "  [-0.12317518  0.66795447]\n",
      "  [ 0.81096522 -4.37807819]]\n",
      "\n",
      " [[ 1.15230993  1.3552806 ]\n",
      "  [ 0.58497138  0.904819  ]\n",
      "  [ 1.96626631 -2.1353174 ]]]\n",
      "(4, 3, 2)\n"
     ]
    }
   ],
   "source": [
    "a = np.random.randn(4,3,2)\n",
    "b = np.random.randn(1,3,2)\n",
    "print(a + b)\n",
    "print((a + b).shape)"
   ]
  },
  {
   "cell_type": "code",
   "execution_count": 108,
   "id": "edc5abce-23d5-4407-bc3e-eaa85f280b41",
   "metadata": {},
   "outputs": [
    {
     "ename": "ValueError",
     "evalue": "operands could not be broadcast together with shapes (4,3,3) (1,3,2) ",
     "output_type": "error",
     "traceback": [
      "\u001b[1;31m---------------------------------------------------------------------------\u001b[0m",
      "\u001b[1;31mValueError\u001b[0m                                Traceback (most recent call last)",
      "Cell \u001b[1;32mIn [108], line 3\u001b[0m\n\u001b[0;32m      1\u001b[0m a \u001b[38;5;241m=\u001b[39m np\u001b[38;5;241m.\u001b[39mrandom\u001b[38;5;241m.\u001b[39mrandn(\u001b[38;5;241m4\u001b[39m,\u001b[38;5;241m3\u001b[39m,\u001b[38;5;241m3\u001b[39m)\n\u001b[0;32m      2\u001b[0m b \u001b[38;5;241m=\u001b[39m np\u001b[38;5;241m.\u001b[39mrandom\u001b[38;5;241m.\u001b[39mrandn(\u001b[38;5;241m1\u001b[39m,\u001b[38;5;241m3\u001b[39m,\u001b[38;5;241m2\u001b[39m)\n\u001b[1;32m----> 3\u001b[0m \u001b[38;5;28mprint\u001b[39m(\u001b[43ma\u001b[49m\u001b[43m \u001b[49m\u001b[38;5;241;43m+\u001b[39;49m\u001b[43m \u001b[49m\u001b[43mb\u001b[49m)\n\u001b[0;32m      4\u001b[0m \u001b[38;5;28mprint\u001b[39m((a \u001b[38;5;241m+\u001b[39m b)\u001b[38;5;241m.\u001b[39mshape)\n",
      "\u001b[1;31mValueError\u001b[0m: operands could not be broadcast together with shapes (4,3,3) (1,3,2) "
     ]
    }
   ],
   "source": [
    "a = np.random.randn(4,3,3)\n",
    "b = np.random.randn(1,3,2)\n",
    "print(a + b)\n",
    "print((a + b).shape)"
   ]
  },
  {
   "cell_type": "code",
   "execution_count": 109,
   "id": "c8915a65-53b0-4807-b13a-f3a1a894f923",
   "metadata": {},
   "outputs": [
    {
     "ename": "ValueError",
     "evalue": "operands could not be broadcast together with shapes (2,3) (2,) ",
     "output_type": "error",
     "traceback": [
      "\u001b[1;31m---------------------------------------------------------------------------\u001b[0m",
      "\u001b[1;31mValueError\u001b[0m                                Traceback (most recent call last)",
      "Cell \u001b[1;32mIn [109], line 3\u001b[0m\n\u001b[0;32m      1\u001b[0m v \u001b[38;5;241m=\u001b[39m np\u001b[38;5;241m.\u001b[39marray([\u001b[38;5;241m1\u001b[39m,\u001b[38;5;241m2\u001b[39m])\u001b[38;5;66;03m#.reshape(2,1)\u001b[39;00m\n\u001b[0;32m      2\u001b[0m a \u001b[38;5;241m=\u001b[39m np\u001b[38;5;241m.\u001b[39marray([[\u001b[38;5;241m1\u001b[39m,\u001b[38;5;241m2\u001b[39m,\u001b[38;5;241m3\u001b[39m],[\u001b[38;5;241m4\u001b[39m,\u001b[38;5;241m5\u001b[39m,\u001b[38;5;241m6\u001b[39m]])\n\u001b[1;32m----> 3\u001b[0m \u001b[43ma\u001b[49m\u001b[38;5;241;43m+\u001b[39;49m\u001b[43mv\u001b[49m\n",
      "\u001b[1;31mValueError\u001b[0m: operands could not be broadcast together with shapes (2,3) (2,) "
     ]
    }
   ],
   "source": [
    "v = np.array([1,2])#.reshape(2,1)\n",
    "a = np.array([[1,2,3],[4,5,6]])\n",
    "a+v"
   ]
  },
  {
   "cell_type": "code",
   "execution_count": 110,
   "id": "0027de55-1df8-43e7-94d6-457d6dd9aca1",
   "metadata": {},
   "outputs": [
    {
     "data": {
      "text/plain": [
       "array([[2, 3, 4],\n",
       "       [6, 7, 8]])"
      ]
     },
     "execution_count": 110,
     "metadata": {},
     "output_type": "execute_result"
    }
   ],
   "source": [
    "v = np.array([1,2])#.reshape(2,1)\n",
    "a = np.array([[1,2,3],[4,5,6]])\n",
    "a+v[:,np.newaxis]"
   ]
  },
  {
   "cell_type": "code",
   "execution_count": 111,
   "id": "1113a8c6-e6d5-42a0-9b54-c4b8952f7b3b",
   "metadata": {},
   "outputs": [
    {
     "data": {
      "text/plain": [
       "array([[1],\n",
       "       [2]])"
      ]
     },
     "execution_count": 111,
     "metadata": {},
     "output_type": "execute_result"
    }
   ],
   "source": [
    "v[:,np.newaxis]"
   ]
  },
  {
   "cell_type": "code",
   "execution_count": null,
   "id": "f3e8605d-f56e-4142-bf1e-ae3d06e119fd",
   "metadata": {},
   "outputs": [],
   "source": []
  },
  {
   "cell_type": "markdown",
   "id": "ef53a811-7fab-437a-8b3c-95e53fef7d7b",
   "metadata": {
    "tags": []
   },
   "source": [
    "## 3. Control flow (制御フロー)"
   ]
  },
  {
   "cell_type": "markdown",
   "id": "92d8813c-4a8b-44fe-9154-a2684f2d0280",
   "metadata": {},
   "source": [
    "### 3-1. if-elseif-else conditions"
   ]
  },
  {
   "cell_type": "code",
   "execution_count": 112,
   "id": "63fb637a-059f-4ff3-9444-8d51788db98f",
   "metadata": {},
   "outputs": [
    {
     "name": "stdout",
     "output_type": "stream",
     "text": [
      "x is negative\n"
     ]
    }
   ],
   "source": [
    "x = -1\n",
    "if x<0:\n",
    "    print(\"x is negative\")\n",
    "elif x >0:\n",
    "    print(\"x is positive\")\n",
    "else:\n",
    "    print(\"x is zero\")"
   ]
  },
  {
   "cell_type": "code",
   "execution_count": 113,
   "id": "dac5cd22-4b60-47a0-9f25-b3431dadb60b",
   "metadata": {},
   "outputs": [
    {
     "name": "stdout",
     "output_type": "stream",
     "text": [
      "x<0\n"
     ]
    }
   ],
   "source": [
    "#ternary operator （三項演算子）\n",
    "print(\"x<0\") if x < 0 else print(\"x≥0\")"
   ]
  },
  {
   "cell_type": "markdown",
   "id": "9e678c45-42d3-4c8c-850d-d77d0cd79885",
   "metadata": {},
   "source": [
    "### 3-2. While loops"
   ]
  },
  {
   "cell_type": "code",
   "execution_count": 114,
   "id": "2e196d3b-bd7a-4843-be2f-8cb95ed1a42b",
   "metadata": {},
   "outputs": [
    {
     "name": "stdout",
     "output_type": "stream",
     "text": [
      "x = 4\n",
      "x = 3\n",
      "x = 2\n",
      "x = 1\n",
      "x = 0\n"
     ]
    }
   ],
   "source": [
    "x = 5\n",
    "while x > 0:\n",
    "    x -= 1\n",
    "    print(f\"x = {x}\")"
   ]
  },
  {
   "cell_type": "code",
   "execution_count": 115,
   "id": "4b319a77-cc1e-468c-830b-d9cf6573c170",
   "metadata": {},
   "outputs": [
    {
     "name": "stdout",
     "output_type": "stream",
     "text": [
      "x = 6\n",
      "x = 7\n",
      "x = 8\n",
      "x = 9\n",
      "x = 10\n",
      "x = 11\n",
      "x = 12\n",
      "x = 13\n",
      "x = 14\n",
      "x = 15\n",
      "x = 16\n",
      "x = 17\n",
      "x = 18\n",
      "x = 19\n",
      "x = 20\n"
     ]
    }
   ],
   "source": [
    "x = 5\n",
    "while x > 0:\n",
    "    x += 1 #go into an infinite loop\n",
    "    print(f\"x = {x}\")\n",
    "    if x ==20:\n",
    "        break #terminate the loop when the condition is satisfied"
   ]
  },
  {
   "cell_type": "markdown",
   "id": "39d2ed69-fd0b-4083-b089-190ce7390449",
   "metadata": {},
   "source": [
    "### 3-3. For loops"
   ]
  },
  {
   "cell_type": "code",
   "execution_count": 116,
   "id": "440aa185-2d06-49f4-b228-808070462f9c",
   "metadata": {},
   "outputs": [
    {
     "name": "stdout",
     "output_type": "stream",
     "text": [
      "i = 1\n",
      "i = 2\n",
      "i = 3\n",
      "i = 4\n",
      "i = 5\n",
      "i = 6\n",
      "i = 7\n",
      "i = 8\n",
      "i = 9\n"
     ]
    }
   ],
   "source": [
    "for i in range(1,10):\n",
    "    print(f\"i = {i}\")"
   ]
  },
  {
   "cell_type": "code",
   "execution_count": 117,
   "id": "84702fba-160d-40cd-9d26-e23f781d1ada",
   "metadata": {},
   "outputs": [
    {
     "name": "stdout",
     "output_type": "stream",
     "text": [
      "[1 2 3]\n",
      "[4 5 6]\n"
     ]
    }
   ],
   "source": [
    "#iterate over an array\n",
    "Y = np.array([[1,2,3],[4,5,6]])\n",
    "for i in Y:\n",
    "    print(f'{i}')"
   ]
  },
  {
   "cell_type": "code",
   "execution_count": 118,
   "id": "868eb620-bd03-44f9-bc53-3c556d3d0d31",
   "metadata": {},
   "outputs": [
    {
     "data": {
      "text/plain": [
       "array([ True,  True,  True,  True,  True,  True,  True,  True,  True,\n",
       "        True])"
      ]
     },
     "execution_count": 118,
     "metadata": {},
     "output_type": "execute_result"
    }
   ],
   "source": [
    "K = np.arange(10)\n",
    "s = np.empty(10)\n",
    "for (index, value) in enumerate(K):\n",
    "    s[index]=value\n",
    "s==K"
   ]
  },
  {
   "cell_type": "code",
   "execution_count": 119,
   "id": "b06113e4-4e63-42ad-a262-1e87a9da976c",
   "metadata": {},
   "outputs": [
    {
     "name": "stdout",
     "output_type": "stream",
     "text": [
      "Tokyo\n",
      "Osaka\n",
      "Nagoya\n"
     ]
    }
   ],
   "source": [
    "Pref = [\"Tokyo\", \"Osaka\", \"Nagoya\"]\n",
    "for i in Pref:\n",
    "    print(i)"
   ]
  },
  {
   "cell_type": "markdown",
   "id": "bc2b8282-801b-48b0-9ddc-b5acdd9a055e",
   "metadata": {},
   "source": [
    "### 3-4. List comprehensions (リスト内包表記)"
   ]
  },
  {
   "cell_type": "code",
   "execution_count": 120,
   "id": "29ee48d4-8108-4d1d-9564-f887b89e30fc",
   "metadata": {},
   "outputs": [
    {
     "data": {
      "text/plain": [
       "array([0., 1., 2., 3., 4., 5., 6., 7., 8., 9.])"
      ]
     },
     "execution_count": 120,
     "metadata": {},
     "output_type": "execute_result"
    }
   ],
   "source": [
    "isq = np.empty(10)\n",
    "for i in range(10):\n",
    "    isq[i]=i\n",
    "isq"
   ]
  },
  {
   "cell_type": "code",
   "execution_count": 121,
   "id": "13e83256-ac4e-43d7-9450-a34f23f6b2d1",
   "metadata": {},
   "outputs": [
    {
     "data": {
      "text/plain": [
       "[0, 1, 2, 3, 4, 5, 6, 7, 8, 9]"
      ]
     },
     "execution_count": 121,
     "metadata": {},
     "output_type": "execute_result"
    }
   ],
   "source": [
    "isq_lc = [i for i in range(10)]\n",
    "isq_lc\n",
    "#np.array(isq_lc)"
   ]
  },
  {
   "cell_type": "markdown",
   "id": "575b3c37-4043-45fb-800a-b9d8b4f9b088",
   "metadata": {},
   "source": [
    "## 4. Exercises"
   ]
  },
  {
   "cell_type": "markdown",
   "id": "6321a7ca-19aa-4703-aced-c2e5dd0a645a",
   "metadata": {},
   "source": [
    "#### $\\mathit{Q}$-1. Write a function to count the number 4 in a given list."
   ]
  },
  {
   "cell_type": "code",
   "execution_count": null,
   "id": "3710e29c-1a73-4f82-a665-3daa67344170",
   "metadata": {},
   "outputs": [],
   "source": [
    "def L(x):\n",
    "    \n",
    "    "
   ]
  },
  {
   "cell_type": "code",
   "execution_count": null,
   "id": "dad5d1b0-a648-4df4-871e-47eb68236456",
   "metadata": {},
   "outputs": [],
   "source": [
    "L([1,2,3,4,4])\n",
    "L([1,2,3,4,4,4])"
   ]
  },
  {
   "cell_type": "markdown",
   "id": "686a05f6-32fd-430c-ac97-d26f796c0168",
   "metadata": {},
   "source": [
    "#### $\\mathit{Q}$-2. Consider the polynominal $p(x)=\\sum_{i=0}^n \\alpha_i x^i$. Using `enumerate()` in your loop, write a function $p(x)$ such that $p(x, \\alpha)$ computes the value given $x$ and an array of coefficients $\\alpha=(\\alpha_{0},\\alpha_{1},...,\\alpha_{n})$."
   ]
  },
  {
   "cell_type": "code",
   "execution_count": null,
   "id": "37b537b7-48d7-4f4b-ab19-75a099990e9c",
   "metadata": {},
   "outputs": [],
   "source": []
  },
  {
   "cell_type": "code",
   "execution_count": null,
   "id": "078e0a5a-7985-46ad-9617-65b7ffc2662d",
   "metadata": {},
   "outputs": [],
   "source": []
  }
 ],
 "metadata": {
  "kernelspec": {
   "display_name": "Python 3 (ipykernel)",
   "language": "python",
   "name": "python3"
  },
  "language_info": {
   "codemirror_mode": {
    "name": "ipython",
    "version": 3
   },
   "file_extension": ".py",
   "mimetype": "text/x-python",
   "name": "python",
   "nbconvert_exporter": "python",
   "pygments_lexer": "ipython3",
   "version": "3.10.7"
  }
 },
 "nbformat": 4,
 "nbformat_minor": 5
}
